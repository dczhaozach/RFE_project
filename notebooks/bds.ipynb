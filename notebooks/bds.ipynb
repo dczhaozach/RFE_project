{
 "cells": [
  {
   "cell_type": "markdown",
   "id": "0c8b52c8-c700-4e90-b8ec-154eb41e47d3",
   "metadata": {},
   "source": [
    "# Firm Exit Rates and Regulation"
   ]
  },
  {
   "cell_type": "code",
   "execution_count": 1,
   "id": "8eaf1151",
   "metadata": {},
   "outputs": [],
   "source": [
    "# library\n",
    "import os \n",
    "import pandas as pd\n",
    "import numpy as np\n",
    "import matplotlib.pyplot as plt # plot\n",
    "import plotly.express as px # geographic plot\n",
    "from plotly.offline import plot # plot geographic maps\n",
    "import plotly.graph_objects as go\n",
    "import statsmodels.formula.api as smf # regression with formula\n",
    "from stargazer.stargazer import Stargazer # latex table\n",
    "import itertools # iteration pool\n",
    "from linearmodels.panel import PanelOLS\n",
    "import lxml\n",
    "from tabulate import tabulate\n"
   ]
  },
  {
   "cell_type": "code",
   "execution_count": 2,
   "id": "7991b080-40bd-49bd-9bdf-d1c7b54d6043",
   "metadata": {},
   "outputs": [],
   "source": [
    "# Options\n",
    "os.chdir(\"C:\\\\Users\\\\zach_\\\\Desktop\\\\Research\\\\BDS\")\n",
    "pd.set_option(\"display.max.columns\", 20)\n",
    "%matplotlib inline\n",
    "%load_ext Cython\n",
    "pd.options.mode.use_inf_as_na = True\n",
    "pd.options.display.max_columns = 500\n",
    "\n",
    "# Parameters\n",
    "save_fig = False"
   ]
  },
  {
   "cell_type": "markdown",
   "id": "b9e64dfe-9b8a-4ea9-85ba-f47917b1e0b9",
   "metadata": {},
   "source": [
    "## 1. Secular Trends of Firm Exit Rates "
   ]
  },
  {
   "cell_type": "markdown",
   "id": "1251d723",
   "metadata": {},
   "source": [
    "### a). Conditional on Age"
   ]
  },
  {
   "cell_type": "code",
   "execution_count": 100,
   "id": "4768daaf-0b4e-4cac-ab2c-090b9701f8a7",
   "metadata": {},
   "outputs": [],
   "source": [
    "# read bds data\n",
    "bds_age = pd.read_csv('C:\\\\Users\\\\zach_\\\\Nobackupfile\\\\Data\\\\BDS\\\\bds2019_firm_age.csv')"
   ]
  },
  {
   "cell_type": "code",
   "execution_count": 102,
   "id": "80a2bb15-5d30-4bbf-aeb0-ecad7dad8f33",
   "metadata": {},
   "outputs": [],
   "source": [
    "# clean and construct variables\n",
    "bds_age['firms'] = pd.to_numeric(bds_age['firms'], errors='coerce', downcast=None)\n",
    "bds_age['firmdeath_firms'] = pd.to_numeric(bds_age['firmdeath_firms'], errors='coerce', downcast=None)\n",
    "bds_age['firm_death_rate'] = bds_age['firmdeath_firms']/ bds_age['firms']\n",
    "bds_age['year'] = pd.to_numeric(bds_age['year'], errors='coerce', downcast=None)\n",
    "\n",
    "# age group measure\n",
    "bds_age['entry'] = (bds_age['fage'] == 'b) 1')\n",
    "bds_age['new'] = (bds_age['fage'] == 'c) 2')|(bds_age['fage'] == 'd) 3')|(bds_age['fage'] == 'e) 4')|(bds_age['fage'] == 'f) 5') \n",
    "bds_age['young'] = (bds_age['fage'] == 'g) 6 to 10')\n",
    "bds_age['old']  = (bds_age['fage'] == 'h) 11 to 15')|(bds_age['fage'] == 'i) 16 to 20')|(bds_age['fage'] == 'j) 21 to 25')|(bds_age['fage'] == 'k) 26+')|(bds_age['fage'] == 'l) Left Censored') \n",
    "bds_age['age_gp'] = bds_age['entry']* 1 + bds_age['new']*2 + bds_age['young'] *3 + bds_age['old'] *4\n",
    "\n",
    "# sample restriction\n",
    "bds_age = bds_age[bds_age['age_gp'] != 0]"
   ]
  },
  {
   "cell_type": "code",
   "execution_count": 106,
   "id": "ecc0aaec-bb70-435b-9d77-5823285bf0b9",
   "metadata": {},
   "outputs": [],
   "source": [
    "# construct death rate\n",
    "death_rate_age = pd.DataFrame()\n",
    "death_rate_age['1985 - 1990'] = bds_age[(bds_age['year']>1985)&(bds_age['year']<1991) ].groupby('age_gp')['firmdeath_firms'].sum() / \\\n",
    "                            bds_age[(bds_age['year']>1985)&(bds_age['year']<1991) ].groupby('age_gp')['firms'].sum()\n",
    "\n",
    "death_rate_age['2015 - 2019'] = bds_age[(bds_age['year']>2014)&(bds_age['year']<2020) ].groupby('age_gp')['firmdeath_firms'].sum() / \\\n",
    "                            bds_age[(bds_age['year']>2014)&(bds_age['year']<2020) ].groupby('age_gp')['firms'].sum()\n",
    "death_rate_age['change_rate'] = (death_rate_age['2015 - 2019'] - death_rate_age['1985 - 1990'])/death_rate_age['1985 - 1990']\n",
    "\n",
    "fig = death_rate_age.plot.bar(title='Exit Rates by Ages')\n",
    "fig.set_xlabel(\"Age Groups\")\n",
    "fig.set_ylabel(\"Exit Rates\")\n",
    "fig = fig.get_figure()\n",
    "\n",
    "if save_fig:\n",
    "    fig.savefig('exit_age.pdf')"
   ]
  },
  {
   "cell_type": "code",
   "execution_count": 108,
   "id": "1bdbdef6-ac0e-4dc2-b6cd-fbdb4e5be421",
   "metadata": {},
   "outputs": [],
   "source": [
    "# death rate time series\n",
    "firm_death_rate_entry = bds_age[bds_age['entry']].groupby('year')['firmdeath_firms'].sum() / bds_age[bds_age['entry']].groupby('year')['firms'].sum()\n",
    "firm_death_rate_new = bds_age[bds_age['new']].groupby('year')['firmdeath_firms'].sum() / bds_age[bds_age['new']].groupby('year')['firms'].sum()\n",
    "firm_death_rate_young = bds_age[bds_age['young']].groupby('year')['firmdeath_firms'].sum() / bds_age[bds_age['young']].groupby('year')['firms'].sum()\n",
    "firm_death_rate_old = bds_age[bds_age['old']].groupby('year')['firmdeath_firms'].sum() / bds_age[bds_age['old']].groupby('year')['firms'].sum()\n",
    "\n",
    "# plot\n",
    "plt.plot(firm_death_rate_entry)\n",
    "plt.plot(firm_death_rate_new)\n",
    "plt.plot(firm_death_rate_young)\n",
    "plt.plot(firm_death_rate_old)\n",
    "plt.xlabel('Year')\n",
    "plt.ylabel('Exit Rates')\n",
    "plt.legend(['New','Young','Mature','Old'])\n",
    "\n",
    "if save_fig:\n",
    "    plt.savefig('exit_age_time.pdf')"
   ]
  },
  {
   "cell_type": "markdown",
   "id": "37e57755-d829-4a40-a023-5a8abb60d0eb",
   "metadata": {},
   "source": [
    "### b) conditional on sizes"
   ]
  },
  {
   "cell_type": "code",
   "execution_count": 110,
   "id": "040403ba-c29e-434b-a76d-14ee963b85eb",
   "metadata": {},
   "outputs": [],
   "source": [
    "# load bds data\n",
    "bds_size = pd.read_csv('C:\\\\Users\\\\zach_\\\\Nobackupfile\\\\Data\\\\BDS\\\\bds2019_firm_size.csv')"
   ]
  },
  {
   "cell_type": "code",
   "execution_count": 112,
   "id": "98328229-b467-437e-a019-727af7271550",
   "metadata": {},
   "outputs": [],
   "source": [
    "# clean and construct variables\n",
    "bds_size['firms'] = pd.to_numeric(bds_size['firms'], errors='coerce', downcast=None)\n",
    "bds_size['firmdeath_firms'] = pd.to_numeric(bds_size['firmdeath_firms'], errors='coerce', downcast=None)\n",
    "bds_size['firm_death_rate'] = bds_size['firmdeath_firms']/ bds_size['firms']\n",
    "bds_size['year'] = pd.to_numeric(bds_size['year'], errors='coerce', downcast=None)"
   ]
  },
  {
   "cell_type": "code",
   "execution_count": 113,
   "id": "bc00ba33-95c3-4f4e-b875-d931f0ed94de",
   "metadata": {},
   "outputs": [],
   "source": [
    "# construct death rate\n",
    "death_rate_size = pd.DataFrame()\n",
    "death_rate_size['1985 - 1990'] = bds_size[(bds_size['year']>1985)&(bds_size['year']<1991) ].groupby('fsize')['firmdeath_firms'].sum() / \\\n",
    "                                bds_size[(bds_size['year']>1985)&(bds_size['year']<1991) ].groupby('fsize')['firms'].sum()\n",
    "\n",
    "death_rate_size['2015 - 2019'] = bds_size[(bds_size['year']>2014)&(bds_size['year']<2020) ].groupby('fsize')['firmdeath_firms'].sum() / \\\n",
    "                                bds_size[(bds_size['year']>2014)&(bds_size['year']<2020) ].groupby('fsize')['firms'].sum()\n",
    "death_rate_size['change_rate'] = (death_rate_size['2015 - 2019'] - death_rate_size['1985 - 1990'])/death_rate_size['1985 - 1990']/10\n",
    "\n",
    "fig = death_rate_size.plot.bar(title='Exit Rates by Size')\n",
    "fig.set_xlabel(\"Size Groups\")\n",
    "fig.set_ylabel(\"Exit Rates\")\n",
    "fig = fig.get_figure()\n",
    "\n",
    "if save_fig:\n",
    "    fig.savefig('exit_size.pdf')"
   ]
  },
  {
   "cell_type": "markdown",
   "id": "2f954c20",
   "metadata": {},
   "source": [
    "### c) Conditional on sector"
   ]
  },
  {
   "cell_type": "code",
   "execution_count": 173,
   "id": "ff0f1350-609d-4955-acfb-579cc3c84745",
   "metadata": {},
   "outputs": [],
   "source": [
    "# load bds data\n",
    "bds_sector = pd.read_csv('C:\\\\Users\\\\zach_\\\\Nobackupfile\\\\Data\\\\BDS\\\\bds2019_sector.csv')"
   ]
  },
  {
   "cell_type": "code",
   "execution_count": 117,
   "id": "47ed2dac-ec14-4cef-893a-c7e815d5908b",
   "metadata": {},
   "outputs": [],
   "source": [
    "# clean and construct variables\n",
    "bds_sector['firms'] = pd.to_numeric(bds_sector['firms'], errors='coerce', downcast=None)\n",
    "bds_sector['firmdeath_firms'] = pd.to_numeric(bds_sector['firmdeath_firms'], errors='coerce', downcast=None)\n",
    "bds_sector['firm_death_rate'] = bds_sector['firmdeath_firms']/ bds_sector['firms']\n",
    "bds_sector['year'] = pd.to_numeric(bds_sector['year'], errors='coerce', downcast=None)"
   ]
  },
  {
   "cell_type": "code",
   "execution_count": 118,
   "id": "f1fa0f6f-b5c3-4758-b84f-7eba10fe9866",
   "metadata": {},
   "outputs": [],
   "source": [
    "# construct death rate\n",
    "death_rate_sector = pd.DataFrame()\n",
    "death_rate_sector['1985 - 1990'] = bds_sector[(bds_sector['year']>1985)&(bds_sector['year']<1991) ].groupby('sector')['firmdeath_firms'].sum() / \\\n",
    "                                bds_sector[(bds_sector['year']>1985)&(bds_sector['year']<1991) ].groupby('sector')['firms'].sum()\n",
    "\n",
    "death_rate_sector['2015 - 2019'] = bds_sector[(bds_sector['year']>2014)&(bds_sector['year']<2020) ].groupby('sector')['firmdeath_firms'].sum() / \\\n",
    "                                bds_sector[(bds_sector['year']>2014)&(bds_sector['year']<2020) ].groupby('sector')['firms'].sum()\n",
    "death_rate_sector['change_rate'] = (death_rate_sector['2015 - 2019'] - death_rate_sector['1985 - 1990'])/death_rate_sector['1985 - 1990']/10\n",
    "\n",
    "fig = death_rate_sector.plot.bar(title='Exit Rates by Sector')\n",
    "fig.set_xlabel(\"Sectors\")\n",
    "fig.set_ylabel(\"Exit Rates\")\n",
    "fig = fig.get_figure()\n",
    "\n",
    "if save_fig:\n",
    "    fig.savefig('exit_sector.pdf')"
   ]
  },
  {
   "cell_type": "markdown",
   "id": "16620ac8-6010-4b23-8e9d-034965066714",
   "metadata": {},
   "source": [
    "### d) Conditional on initial"
   ]
  },
  {
   "cell_type": "code",
   "execution_count": 177,
   "id": "31277d08-1f39-4518-8d3a-654bbeeefdf7",
   "metadata": {},
   "outputs": [],
   "source": [
    "# load bds data\n",
    "bds_init_size = pd.read_csv('C:\\\\Users\\\\zach_\\\\Nobackupfile\\\\Data\\\\BDS\\\\bds2019_initial_size.csv')"
   ]
  },
  {
   "cell_type": "code",
   "execution_count": 123,
   "id": "a64d3b58-373a-4cde-9e6f-8088a034789b",
   "metadata": {},
   "outputs": [],
   "source": [
    "# clean and construct variables\n",
    "bds_init_size['firms'] = pd.to_numeric(bds_init_size['firms'], errors='coerce', downcast=None)\n",
    "bds_init_size['firmdeath_firms'] = pd.to_numeric(bds_init_size['firmdeath_firms'], errors='coerce', downcast=None)\n",
    "bds_init_size['firm_death_rate'] = bds_init_size['firmdeath_firms']/ bds_sector['firms']\n",
    "bds_init_size['year'] = pd.to_numeric(bds_init_size['year'], errors='coerce', downcast=None)"
   ]
  },
  {
   "cell_type": "code",
   "execution_count": 124,
   "id": "f65b0a49-7e51-4a12-934a-0ced3d508019",
   "metadata": {},
   "outputs": [],
   "source": [
    "# construct death rate\n",
    "death_rate_init_size = pd.DataFrame()\n",
    "death_rate_init_size['1985 - 1990'] = bds_init_size[(bds_init_size['year']>1985)&(bds_init_size['year']<1991) ].groupby('ifsize')['firmdeath_firms'].sum() / \\\n",
    "                                bds_init_size[(bds_init_size['year']>1985)&(bds_init_size['year']<1991) ].groupby('ifsize')['firms'].sum()\n",
    "\n",
    "death_rate_init_size['2015 - 2019'] = bds_init_size[(bds_init_size['year']>2014)&(bds_init_size['year']<2020) ].groupby('ifsize')['firmdeath_firms'].sum() / \\\n",
    "                                bds_init_size[(bds_init_size['year']>2014)&(bds_init_size['year']<2020) ].groupby('ifsize')['firms'].sum()\n",
    "death_rate_init_size['change_rate'] = (death_rate_init_size['2015 - 2019'] - death_rate_init_size['1985 - 1990'])/death_rate_init_size['1985 - 1990']/10\n",
    "\n",
    "fig = death_rate_init_size.plot.bar(title='Exit Rates by Init Size')\n",
    "fig.set_xlabel(\"Init Size\")\n",
    "fig.set_ylabel(\"Exit Rates\")\n",
    "fig = fig.get_figure()\n",
    "\n",
    "if save_fig:\n",
    "    fig.savefig('exit_init_size.pdf')"
   ]
  },
  {
   "cell_type": "markdown",
   "id": "3633b6a5-2bea-4e31-a645-9999c91fb0a5",
   "metadata": {},
   "source": [
    "### e) Conditional on state"
   ]
  },
  {
   "cell_type": "code",
   "execution_count": 125,
   "id": "f8d30d5a-a16d-4603-9c51-eccc50b1daf9",
   "metadata": {},
   "outputs": [],
   "source": [
    "# load bds data\n",
    "bds_state = pd.read_csv('C:\\\\Users\\\\zach_\\\\Nobackupfile\\\\Data\\\\BDS\\\\bds2019_state.csv')"
   ]
  },
  {
   "cell_type": "code",
   "execution_count": 127,
   "id": "03ba12fa-de99-453b-92a5-e3a1e85a8461",
   "metadata": {},
   "outputs": [],
   "source": [
    "# clean and construct variables\n",
    "bds_state['firms'] = pd.to_numeric(bds_state['firms'], errors='coerce', downcast=None)\n",
    "bds_state['firmdeath_firms'] = pd.to_numeric(bds_state['firmdeath_firms'], errors='coerce', downcast=None)\n",
    "bds_state['firm_death_rate'] = bds_state['firmdeath_firms']/ bds_sector['firms']\n",
    "bds_state['year'] = pd.to_numeric(bds_state['year'], errors='coerce', downcast=None)"
   ]
  },
  {
   "cell_type": "code",
   "execution_count": 128,
   "id": "48aa80d6-1f9c-4ed8-be28-f2f2bcf85bc5",
   "metadata": {},
   "outputs": [],
   "source": [
    "# construct death rate\n",
    "death_rate_state = pd.DataFrame()\n",
    "death_rate_state['1985 - 1990'] = bds_state[(bds_state['year']>1985)&(bds_state['year']<1991) ].groupby('st')['firmdeath_firms'].sum() / \\\n",
    "                                bds_state[(bds_state['year']>1985)&(bds_state['year']<1991) ].groupby('st')['firms'].sum()\n",
    "\n",
    "death_rate_state['2015 - 2019'] = bds_state[(bds_state['year']>2014)&(bds_state['year']<2020) ].groupby('st')['firmdeath_firms'].sum() / \\\n",
    "                                bds_state[(bds_state['year']>2014)&(bds_state['year']<2020) ].groupby('st')['firms'].sum()\n",
    "death_rate_state['change_rate'] = (death_rate_state['2015 - 2019'] - death_rate_state['1985 - 1990'])/death_rate_state['1985 - 1990']*100\n",
    "\n",
    "# merge state code\n",
    "state_code = pd.read_csv('C:\\\\Users\\\\zach_\\\\Nobackupfile\\\\Data\\\\UI\\\\STATE_CODE.csv')\n",
    "death_rate_state = death_rate_state.merge(state_code, on = \"st\")"
   ]
  },
  {
   "cell_type": "code",
   "execution_count": 4,
   "id": "9d2a8a94-af51-42a1-8fad-a43d54a062e1",
   "metadata": {},
   "outputs": [
    {
     "ename": "NameError",
     "evalue": "name 'death_rate_state' is not defined",
     "output_type": "error",
     "traceback": [
      "\u001b[1;31m---------------------------------------------------------------------------\u001b[0m",
      "\u001b[1;31mNameError\u001b[0m                                 Traceback (most recent call last)",
      "\u001b[1;32m<ipython-input-4-ba16a19f744e>\u001b[0m in \u001b[0;36m<module>\u001b[1;34m\u001b[0m\n\u001b[0;32m      1\u001b[0m \u001b[1;31m# plot geographic distribution - positive federal loans\u001b[0m\u001b[1;33m\u001b[0m\u001b[1;33m\u001b[0m\u001b[1;33m\u001b[0m\u001b[0m\n\u001b[1;32m----> 2\u001b[1;33m fig1 = px.choropleth(death_rate_state,\n\u001b[0m\u001b[0;32m      3\u001b[0m                     \u001b[0mlocations\u001b[0m\u001b[1;33m=\u001b[0m\u001b[1;34m'ST'\u001b[0m\u001b[1;33m,\u001b[0m\u001b[1;33m\u001b[0m\u001b[1;33m\u001b[0m\u001b[0m\n\u001b[0;32m      4\u001b[0m                     \u001b[0mlocationmode\u001b[0m\u001b[1;33m=\u001b[0m\u001b[1;34m\"USA-states\"\u001b[0m\u001b[1;33m,\u001b[0m\u001b[1;33m\u001b[0m\u001b[1;33m\u001b[0m\u001b[0m\n\u001b[0;32m      5\u001b[0m                     \u001b[0mcolor\u001b[0m\u001b[1;33m=\u001b[0m\u001b[1;34m'change_rate'\u001b[0m\u001b[1;33m,\u001b[0m\u001b[1;33m\u001b[0m\u001b[1;33m\u001b[0m\u001b[0m\n",
      "\u001b[1;31mNameError\u001b[0m: name 'death_rate_state' is not defined"
     ]
    }
   ],
   "source": [
    "# plot geographic distribution - positive federal loans\n",
    "fig1 = px.choropleth(death_rate_state,\n",
    "                    locations='ST', \n",
    "                    locationmode=\"USA-states\", \n",
    "                    color='change_rate',\n",
    "                    color_continuous_scale=\"Viridis_r\", \n",
    "                    scope=\"usa\",\n",
    "                    labels={\"with_fed_loans\": \"# of Fed Loans\"})\n",
    "fig1.show()\n",
    "\n",
    "if save_fig:\n",
    "    fig1.write_image(\"exit_state.png\")"
   ]
  },
  {
   "cell_type": "markdown",
   "id": "631fd72e",
   "metadata": {},
   "source": [
    "## 2. Replicate Results"
   ]
  },
  {
   "cell_type": "markdown",
   "id": "3e821b29",
   "metadata": {},
   "source": [
    "### a) Aggregation change on both measures\n",
    "This section intends to replicate the results from the previous literature regarding the impacts of Regdata on Firm birth\n",
    " - Effects from the levels of aggregation\n",
    " - Flows (startup rates) vs magnitude (number of the startups)\n",
    " - Effects on exit rates after controls for startup\n",
    " - Compared with results based on ages"
   ]
  },
  {
   "cell_type": "code",
   "execution_count": 50,
   "id": "31f1955d",
   "metadata": {},
   "outputs": [
    {
     "name": "stderr",
     "output_type": "stream",
     "text": [
      "c:\\Users\\zach_\\anaconda3\\lib\\site-packages\\pandas\\core\\arraylike.py:364: RuntimeWarning:\n",
      "\n",
      "divide by zero encountered in log\n",
      "\n"
     ]
    }
   ],
   "source": [
    "# create data at different aggregation\n",
    "data_dic = dict()\n",
    "\n",
    "# reg data\n",
    "regdata = pd.read_csv('C:\\\\Users\\\\zach_\\\\Nobackupfile\\\\Data\\\\BDS\\\\Regdata\\\\regdata_4_0_industries.csv')\n",
    "regdata['sector'] = regdata['NAICS']\n",
    "\n",
    "for naics in range(2, 5):\n",
    "    # load dataset\n",
    "    file_name = f\"bds2019_naics_{naics}_age\"\n",
    "    file_address = f\"C:\\\\Users\\\\zach_\\\\Nobackupfile\\\\Data\\\\BDS\\\\{file_name}.csv\"\n",
    "    df = pd.read_csv(file_address)\n",
    "    if naics == 2: # convert state string to numeric\n",
    "        df['sector'] = pd.to_numeric(df['sector'].str.slice(0,2), errors='coerce', downcast=None)\n",
    "    \n",
    "    # clean and create variables\n",
    "    df['firms'] = pd.to_numeric(df['firms'], errors='coerce', downcast=None)\n",
    "    df['firmdeath_firms'] = pd.to_numeric(df['firmdeath_firms'], errors='coerce', downcast=None)\n",
    "    \n",
    "    # aggregation for entry and death measure\n",
    "    df_age = pd.DataFrame()\n",
    "    df_age['entry'] = df.loc[df['fage'] == 'a) 0', :].groupby(['year', 'sector'])['firms'].sum()\n",
    "    df_age['incumbents'] = df.loc[df['fage'] != 'a) 0', :].groupby(['year', 'sector'])['firms'].sum()\n",
    "    df_age['death'] = df.loc[df['fage'] != 'a) 0', :].groupby(['year', 'sector'])['firmdeath_firms'].sum()\n",
    "\n",
    "    # merge \n",
    "    df_age_merge= df_age.merge(regdata, how = \"left\", left_on=[\"year\", \"sector\"], right_on=[\"year\", \"sector\"])\n",
    "\n",
    "    # create some variables\n",
    "    df_age_merge['log_restriction_1'] = np.log(df_age_merge['industry_restrictions_1_0'])\n",
    "    df_age_merge['log_restriction_2'] = np.log(df_age_merge['industry_restrictions_2_0'])\n",
    "    df_age_merge['log_entry'] = np.log(df_age_merge['entry'])\n",
    "    df_age_merge['log_death'] = np.log(df_age_merge['death'])\n",
    "    df_age_merge['log_incumbents'] = np.log(df_age_merge['incumbents'])\n",
    "    df_age_merge['entry_rate'] = df_age_merge['entry']/df_age_merge['incumbents'] \n",
    "    df_age_merge['death_rate'] = df_age_merge['death']/df_age_merge['incumbents'] \n",
    "    \n",
    "    data_dic[file_name] = df_age_merge"
   ]
  },
  {
   "cell_type": "markdown",
   "id": "36872bc4",
   "metadata": {},
   "source": [
    "#### The following regressions are examined:"
   ]
  },
  {
   "cell_type": "markdown",
   "id": "5790477e",
   "metadata": {},
   "source": [
    "1. Check the impacts of the level of aggregation\n",
    "   $${\\sf entry\\_rate} _{s,t} = \\alpha_s + \\gamma_t + \\beta_1 {\\sf Reg}_{s,t} + \\epsilon_{s,t}$$"
   ]
  },
  {
   "cell_type": "code",
   "execution_count": 51,
   "id": "51120ab6",
   "metadata": {},
   "outputs": [
    {
     "name": "stdout",
     "output_type": "stream",
     "text": [
      "                   Parameter  Std. Err.  T-stat  P-value  Lower CI  Upper CI\n",
      "log_restriction_1     0.0051      0.004  1.2793   0.2015   -0.0027    0.0128\n",
      "                   Parameter  Std. Err.  T-stat  P-value  Lower CI  Upper CI\n",
      "log_restriction_1      0.002     0.0026  0.7752   0.4383   -0.0031    0.0071\n",
      "                   Parameter  Std. Err.  T-stat  P-value  Lower CI  Upper CI\n",
      "log_restriction_1     0.0049     0.0013  3.7107   0.0002    0.0023    0.0075\n"
     ]
    }
   ],
   "source": [
    "results_dict_1 = dict()\n",
    "for naics_curr in range(2, 5):\n",
    "    # load data\n",
    "    file_name_curr = f\"bds2019_naics_{naics_curr}_age\"\n",
    "    data = data_dic[file_name_curr]\n",
    "    # sample restriction\n",
    "    data = data[data.year > 1985]\n",
    "\n",
    "    # regression\n",
    "    data = data.set_index(['sector', 'year'])\n",
    "    data = data.loc[:, ['entry_rate', 'death_rate', 'log_restriction_1']].dropna()\n",
    "    mod = PanelOLS.from_formula(formula = 'entry_rate ~ log_restriction_1  + EntityEffects + TimeEffects', data = data)\n",
    "    res = mod.fit(cov_type = 'heteroskedastic')\n",
    "\n",
    "    # results\n",
    "    results_as_html = res.summary.tables[1].as_html()\n",
    "    results_table = pd.read_html(results_as_html, header=0, index_col=0)[0]\n",
    "    results_dict_1[file_name_curr] = results_table\n",
    "\n",
    "print(results_dict_1['bds2019_naics_2_age'])\n",
    "print(results_dict_1['bds2019_naics_3_age'])\n",
    "print(results_dict_1['bds2019_naics_4_age'])"
   ]
  },
  {
   "cell_type": "markdown",
   "id": "d1e686c1",
   "metadata": {},
   "source": [
    "2. Impacts of Death Rates\n",
    "   $${\\sf entry\\_rate} _{s,t} = \\alpha_s + \\gamma_t + \\beta_1 {\\sf Reg}_{s,t} + \\beta_2 {\\sf exit\\_rates} + \\epsilon_{s,t}$$"
   ]
  },
  {
   "cell_type": "code",
   "execution_count": 166,
   "id": "ebd05828",
   "metadata": {},
   "outputs": [
    {
     "name": "stdout",
     "output_type": "stream",
     "text": [
      "                   Parameter  Std. Err.  T-stat  P-value  Lower CI  Upper CI\n",
      "death_rate            0.1498     0.0954  1.5702   0.1171   -0.0377    0.3373\n",
      "log_restriction_1     0.0029     0.0038  0.7739   0.4394   -0.0045    0.0103\n",
      "                   Parameter  Std. Err.  T-stat  P-value  Lower CI  Upper CI\n",
      "death_rate            0.7946     0.1394  5.7003   0.0000    0.5212    1.0681\n",
      "log_restriction_1    -0.0019     0.0027 -0.6960   0.4866   -0.0073    0.0035\n",
      "                   Parameter  Std. Err.  T-stat  P-value  Lower CI  Upper CI\n",
      "death_rate            0.0854     0.0449  1.9008   0.0574   -0.0027    0.1734\n",
      "log_restriction_1     0.0044     0.0013  3.2895   0.0010    0.0018    0.0071\n"
     ]
    }
   ],
   "source": [
    "results_dict_1 = dict()\n",
    "for naics_curr in range(2, 5):\n",
    "    # load data\n",
    "    file_name_curr = f\"bds2019_naics_{naics_curr}_age\"\n",
    "    data = data_dic[file_name_curr]\n",
    "    # sample restriction\n",
    "    data = data[data.year > 1985]\n",
    "\n",
    "    # regression\n",
    "    data = data.set_index(['sector', 'year'])\n",
    "    data = data.loc[:, ['entry_rate', 'death_rate', 'log_restriction_1']].dropna()\n",
    "    mod = PanelOLS.from_formula(formula = 'entry_rate ~ log_restriction_1  + death_rate + EntityEffects + TimeEffects', data = data)\n",
    "    res = mod.fit(cov_type = 'heteroskedastic')\n",
    "\n",
    "    # results\n",
    "    results_as_html = res.summary.tables[1].as_html()\n",
    "    results_table = pd.read_html(results_as_html, header=0, index_col=0)[0]\n",
    "    results_dict_1[file_name_curr] = results_table\n",
    "\n",
    "print(results_dict_1['bds2019_naics_2_age'])\n",
    "print(results_dict_1['bds2019_naics_3_age'])\n",
    "print(results_dict_1['bds2019_naics_4_age'])"
   ]
  },
  {
   "cell_type": "markdown",
   "id": "f0f6343f",
   "metadata": {},
   "source": [
    "3. using log level measure\n",
    "   $$\\log({\\sf entry}_{s,t}) = \\alpha_s + \\gamma_t + \\beta_1 {\\sf Reg}_{s,t} + \\beta_2 \\log({\\sf incumbents})  + \\epsilon_{s,t}$$"
   ]
  },
  {
   "cell_type": "code",
   "execution_count": 167,
   "id": "29cf3173",
   "metadata": {},
   "outputs": [],
   "source": [
    "results_dict_3 = dict()\n",
    "for naics_curr in range(2, 5):\n",
    "    # load data\n",
    "    file_name_curr = f\"bds2019_naics_{naics_curr}_age\"\n",
    "    data = data_dic[file_name_curr]\n",
    "    # sample restriction\n",
    "    data = data[data.year > 1985]\n",
    "\n",
    "    # regression\n",
    "    data = data.set_index(['sector', 'year'])\n",
    "    data = data.loc[:, ['log_entry', 'log_death', 'log_incumbents', 'log_restriction_1']].dropna()\n",
    "    mod = PanelOLS.from_formula(formula = 'log_entry ~ log_restriction_1 + log_incumbents + EntityEffects + TimeEffects', data = data)\n",
    "    res = mod.fit(cov_type = 'heteroskedastic')\n",
    "\n",
    "    # results\n",
    "    results_as_html = res.summary.tables[1].as_html()\n",
    "    results_table = pd.read_html(results_as_html, header=0, index_col=0)[0]\n",
    "    results_dict_3[file_name_curr] = results_table\n",
    "\n",
    "print(results_dict_3['bds2019_naics_2_age'])\n",
    "print(results_dict_3['bds2019_naics_3_age'])\n",
    "print(results_dict_3['bds2019_naics_4_age'])"
   ]
  },
  {
   "cell_type": "markdown",
   "id": "28eb3e76",
   "metadata": {},
   "source": [
    "4. Adding measure of death\n",
    "   $$\\log({\\sf entry}_{s,t}) = \\alpha_s + \\gamma_t + \\beta_1 {\\sf Reg}_{s,t} + \\beta_2 \\log({\\sf exit})  + \\beta_3 \\log({\\sf incumbents}) + \\epsilon_{s,t}$$"
   ]
  },
  {
   "cell_type": "code",
   "execution_count": 169,
   "id": "f6ca28fe",
   "metadata": {},
   "outputs": [
    {
     "name": "stdout",
     "output_type": "stream",
     "text": [
      "                   Parameter  Std. Err.  T-stat  P-value  Lower CI  Upper CI\n",
      "log_death            -0.0035     0.0902 -0.0384   0.9694   -0.1807    0.1738\n",
      "log_incumbents        1.1326     0.1168  9.6999   0.0000    0.9031    1.3621\n",
      "log_restriction_1    -0.1198     0.0409 -2.9309   0.0036   -0.2001   -0.0395\n",
      "                   Parameter  Std. Err.  T-stat  P-value  Lower CI  Upper CI\n",
      "log_death             0.4836     0.0575  8.4158   0.0000    0.3709    0.5963\n",
      "log_incumbents        0.6200     0.0870  7.1301   0.0000    0.4494    0.7906\n",
      "log_restriction_1    -0.0471     0.0200 -2.3530   0.0188   -0.0864   -0.0078\n",
      "                   Parameter  Std. Err.   T-stat  P-value  Lower CI  Upper CI\n",
      "log_death             0.0601     0.0234   2.5661   0.0103    0.0142    0.1060\n",
      "log_incumbents        0.9997     0.0366  27.3030   0.0000    0.9279    1.0715\n",
      "log_restriction_1     0.0235     0.0137   1.7168   0.0861   -0.0033    0.0503\n"
     ]
    }
   ],
   "source": [
    "results_dict_4 = dict()\n",
    "for naics_curr in range(2, 5):\n",
    "    # load data\n",
    "    file_name_curr = f\"bds2019_naics_{naics_curr}_age\"\n",
    "    data = data_dic[file_name_curr]\n",
    "    # sample restriction\n",
    "    data = data[data.year > 1985]\n",
    "\n",
    "    # regression\n",
    "    data = data.set_index(['sector', 'year'])\n",
    "    data = data.loc[:, ['log_entry', 'log_death', 'log_incumbents', 'log_restriction_1']].dropna()\n",
    "    mod = PanelOLS.from_formula(formula = 'log_entry ~ log_restriction_1 + log_death + log_incumbents + EntityEffects + TimeEffects', data = data)\n",
    "    res = mod.fit(cov_type = 'heteroskedastic')\n",
    "\n",
    "    # results\n",
    "    results_as_html = res.summary.tables[1].as_html()\n",
    "    results_table = pd.read_html(results_as_html, header=0, index_col=0)[0]\n",
    "    results_dict_4[file_name_curr] = results_table\n",
    "\n",
    "print(results_dict_4['bds2019_naics_2_age'])\n",
    "print(results_dict_4['bds2019_naics_3_age'])\n",
    "print(results_dict_4['bds2019_naics_4_age'])"
   ]
  },
  {
   "cell_type": "markdown",
   "id": "77ecd1bf",
   "metadata": {},
   "source": [
    "### a) Aggregation change on Reg data only"
   ]
  },
  {
   "cell_type": "code",
   "execution_count": 52,
   "id": "87c88724",
   "metadata": {},
   "outputs": [
    {
     "name": "stderr",
     "output_type": "stream",
     "text": [
      "c:\\Users\\zach_\\anaconda3\\lib\\site-packages\\pandas\\core\\arraylike.py:364: RuntimeWarning:\n",
      "\n",
      "divide by zero encountered in log\n",
      "\n"
     ]
    }
   ],
   "source": [
    "# create data at different aggregation\n",
    "data_dic = dict()\n",
    "\n",
    "# reg data\n",
    "regdata = pd.read_csv('C:\\\\Users\\\\zach_\\\\Nobackupfile\\\\Data\\\\BDS\\\\Regdata\\\\regdata_4_0_industries.csv')\n",
    "regdata['sector_reg'] = regdata['NAICS']\n",
    "regdata = regdata.loc[:,[\"year\", \"sector_reg\", \"industry_restrictions_1_0\", \"industry_restrictions_2_0\"]]\n",
    "\n",
    "# load dataset\n",
    "file_name = \"bds2019_naics_4_age\"\n",
    "file_address = f\"C:\\\\Users\\\\zach_\\\\Nobackupfile\\\\Data\\\\BDS\\\\{file_name}.csv\"\n",
    "df = pd.read_csv(file_address)\n",
    "\n",
    "# clear data\n",
    "df['firms'] = pd.to_numeric(df['firms'], errors='coerce', downcast=None)\n",
    "df['firmdeath_firms'] = pd.to_numeric(df['firmdeath_firms'], errors='coerce', downcast=None)\n",
    "\n",
    "# aggregation for entry and death measure\n",
    "df_age = pd.DataFrame()\n",
    "df_age['entry'] = df.loc[df['fage'] == 'a) 0', :].groupby(['year', 'sector'])['firms'].sum()\n",
    "df_age['incumbents'] = df.loc[df['fage'] != 'a) 0', :].groupby(['year', 'sector'])['firms'].sum()\n",
    "df_age['death'] = df.loc[df['fage'] != 'a) 0', :].groupby(['year', 'sector'])['firmdeath_firms'].sum()\n",
    "df_age = df_age.reset_index()\n",
    "\n",
    "for naics in range(2, 5):\n",
    "    # clean and create variables\n",
    "    sector_name = f\"sector_{naics}\"\n",
    "    df_age[sector_name] = df_age['sector'].astype(str).str.slice(0,naics)\n",
    "    df_age[sector_name] = pd.to_numeric(df_age[sector_name])\n",
    "\n",
    "    df_age = df_age.merge(regdata, how = \"left\", left_on=[\"year\", sector_name], right_on=[\"year\", \"sector_reg\"])\n",
    "    df_age = df_age.rename(columns={\"industry_restrictions_1_0\": f\"industry_restrictions_1_0_{naics}\", \"industry_restrictions_2_0\": f\"industry_restrictions_2_0_{naics}\"}, errors=\"raise\")\n",
    "    df_age = df_age.drop(columns='sector_reg')\n",
    "    df_age[f'log_restriction_1_{naics}'] = np.log(df_age[f'industry_restrictions_1_0_{naics}'])\n",
    "    df_age[f'log_restriction_2_{naics}'] = np.log(df_age[f'industry_restrictions_2_0_{naics}'])\n",
    "\n",
    "# create some variables\n",
    "\n",
    "df_age['log_entry'] = np.log(df_age['entry'])\n",
    "df_age['log_death'] = np.log(df_age['death'])\n",
    "df_age['log_incumbents'] = np.log(df_age['incumbents'])\n",
    "df_age['entry_rate'] = df_age['entry']/df_age['incumbents'] \n",
    "df_age['death_rate'] = df_age['death']/df_age['incumbents'] \n"
   ]
  },
  {
   "cell_type": "markdown",
   "id": "41772572",
   "metadata": {},
   "source": [
    "1. Check the impacts of the level of aggregation\n",
    "   $${\\sf entry\\_rate}_{naics_4, t} = \\alpha_{naics_4} + \\gamma_t + \\beta_1 {\\sf Reg}_{s,t} + \\epsilon_{naics_4, t}$$"
   ]
  },
  {
   "cell_type": "code",
   "execution_count": 53,
   "metadata": {},
   "outputs": [
    {
     "name": "stdout",
     "output_type": "stream",
     "text": [
      "                     Parameter  Std. Err.  T-stat  P-value  Lower CI  Upper CI\n",
      "log_restriction_1_2     0.0157     0.0045  3.4732   0.0005    0.0068    0.0246\n",
      "                     Parameter  Std. Err.  T-stat  P-value  Lower CI  Upper CI\n",
      "log_restriction_1_3    -0.0024     0.0014 -1.7016   0.0889   -0.0051    0.0004\n",
      "                     Parameter  Std. Err.  T-stat  P-value  Lower CI  Upper CI\n",
      "log_restriction_1_4     0.0049     0.0013  3.7107   0.0002    0.0023    0.0075\n"
     ]
    }
   ],
   "source": [
    "results_dict_1 = dict()\n",
    "for naics_curr in range(2, 5):\n",
    "    # load data\n",
    "    data = df_age\n",
    "    # sample restriction\n",
    "    data = data[data.year > 1985]\n",
    "\n",
    "    # regression\n",
    "    data = data.set_index(['sector', 'year'])\n",
    "    data = data.loc[:, ['entry_rate', 'death_rate', 'log_incumbents', f'log_restriction_1_{naics_curr}']].dropna()\n",
    "    mod = PanelOLS.from_formula(formula = f'entry_rate ~ log_restriction_1_{naics_curr}  + EntityEffects + TimeEffects', data = data)\n",
    "    res = mod.fit(cov_type = 'heteroskedastic')\n",
    "\n",
    "    # results\n",
    "    results_as_html = res.summary.tables[1].as_html()\n",
    "    results_table = pd.read_html(results_as_html, header=0, index_col=0)[0]\n",
    "    file_name_curr = f\"reg_{naics_curr}\"\n",
    "    results_dict_1[file_name_curr] = results_table\n",
    "\n",
    "print(results_dict_1['reg_2'])\n",
    "print(results_dict_1['reg_3'])\n",
    "print(results_dict_1['reg_4'])\n"
   ]
  },
  {
   "cell_type": "markdown",
   "id": "0010f3da",
   "metadata": {},
   "source": [
    "2. Impacts of Death Rates\n",
    "   $${\\sf entry\\_rate} _{naics_4,t} = \\alpha_s + \\gamma_t + \\beta_1 {\\sf Reg}_{s,t} + \\beta_2 {\\sf exit\\_rates} + \\epsilon_{naics_4,t}$$"
   ]
  },
  {
   "cell_type": "code",
   "execution_count": 54,
   "id": "39a1e1b9",
   "metadata": {},
   "outputs": [
    {
     "name": "stdout",
     "output_type": "stream",
     "text": [
      "                     Parameter  Std. Err.  T-stat  P-value  Lower CI  Upper CI\n",
      "death_rate              0.3942     0.0898  4.3900   0.0000    0.2182    0.5702\n",
      "log_restriction_1_2     0.0128     0.0044  2.9323   0.0034    0.0043    0.0214\n",
      "                     Parameter  Std. Err.  T-stat  P-value  Lower CI  Upper CI\n",
      "death_rate              0.3661     0.0760  4.8183   0.0000    0.2171    0.5151\n",
      "log_restriction_1_3    -0.0035     0.0014 -2.4994   0.0125   -0.0063   -0.0008\n",
      "                     Parameter  Std. Err.  T-stat  P-value  Lower CI  Upper CI\n",
      "death_rate              0.0854     0.0449  1.9008   0.0574   -0.0027    0.1734\n",
      "log_restriction_1_4     0.0044     0.0013  3.2895   0.0010    0.0018    0.0071\n"
     ]
    }
   ],
   "source": [
    "results_dict_2 = dict()\n",
    "for naics_curr in range(2, 5):\n",
    "    # load data\n",
    "    data = df_age\n",
    "    # sample restriction\n",
    "    data = data[data.year > 1985]\n",
    "\n",
    "    # regression\n",
    "    data = data.set_index(['sector', 'year'])\n",
    "    data = data.loc[:, ['entry_rate', 'death_rate', 'log_incumbents', f'log_restriction_1_{naics_curr}']].dropna()\n",
    "    mod = PanelOLS.from_formula(formula = f'entry_rate ~ log_restriction_1_{naics_curr}  + death_rate + EntityEffects + TimeEffects',\n",
    "                                data = data)\n",
    "    res = mod.fit(cov_type = 'heteroskedastic')\n",
    "\n",
    "    # results\n",
    "    results_as_html = res.summary.tables[1].as_html()\n",
    "    results_table = pd.read_html(results_as_html, header=0, index_col=0)[0]\n",
    "    file_name_curr = f\"reg_{naics_curr}\"\n",
    "    results_dict_2[file_name_curr] = results_table\n",
    "\n",
    "print(results_dict_2['reg_2'])\n",
    "print(results_dict_2['reg_3'])\n",
    "print(results_dict_2['reg_4'])"
   ]
  },
  {
   "cell_type": "markdown",
   "id": "3e4fa038",
   "metadata": {},
   "source": [
    "3. using log level measure\n",
    "   $$\\log({\\sf entry}_{naics_4,t}) = \\alpha_s + \\gamma_t + \\beta_1 {\\sf Reg}_{s,t} + \\beta_2 \\log({\\sf incumbents})  + \\epsilon_{naics_4,t}$$"
   ]
  },
  {
   "cell_type": "code",
   "execution_count": 253,
   "id": "8c327df2",
   "metadata": {},
   "outputs": [
    {
     "name": "stdout",
     "output_type": "stream",
     "text": [
      "                     Parameter  Std. Err.   T-stat  P-value  Lower CI  \\\n",
      "log_incumbents          0.8967     0.0262  34.2530    0.000    0.8454   \n",
      "log_restriction_1_2    -0.0342     0.0309  -1.1077    0.268   -0.0948   \n",
      "\n",
      "                     Upper CI  \n",
      "log_incumbents         0.9480  \n",
      "log_restriction_1_2    0.0264  \n",
      "                     Parameter  Std. Err.   T-stat  P-value  Lower CI  \\\n",
      "log_incumbents          0.9663     0.0272  35.5790      0.0    0.9130   \n",
      "log_restriction_1_3    -0.0626     0.0123  -5.1111      0.0   -0.0867   \n",
      "\n",
      "                     Upper CI  \n",
      "log_incumbents         1.0195  \n",
      "log_restriction_1_3   -0.0386  \n",
      "                     Parameter  Std. Err.   T-stat  P-value  Lower CI  \\\n",
      "log_incumbents          1.0677     0.0258  41.3390   0.0000    1.0171   \n",
      "log_restriction_1_4     0.0267     0.0137   1.9478   0.0515   -0.0002   \n",
      "\n",
      "                     Upper CI  \n",
      "log_incumbents         1.1183  \n",
      "log_restriction_1_4    0.0536  \n"
     ]
    }
   ],
   "source": [
    "results_dict_3 = dict()\n",
    "for naics_curr in range(2, 5):\n",
    "    # load data\n",
    "    data = df_age\n",
    "    # sample restriction\n",
    "    data = data[data.year > 1985]\n",
    "\n",
    "    # regression\n",
    "    data = data.set_index(['sector', 'year'])\n",
    "    data = data.loc[:, ['log_entry', 'log_death', 'log_incumbents', f'log_restriction_1_{naics_curr}']].dropna()\n",
    "    mod = PanelOLS.from_formula(formula = f'log_entry ~ log_restriction_1_{naics_curr}  + log_incumbents + EntityEffects + TimeEffects',\n",
    "                                data = data)\n",
    "    res = mod.fit(cov_type = 'heteroskedastic')\n",
    "\n",
    "    # results\n",
    "    results_as_html = res.summary.tables[1].as_html()\n",
    "    results_table = pd.read_html(results_as_html, header=0, index_col=0)[0]\n",
    "    file_name_curr = f\"reg_{naics_curr}\"\n",
    "    results_dict_3[file_name_curr] = results_table\n",
    "\n",
    "print(results_dict_3['reg_2'])\n",
    "print(results_dict_3['reg_3'])\n",
    "print(results_dict_3['reg_4'])"
   ]
  },
  {
   "cell_type": "markdown",
   "id": "d65f9c9e",
   "metadata": {},
   "source": [
    "4. Adding measure of death\n",
    "   $$\\log({\\sf entry}_{naics_4,t}) = \\alpha_s + \\gamma_t + \\beta_1 {\\sf Reg}_{s,t} + \\beta_2 \\log({\\sf exit})  + \\beta_3 \\log({\\sf incumbents}) + \\epsilon_{naics_4,t}$$"
   ]
  },
  {
   "cell_type": "code",
   "execution_count": 7,
   "id": "9d0d62bd",
   "metadata": {},
   "outputs": [
    {
     "name": "stdout",
     "output_type": "stream",
     "text": [
      "                     Parameter  Std. Err.   T-stat  P-value  Lower CI  \\\n",
      "log_death               0.1972     0.0268   7.3552   0.0000    0.1446   \n",
      "log_incumbents          0.7018     0.0398  17.6560   0.0000    0.6239   \n",
      "log_restriction_1_2    -0.0344     0.0291  -1.1809   0.2377   -0.0915   \n",
      "\n",
      "                     Upper CI  \n",
      "log_death              0.2497  \n",
      "log_incumbents         0.7798  \n",
      "log_restriction_1_2    0.0227  \n",
      "                     Parameter  Std. Err.   T-stat  P-value  Lower CI  \\\n",
      "log_death               0.1683     0.0259   6.4963      0.0    0.1175   \n",
      "log_incumbents          0.8016     0.0412  19.4790      0.0    0.7209   \n",
      "log_restriction_1_3    -0.0678     0.0123  -5.5352      0.0   -0.0919   \n",
      "\n",
      "                     Upper CI  \n",
      "log_death              0.2191  \n",
      "log_incumbents         0.8823  \n",
      "log_restriction_1_3   -0.0438  \n",
      "                     Parameter  Std. Err.   T-stat  P-value  Lower CI  \\\n",
      "log_death               0.0601     0.0234   2.5661   0.0103    0.0142   \n",
      "log_incumbents          0.9997     0.0366  27.3030   0.0000    0.9279   \n",
      "log_restriction_1_4     0.0235     0.0137   1.7168   0.0861   -0.0033   \n",
      "\n",
      "                     Upper CI  \n",
      "log_death              0.1060  \n",
      "log_incumbents         1.0715  \n",
      "log_restriction_1_4    0.0503  \n"
     ]
    }
   ],
   "source": [
    "results_dict_4 = dict()\n",
    "for naics_curr in range(2, 5):\n",
    "    # load data\n",
    "    data = df_age\n",
    "    # sample restriction\n",
    "    data = data[data.year > 1985]\n",
    "\n",
    "    # regression\n",
    "    data = data.set_index(['sector', 'year'])\n",
    "    data = data.loc[:, ['log_entry', 'log_death', 'log_incumbents', f'log_restriction_1_{naics_curr}']].dropna()\n",
    "    mod = PanelOLS.from_formula(formula = f'log_entry ~ log_restriction_1_{naics_curr}  + log_incumbents + log_death + EntityEffects + TimeEffects',\n",
    "                                data = data)\n",
    "    res = mod.fit(cov_type = 'heteroskedastic')\n",
    "\n",
    "    # results\n",
    "    results_as_html = res.summary.tables[1].as_html()\n",
    "    results_table = pd.read_html(results_as_html, header=0, index_col=0)[0]\n",
    "    file_name_curr = f\"reg_{naics_curr}\"\n",
    "    results_dict_4[file_name_curr] = results_table\n",
    "\n",
    "print(results_dict_4['reg_2'])\n",
    "print(results_dict_4['reg_3'])\n",
    "print(results_dict_4['reg_4'])"
   ]
  },
  {
   "cell_type": "markdown",
   "id": "c20811ec",
   "metadata": {},
   "source": [
    "2. All levels\n",
    "   $${\\sf entry\\_rate} _{naics_4,t} = \\alpha_s + \\gamma_t + \\beta_1 {\\sf Reg}_{naics_2,t} + \\beta_2 {\\sf Reg}_{naics_3,t} + \\beta_3 {\\sf Reg}_{naics_4,t} + \\beta_4 {\\sf exit\\_rates} + \\epsilon_{naics_4,t}$$"
   ]
  },
  {
   "cell_type": "code",
   "execution_count": 61,
   "metadata": {},
   "outputs": [
    {
     "name": "stdout",
     "output_type": "stream",
     "text": [
      "                     Parameter  Std. Err.  T-stat  P-value  Lower CI  Upper CI\n",
      "death_rate              0.0822     0.0552  1.4895   0.1365   -0.0260    0.1905\n",
      "log_restriction_1_2     0.0043     0.0049  0.8673   0.3859   -0.0054    0.0140\n",
      "log_restriction_1_3    -0.0206     0.0044 -4.6937   0.0000   -0.0292   -0.0120\n",
      "log_restriction_1_4     0.0076     0.0043  1.7850   0.0744   -0.0008    0.0160\n"
     ]
    }
   ],
   "source": [
    "data = df_age\n",
    "# sample restriction\n",
    "data = data[data.year > 1985]\n",
    "\n",
    "# regression\n",
    "data = data.set_index(['sector', 'year'])\n",
    "data = data.loc[:, ['entry_rate', 'death_rate', 'log_incumbents',\n",
    "                    'log_restriction_1_2', 'log_restriction_1_3', \n",
    "                    'log_restriction_1_4']].dropna()\n",
    "mod = PanelOLS.from_formula(formula = \n",
    "                            'entry_rate ~ log_restriction_1_2 + log_restriction_1_3 + log_restriction_1_4  \\\n",
    "                            + death_rate  + EntityEffects + TimeEffects',\n",
    "                            data = data)\n",
    "res = mod.fit(cov_type = 'heteroskedastic')\n",
    "\n",
    "# results\n",
    "results_as_html = res.summary.tables[1].as_html()\n",
    "results_table = pd.read_html(results_as_html, header=0, index_col=0)[0]\n",
    "\n",
    "print(results_table)"
   ]
  },
  {
   "cell_type": "markdown",
   "id": "dcbc3a79",
   "metadata": {},
   "source": [
    "## 3. Exit Rates and Reg Data"
   ]
  },
  {
   "cell_type": "markdown",
   "id": "6c6977ec",
   "metadata": {},
   "source": [
    "This section uses previous specification to study the effects of regulation on firm exit rates.\n",
    "Several key issues are examinated here:\n",
    "1. What is the effects of the regulation on firm exit rates?\n",
    "2. Are there some issues regarding aggregation levels?\n",
    "3. Are results robust using different classifications of the BDS data?"
   ]
  },
  {
   "cell_type": "code",
   "execution_count": 8,
   "id": "c6fa6457",
   "metadata": {},
   "outputs": [
    {
     "name": "stderr",
     "output_type": "stream",
     "text": [
      "C:\\Users\\zach_\\anaconda3\\lib\\site-packages\\pandas\\core\\arraylike.py:364: RuntimeWarning:\n",
      "\n",
      "divide by zero encountered in log\n",
      "\n"
     ]
    }
   ],
   "source": [
    "# Using the precedure from the previous section to construct data\n",
    "# create data at different aggregation\n",
    "data_dic = dict()\n",
    "\n",
    "# reg data\n",
    "regdata = pd.read_csv('C:\\\\Users\\\\zach_\\\\Nobackupfile\\\\Data\\\\BDS\\\\Regdata\\\\regdata_4_0_industries.csv')\n",
    "regdata['sector_reg'] = regdata['NAICS']\n",
    "regdata = regdata.loc[:,[\"year\", \"sector_reg\", \"industry_restrictions_1_0\", \"industry_restrictions_2_0\"]]\n",
    "\n",
    "# load dataset\n",
    "file_name = \"bds2019_naics_4_age\"\n",
    "file_address = f\"C:\\\\Users\\\\zach_\\\\Nobackupfile\\\\Data\\\\BDS\\\\{file_name}.csv\"\n",
    "df = pd.read_csv(file_address)\n",
    "\n",
    "# clear data\n",
    "df['firms'] = pd.to_numeric(df['firms'], errors='coerce', downcast=None)\n",
    "df['firmdeath_firms'] = pd.to_numeric(df['firmdeath_firms'], errors='coerce', downcast=None)\n",
    "\n",
    "# aggregation for entry and death measure\n",
    "df_age = pd.DataFrame()\n",
    "df_age['entry'] = df.loc[df['fage'] == 'a) 0', :].groupby(['year', 'sector'])['firms'].sum()\n",
    "df_age['incumbents'] = df.loc[df['fage'] != 'a) 0', :].groupby(['year', 'sector'])['firms'].sum()\n",
    "df_age['death'] = df.loc[df['fage'] != 'a) 0', :].groupby(['year', 'sector'])['firmdeath_firms'].sum()\n",
    "df_age = df_age.reset_index()\n",
    "\n",
    "for naics in range(2, 5):\n",
    "    # clean and create variables\n",
    "    sector_name = f\"sector_{naics}\"\n",
    "    df_age[sector_name] = df_age['sector'].astype(str).str.slice(0,naics)\n",
    "    df_age[sector_name] = pd.to_numeric(df_age[sector_name])\n",
    "\n",
    "    df_age = df_age.merge(regdata, how = \"left\", left_on=[\"year\", sector_name], right_on=[\"year\", \"sector_reg\"])\n",
    "    df_age = df_age.rename(columns={\"industry_restrictions_1_0\": f\"industry_restrictions_1_0_{naics}\", \"industry_restrictions_2_0\": f\"industry_restrictions_2_0_{naics}\"}, errors=\"raise\")\n",
    "    df_age = df_age.drop(columns='sector_reg')\n",
    "    df_age[f'log_restriction_1_{naics}'] = np.log(df_age[f'industry_restrictions_1_0_{naics}'])\n",
    "    df_age[f'log_restriction_2_{naics}'] = np.log(df_age[f'industry_restrictions_2_0_{naics}'])\n",
    "\n",
    "# create some variables\n",
    "\n",
    "df_age['log_entry'] = np.log(df_age['entry'])\n",
    "df_age['log_death'] = np.log(df_age['death'])\n",
    "df_age['log_incumbents'] = np.log(df_age['incumbents'])\n",
    "df_age['entry_rate'] = df_age['entry']/df_age['incumbents'] \n",
    "df_age['death_rate'] = df_age['death']/df_age['incumbents'] "
   ]
  },
  {
   "cell_type": "markdown",
   "id": "41772572",
   "metadata": {},
   "source": [
    "1. Check the impacts of the level of aggregation\n",
    "   1. one level reg only\n",
    "   $${\\sf Exit\\_rate}_{naics_4, t} = \\alpha_{naics_4} + \\gamma_t + \\beta_1 {\\sf Reg}_{s,t} + \\epsilon_{naics_4, t}$$"
   ]
  },
  {
   "cell_type": "code",
   "execution_count": 10,
   "id": "dcd83046",
   "metadata": {},
   "outputs": [
    {
     "name": "stdout",
     "output_type": "stream",
     "text": [
      "                     Parameter  Std. Err.  T-stat  P-value  Lower CI  Upper CI\n",
      "log_restriction_2_2     0.0076     0.0035  2.1743   0.0297    0.0008    0.0145\n",
      "                     Parameter  Std. Err.  T-stat  P-value  Lower CI  Upper CI\n",
      "log_restriction_2_3     0.0033     0.0012  2.7036   0.0069    0.0009    0.0056\n",
      "                     Parameter  Std. Err.  T-stat  P-value  Lower CI  Upper CI\n",
      "log_restriction_2_4     0.0054     0.0012  4.3824      0.0     0.003    0.0078\n"
     ]
    }
   ],
   "source": [
    "results_dict_1 = dict()\n",
    "for naics_curr in range(2, 5):\n",
    "    # load data\n",
    "    data = df_age\n",
    "    # sample restriction\n",
    "    data = data[data.year > 1985]\n",
    "\n",
    "    # regression\n",
    "    data = data.set_index(['sector', 'year'])\n",
    "    data = data.loc[:, ['entry_rate', 'death_rate', 'log_incumbents', f'log_restriction_1_{naics_curr}']].dropna()\n",
    "    mod = PanelOLS.from_formula(formula = f'death_rate ~ log_restriction_1_{naics_curr}  + EntityEffects + TimeEffects', data = data)\n",
    "    res = mod.fit(cov_type = 'heteroskedastic')\n",
    "\n",
    "    # results\n",
    "    results_as_html = res.summary.tables[1].as_html()\n",
    "    results_table = pd.read_html(results_as_html, header=0, index_col=0)[0]\n",
    "    file_name_curr = f\"reg_{naics_curr}\"\n",
    "    results_dict_1[file_name_curr] = results_table\n",
    "\n",
    "print(results_dict_1['reg_2'])\n",
    "print(results_dict_1['reg_3'])\n",
    "print(results_dict_1['reg_4'])\n"
   ]
  },
  {
   "cell_type": "markdown",
   "id": "41772572",
   "metadata": {},
   "source": [
    "   2. all levels\n",
    "   $${\\sf Exit\\_rate}_{naics_4, t} = \\alpha_{naics_4} + \\gamma_t + \\beta_1 {\\sf Reg}_{naics_2,t} + \\beta_2 {\\sf Reg}_{naics_3,t} + \\beta_3 {\\sf Reg}_{naics_4,t} + \\epsilon_{naics_4, t}$$"
   ]
  },
  {
   "cell_type": "code",
   "execution_count": 14,
   "id": "dcd83046",
   "metadata": {},
   "outputs": [
    {
     "name": "stdout",
     "output_type": "stream",
     "text": [
      "                     Parameter  Std. Err.  T-stat  P-value  Lower CI  Upper CI\n",
      "log_restriction_1_2    -0.0017     0.0038 -0.4419   0.6586   -0.0090    0.0057\n",
      "log_restriction_1_3    -0.0016     0.0047 -0.3408   0.7333   -0.0107    0.0076\n",
      "log_restriction_1_4     0.0073     0.0036  2.0306   0.0424    0.0002    0.0143\n"
     ]
    }
   ],
   "source": [
    "data = df_age\n",
    "# sample restriction\n",
    "data = data[data.year > 1985]\n",
    "\n",
    "# regression\n",
    "data = data.set_index(['sector', 'year'])\n",
    "data = data.loc[:, ['entry_rate', 'death_rate', 'log_incumbents', \n",
    "                    'log_restriction_1_2', 'log_restriction_1_3', \n",
    "                    'log_restriction_1_4']].dropna()\n",
    "mod = PanelOLS.from_formula(formula = \n",
    "                            'death_rate ~ log_restriction_1_2 + log_restriction_1_3 + log_restriction_1_4  \\\n",
    "                            + EntityEffects + TimeEffects',\n",
    "                            data = data)\n",
    "res = mod.fit(cov_type = 'heteroskedastic')\n",
    "\n",
    "# results\n",
    "results_as_html = res.summary.tables[1].as_html()\n",
    "results_table = pd.read_html(results_as_html, header=0, index_col=0)[0]\n",
    "\n",
    "print(results_table)\n"
   ]
  },
  {
   "cell_type": "markdown",
   "id": "0010f3da",
   "metadata": {},
   "source": [
    "2. Impacts of Entry Rates\n",
    "   1. one level of regulation\n",
    "   $${\\sf Exit\\_rate} _{naics_4,t} = \\alpha_s + \\gamma_t + \\beta_1 {\\sf Reg}_{s,t} + \\beta_2 {\\sf entry\\_rates} + \\epsilon_{naics_4,t}$$"
   ]
  },
  {
   "cell_type": "code",
   "execution_count": 11,
   "id": "39a1e1b9",
   "metadata": {},
   "outputs": [
    {
     "name": "stdout",
     "output_type": "stream",
     "text": [
      "                     Parameter  Std. Err.  T-stat  P-value  Lower CI  Upper CI\n",
      "entry_rate              0.2053     0.0700  2.9348   0.0034    0.0682    0.3424\n",
      "log_restriction_1_2     0.0041     0.0038  1.0816   0.2795   -0.0033    0.0115\n",
      "                     Parameter  Std. Err.  T-stat  P-value  Lower CI  Upper CI\n",
      "entry_rate              0.2154     0.0539  3.9972   0.0001    0.1098    0.3211\n",
      "log_restriction_1_3     0.0036     0.0012  3.0014   0.0027    0.0013    0.0060\n",
      "                     Parameter  Std. Err.  T-stat  P-value  Lower CI  Upper CI\n",
      "entry_rate              0.0572     0.0294  1.9477   0.0515   -0.0004    0.1148\n",
      "log_restriction_1_4     0.0053     0.0012  4.3834   0.0000    0.0029    0.0076\n"
     ]
    }
   ],
   "source": [
    "results_dict_2 = dict()\n",
    "for naics_curr in range(2, 5):\n",
    "    # load data\n",
    "    data = df_age\n",
    "    # sample restriction\n",
    "    data = data[data.year > 1985]\n",
    "\n",
    "    # regression\n",
    "    data = data.set_index(['sector', 'year'])\n",
    "    data = data.loc[:, ['entry_rate', 'death_rate', 'log_incumbents', f'log_restriction_1_{naics_curr}']].dropna()\n",
    "    mod = PanelOLS.from_formula(formula = f'death_rate ~ log_restriction_1_{naics_curr}  + entry_rate + EntityEffects + TimeEffects',\n",
    "                                data = data)\n",
    "    res = mod.fit(cov_type = 'heteroskedastic')\n",
    "\n",
    "    # results\n",
    "    results_as_html = res.summary.tables[1].as_html()\n",
    "    results_table = pd.read_html(results_as_html, header=0, index_col=0)[0]\n",
    "    file_name_curr = f\"reg_{naics_curr}\"\n",
    "    results_dict_2[file_name_curr] = results_table\n",
    "\n",
    "print(results_dict_2['reg_2'])\n",
    "print(results_dict_2['reg_3'])\n",
    "print(results_dict_2['reg_4'])"
   ]
  },
  {
   "cell_type": "markdown",
   "id": "0010f3da",
   "metadata": {},
   "source": [
    "   2. all levels\n",
    "   $${\\sf exit\\_rate} _{naics_4,t} = \\alpha_s + \\gamma_t + \\beta_1 {\\sf Reg}_{naics_2,t} + \\beta_2 {\\sf Reg}_{naics_3,t} + \\beta_3 {\\sf Reg}_{naics_4,t} + \\beta_4 {\\sf entry\\_rates} + \\epsilon_{naics_4,t}$$"
   ]
  },
  {
   "cell_type": "code",
   "execution_count": 24,
   "id": "39a1e1b9",
   "metadata": {},
   "outputs": [
    {
     "name": "stdout",
     "output_type": "stream",
     "text": [
      "                     Parameter  Std. Err.  T-stat  P-value  Lower CI  Upper CI\n",
      "entry_rate              0.0529     0.0338  1.5646   0.1178 -0.013400    0.1193\n",
      "log_restriction_1_2    -0.0019     0.0037 -0.5083   0.6113 -0.009100    0.0054\n",
      "log_restriction_1_3    -0.0005     0.0047 -0.1054   0.9161 -0.009600    0.0087\n",
      "log_restriction_1_4     0.0068     0.0035  1.9674   0.0493  0.000022    0.0137\n"
     ]
    }
   ],
   "source": [
    "data = df_age\n",
    "# sample restriction\n",
    "data = data[data.year > 1985]\n",
    "\n",
    "# regression\n",
    "data = data.set_index(['sector', 'year'])\n",
    "data = data.loc[:, ['entry_rate', 'death_rate', 'log_incumbents',\n",
    "                    'log_restriction_1_2', 'log_restriction_1_3', \n",
    "                    'log_restriction_1_4']].dropna()\n",
    "mod = PanelOLS.from_formula(formula = \n",
    "                            'death_rate ~ log_restriction_1_2 + log_restriction_1_3 + log_restriction_1_4  \\\n",
    "                            + entry_rate  + EntityEffects + TimeEffects',\n",
    "                            data = data)\n",
    "res = mod.fit(cov_type = 'heteroskedastic')\n",
    "\n",
    "# results\n",
    "results_as_html = res.summary.tables[1].as_html()\n",
    "results_table = pd.read_html(results_as_html, header=0, index_col=0)[0]\n",
    "\n",
    "print(results_table)"
   ]
  },
  {
   "cell_type": "markdown",
   "id": "3e4fa038",
   "metadata": {},
   "source": [
    "3. using log level measure\n",
    "   1. one level of regulation\n",
    "   $$\\log({\\sf exit}_{naics_4,t}) = \\alpha_s + \\gamma_t + \\beta_1 {\\sf Reg}_{s,t} + \\beta_2 \\log({\\sf incumbents})  + \\epsilon_{naics_4,t}$$"
   ]
  },
  {
   "cell_type": "code",
   "execution_count": 15,
   "id": "8c327df2",
   "metadata": {},
   "outputs": [
    {
     "name": "stdout",
     "output_type": "stream",
     "text": [
      "                     Parameter  Std. Err.   T-stat  P-value  Lower CI  \\\n",
      "log_incumbents          0.9882     0.0333  29.6840   0.0000    0.9229   \n",
      "log_restriction_1_2     0.0009     0.0296   0.0289   0.9769   -0.0572   \n",
      "\n",
      "                     Upper CI  \n",
      "log_incumbents         1.0534  \n",
      "log_restriction_1_2    0.0590  \n",
      "                     Parameter  Std. Err.   T-stat  P-value  Lower CI  \\\n",
      "log_incumbents          0.9783     0.0278  35.2150   0.0000    0.9238   \n",
      "log_restriction_1_3     0.0309     0.0118   2.6251   0.0087    0.0078   \n",
      "\n",
      "                     Upper CI  \n",
      "log_incumbents         1.0327  \n",
      "log_restriction_1_3    0.0540  \n",
      "                     Parameter  Std. Err.   T-stat  P-value  Lower CI  \\\n",
      "log_incumbents          1.1318     0.0249  45.3910      0.0    1.0829   \n",
      "log_restriction_1_4     0.0533     0.0130   4.1003      0.0    0.0278   \n",
      "\n",
      "                     Upper CI  \n",
      "log_incumbents         1.1807  \n",
      "log_restriction_1_4    0.0788  \n"
     ]
    }
   ],
   "source": [
    "results_dict_3 = dict()\n",
    "for naics_curr in range(2, 5):\n",
    "    # load data\n",
    "    data = df_age\n",
    "    # sample restriction\n",
    "    data = data[data.year > 1985]\n",
    "\n",
    "    # regression\n",
    "    data = data.set_index(['sector', 'year'])\n",
    "    data = data.loc[:, ['log_entry', 'log_death', 'log_incumbents', f'log_restriction_1_{naics_curr}']].dropna()\n",
    "    mod = PanelOLS.from_formula(formula = f'log_death ~ log_restriction_1_{naics_curr}  + log_incumbents + EntityEffects + TimeEffects',\n",
    "                                data = data)\n",
    "    res = mod.fit(cov_type = 'heteroskedastic')\n",
    "\n",
    "    # results\n",
    "    results_as_html = res.summary.tables[1].as_html()\n",
    "    results_table = pd.read_html(results_as_html, header=0, index_col=0)[0]\n",
    "    file_name_curr = f\"reg_{naics_curr}\"\n",
    "    results_dict_3[file_name_curr] = results_table\n",
    "\n",
    "print(results_dict_3['reg_2'])\n",
    "print(results_dict_3['reg_3'])\n",
    "print(results_dict_3['reg_4'])"
   ]
  },
  {
   "cell_type": "markdown",
   "id": "3e4fa038",
   "metadata": {},
   "source": [
    "   2. all levels of regulation\n",
    "   $$\\log({\\sf exit}_{naics_4,t}) = \\alpha_s + \\gamma_t+ \\beta_1 {\\sf Reg}_{naics_2,t} + \\beta_2 {\\sf Reg}_{naics_3,t} + \\beta_3 {\\sf Reg}_{naics_4,t} + \\beta_4 \\log({\\sf incumbents})  + \\epsilon_{naics_4,t}$$"
   ]
  },
  {
   "cell_type": "code",
   "execution_count": 49,
   "id": "8c327df2",
   "metadata": {},
   "outputs": [
    {
     "ename": "KeyError",
     "evalue": "\"None of [Index(['log_entry', 'log_death', 'log_incumbents', 'log_restriction_1_2',\\n       'log_restriction_1_3', 'log_restriction_1_4'],\\n      dtype='object')] are in the [columns]\"",
     "output_type": "error",
     "traceback": [
      "\u001b[1;31m---------------------------------------------------------------------------\u001b[0m",
      "\u001b[1;31mKeyError\u001b[0m                                  Traceback (most recent call last)",
      "\u001b[1;32m~\\AppData\\Local\\Temp/ipykernel_9784/2502422086.py\u001b[0m in \u001b[0;36m<module>\u001b[1;34m\u001b[0m\n\u001b[0;32m      5\u001b[0m \u001b[1;31m# regression\u001b[0m\u001b[1;33m\u001b[0m\u001b[1;33m\u001b[0m\u001b[0m\n\u001b[0;32m      6\u001b[0m \u001b[0mdata\u001b[0m \u001b[1;33m=\u001b[0m \u001b[0mdata\u001b[0m\u001b[1;33m.\u001b[0m\u001b[0mset_index\u001b[0m\u001b[1;33m(\u001b[0m\u001b[1;33m[\u001b[0m\u001b[1;34m'sector'\u001b[0m\u001b[1;33m,\u001b[0m \u001b[1;34m'year'\u001b[0m\u001b[1;33m]\u001b[0m\u001b[1;33m)\u001b[0m\u001b[1;33m\u001b[0m\u001b[1;33m\u001b[0m\u001b[0m\n\u001b[1;32m----> 7\u001b[1;33m data = data.loc[:, ['log_entry', 'log_death', 'log_incumbents', \n\u001b[0m\u001b[0;32m      8\u001b[0m                     \u001b[1;34m'log_restriction_1_2'\u001b[0m\u001b[1;33m,\u001b[0m \u001b[1;34m'log_restriction_1_3'\u001b[0m\u001b[1;33m,\u001b[0m\u001b[1;33m\u001b[0m\u001b[1;33m\u001b[0m\u001b[0m\n\u001b[0;32m      9\u001b[0m                     'log_restriction_1_4']].dropna()\n",
      "\u001b[1;32mc:\\Users\\zach_\\anaconda3\\lib\\site-packages\\pandas\\core\\indexing.py\u001b[0m in \u001b[0;36m__getitem__\u001b[1;34m(self, key)\u001b[0m\n\u001b[0;32m    923\u001b[0m                 \u001b[1;32mwith\u001b[0m \u001b[0msuppress\u001b[0m\u001b[1;33m(\u001b[0m\u001b[0mKeyError\u001b[0m\u001b[1;33m,\u001b[0m \u001b[0mIndexError\u001b[0m\u001b[1;33m)\u001b[0m\u001b[1;33m:\u001b[0m\u001b[1;33m\u001b[0m\u001b[1;33m\u001b[0m\u001b[0m\n\u001b[0;32m    924\u001b[0m                     \u001b[1;32mreturn\u001b[0m \u001b[0mself\u001b[0m\u001b[1;33m.\u001b[0m\u001b[0mobj\u001b[0m\u001b[1;33m.\u001b[0m\u001b[0m_get_value\u001b[0m\u001b[1;33m(\u001b[0m\u001b[1;33m*\u001b[0m\u001b[0mkey\u001b[0m\u001b[1;33m,\u001b[0m \u001b[0mtakeable\u001b[0m\u001b[1;33m=\u001b[0m\u001b[0mself\u001b[0m\u001b[1;33m.\u001b[0m\u001b[0m_takeable\u001b[0m\u001b[1;33m)\u001b[0m\u001b[1;33m\u001b[0m\u001b[1;33m\u001b[0m\u001b[0m\n\u001b[1;32m--> 925\u001b[1;33m             \u001b[1;32mreturn\u001b[0m \u001b[0mself\u001b[0m\u001b[1;33m.\u001b[0m\u001b[0m_getitem_tuple\u001b[0m\u001b[1;33m(\u001b[0m\u001b[0mkey\u001b[0m\u001b[1;33m)\u001b[0m\u001b[1;33m\u001b[0m\u001b[1;33m\u001b[0m\u001b[0m\n\u001b[0m\u001b[0;32m    926\u001b[0m         \u001b[1;32melse\u001b[0m\u001b[1;33m:\u001b[0m\u001b[1;33m\u001b[0m\u001b[1;33m\u001b[0m\u001b[0m\n\u001b[0;32m    927\u001b[0m             \u001b[1;31m# we by definition only have the 0th axis\u001b[0m\u001b[1;33m\u001b[0m\u001b[1;33m\u001b[0m\u001b[0m\n",
      "\u001b[1;32mc:\\Users\\zach_\\anaconda3\\lib\\site-packages\\pandas\\core\\indexing.py\u001b[0m in \u001b[0;36m_getitem_tuple\u001b[1;34m(self, tup)\u001b[0m\n\u001b[0;32m   1098\u001b[0m     \u001b[1;32mdef\u001b[0m \u001b[0m_getitem_tuple\u001b[0m\u001b[1;33m(\u001b[0m\u001b[0mself\u001b[0m\u001b[1;33m,\u001b[0m \u001b[0mtup\u001b[0m\u001b[1;33m:\u001b[0m \u001b[0mtuple\u001b[0m\u001b[1;33m)\u001b[0m\u001b[1;33m:\u001b[0m\u001b[1;33m\u001b[0m\u001b[1;33m\u001b[0m\u001b[0m\n\u001b[0;32m   1099\u001b[0m         \u001b[1;32mwith\u001b[0m \u001b[0msuppress\u001b[0m\u001b[1;33m(\u001b[0m\u001b[0mIndexingError\u001b[0m\u001b[1;33m)\u001b[0m\u001b[1;33m:\u001b[0m\u001b[1;33m\u001b[0m\u001b[1;33m\u001b[0m\u001b[0m\n\u001b[1;32m-> 1100\u001b[1;33m             \u001b[1;32mreturn\u001b[0m \u001b[0mself\u001b[0m\u001b[1;33m.\u001b[0m\u001b[0m_getitem_lowerdim\u001b[0m\u001b[1;33m(\u001b[0m\u001b[0mtup\u001b[0m\u001b[1;33m)\u001b[0m\u001b[1;33m\u001b[0m\u001b[1;33m\u001b[0m\u001b[0m\n\u001b[0m\u001b[0;32m   1101\u001b[0m \u001b[1;33m\u001b[0m\u001b[0m\n\u001b[0;32m   1102\u001b[0m         \u001b[1;31m# no multi-index, so validate all of the indexers\u001b[0m\u001b[1;33m\u001b[0m\u001b[1;33m\u001b[0m\u001b[0m\n",
      "\u001b[1;32mc:\\Users\\zach_\\anaconda3\\lib\\site-packages\\pandas\\core\\indexing.py\u001b[0m in \u001b[0;36m_getitem_lowerdim\u001b[1;34m(self, tup)\u001b[0m\n\u001b[0;32m    820\u001b[0m         \u001b[1;31m# we may have a nested tuples indexer here\u001b[0m\u001b[1;33m\u001b[0m\u001b[1;33m\u001b[0m\u001b[0m\n\u001b[0;32m    821\u001b[0m         \u001b[1;32mif\u001b[0m \u001b[0mself\u001b[0m\u001b[1;33m.\u001b[0m\u001b[0m_is_nested_tuple_indexer\u001b[0m\u001b[1;33m(\u001b[0m\u001b[0mtup\u001b[0m\u001b[1;33m)\u001b[0m\u001b[1;33m:\u001b[0m\u001b[1;33m\u001b[0m\u001b[1;33m\u001b[0m\u001b[0m\n\u001b[1;32m--> 822\u001b[1;33m             \u001b[1;32mreturn\u001b[0m \u001b[0mself\u001b[0m\u001b[1;33m.\u001b[0m\u001b[0m_getitem_nested_tuple\u001b[0m\u001b[1;33m(\u001b[0m\u001b[0mtup\u001b[0m\u001b[1;33m)\u001b[0m\u001b[1;33m\u001b[0m\u001b[1;33m\u001b[0m\u001b[0m\n\u001b[0m\u001b[0;32m    823\u001b[0m \u001b[1;33m\u001b[0m\u001b[0m\n\u001b[0;32m    824\u001b[0m         \u001b[1;31m# we maybe be using a tuple to represent multiple dimensions here\u001b[0m\u001b[1;33m\u001b[0m\u001b[1;33m\u001b[0m\u001b[0m\n",
      "\u001b[1;32mc:\\Users\\zach_\\anaconda3\\lib\\site-packages\\pandas\\core\\indexing.py\u001b[0m in \u001b[0;36m_getitem_nested_tuple\u001b[1;34m(self, tup)\u001b[0m\n\u001b[0;32m    904\u001b[0m                 \u001b[1;32mcontinue\u001b[0m\u001b[1;33m\u001b[0m\u001b[1;33m\u001b[0m\u001b[0m\n\u001b[0;32m    905\u001b[0m \u001b[1;33m\u001b[0m\u001b[0m\n\u001b[1;32m--> 906\u001b[1;33m             \u001b[0mobj\u001b[0m \u001b[1;33m=\u001b[0m \u001b[0mgetattr\u001b[0m\u001b[1;33m(\u001b[0m\u001b[0mobj\u001b[0m\u001b[1;33m,\u001b[0m \u001b[0mself\u001b[0m\u001b[1;33m.\u001b[0m\u001b[0mname\u001b[0m\u001b[1;33m)\u001b[0m\u001b[1;33m.\u001b[0m\u001b[0m_getitem_axis\u001b[0m\u001b[1;33m(\u001b[0m\u001b[0mkey\u001b[0m\u001b[1;33m,\u001b[0m \u001b[0maxis\u001b[0m\u001b[1;33m=\u001b[0m\u001b[0maxis\u001b[0m\u001b[1;33m)\u001b[0m\u001b[1;33m\u001b[0m\u001b[1;33m\u001b[0m\u001b[0m\n\u001b[0m\u001b[0;32m    907\u001b[0m             \u001b[0maxis\u001b[0m \u001b[1;33m-=\u001b[0m \u001b[1;36m1\u001b[0m\u001b[1;33m\u001b[0m\u001b[1;33m\u001b[0m\u001b[0m\n\u001b[0;32m    908\u001b[0m \u001b[1;33m\u001b[0m\u001b[0m\n",
      "\u001b[1;32mc:\\Users\\zach_\\anaconda3\\lib\\site-packages\\pandas\\core\\indexing.py\u001b[0m in \u001b[0;36m_getitem_axis\u001b[1;34m(self, key, axis)\u001b[0m\n\u001b[0;32m   1151\u001b[0m                     \u001b[1;32mraise\u001b[0m \u001b[0mValueError\u001b[0m\u001b[1;33m(\u001b[0m\u001b[1;34m\"Cannot index with multidimensional key\"\u001b[0m\u001b[1;33m)\u001b[0m\u001b[1;33m\u001b[0m\u001b[1;33m\u001b[0m\u001b[0m\n\u001b[0;32m   1152\u001b[0m \u001b[1;33m\u001b[0m\u001b[0m\n\u001b[1;32m-> 1153\u001b[1;33m                 \u001b[1;32mreturn\u001b[0m \u001b[0mself\u001b[0m\u001b[1;33m.\u001b[0m\u001b[0m_getitem_iterable\u001b[0m\u001b[1;33m(\u001b[0m\u001b[0mkey\u001b[0m\u001b[1;33m,\u001b[0m \u001b[0maxis\u001b[0m\u001b[1;33m=\u001b[0m\u001b[0maxis\u001b[0m\u001b[1;33m)\u001b[0m\u001b[1;33m\u001b[0m\u001b[1;33m\u001b[0m\u001b[0m\n\u001b[0m\u001b[0;32m   1154\u001b[0m \u001b[1;33m\u001b[0m\u001b[0m\n\u001b[0;32m   1155\u001b[0m             \u001b[1;31m# nested tuple slicing\u001b[0m\u001b[1;33m\u001b[0m\u001b[1;33m\u001b[0m\u001b[0m\n",
      "\u001b[1;32mc:\\Users\\zach_\\anaconda3\\lib\\site-packages\\pandas\\core\\indexing.py\u001b[0m in \u001b[0;36m_getitem_iterable\u001b[1;34m(self, key, axis)\u001b[0m\n\u001b[0;32m   1091\u001b[0m \u001b[1;33m\u001b[0m\u001b[0m\n\u001b[0;32m   1092\u001b[0m         \u001b[1;31m# A collection of keys\u001b[0m\u001b[1;33m\u001b[0m\u001b[1;33m\u001b[0m\u001b[0m\n\u001b[1;32m-> 1093\u001b[1;33m         \u001b[0mkeyarr\u001b[0m\u001b[1;33m,\u001b[0m \u001b[0mindexer\u001b[0m \u001b[1;33m=\u001b[0m \u001b[0mself\u001b[0m\u001b[1;33m.\u001b[0m\u001b[0m_get_listlike_indexer\u001b[0m\u001b[1;33m(\u001b[0m\u001b[0mkey\u001b[0m\u001b[1;33m,\u001b[0m \u001b[0maxis\u001b[0m\u001b[1;33m)\u001b[0m\u001b[1;33m\u001b[0m\u001b[1;33m\u001b[0m\u001b[0m\n\u001b[0m\u001b[0;32m   1094\u001b[0m         return self.obj._reindex_with_indexers(\n\u001b[0;32m   1095\u001b[0m             \u001b[1;33m{\u001b[0m\u001b[0maxis\u001b[0m\u001b[1;33m:\u001b[0m \u001b[1;33m[\u001b[0m\u001b[0mkeyarr\u001b[0m\u001b[1;33m,\u001b[0m \u001b[0mindexer\u001b[0m\u001b[1;33m]\u001b[0m\u001b[1;33m}\u001b[0m\u001b[1;33m,\u001b[0m \u001b[0mcopy\u001b[0m\u001b[1;33m=\u001b[0m\u001b[1;32mTrue\u001b[0m\u001b[1;33m,\u001b[0m \u001b[0mallow_dups\u001b[0m\u001b[1;33m=\u001b[0m\u001b[1;32mTrue\u001b[0m\u001b[1;33m\u001b[0m\u001b[1;33m\u001b[0m\u001b[0m\n",
      "\u001b[1;32mc:\\Users\\zach_\\anaconda3\\lib\\site-packages\\pandas\\core\\indexing.py\u001b[0m in \u001b[0;36m_get_listlike_indexer\u001b[1;34m(self, key, axis)\u001b[0m\n\u001b[0;32m   1312\u001b[0m             \u001b[0mkeyarr\u001b[0m\u001b[1;33m,\u001b[0m \u001b[0mindexer\u001b[0m\u001b[1;33m,\u001b[0m \u001b[0mnew_indexer\u001b[0m \u001b[1;33m=\u001b[0m \u001b[0max\u001b[0m\u001b[1;33m.\u001b[0m\u001b[0m_reindex_non_unique\u001b[0m\u001b[1;33m(\u001b[0m\u001b[0mkeyarr\u001b[0m\u001b[1;33m)\u001b[0m\u001b[1;33m\u001b[0m\u001b[1;33m\u001b[0m\u001b[0m\n\u001b[0;32m   1313\u001b[0m \u001b[1;33m\u001b[0m\u001b[0m\n\u001b[1;32m-> 1314\u001b[1;33m         \u001b[0mself\u001b[0m\u001b[1;33m.\u001b[0m\u001b[0m_validate_read_indexer\u001b[0m\u001b[1;33m(\u001b[0m\u001b[0mkeyarr\u001b[0m\u001b[1;33m,\u001b[0m \u001b[0mindexer\u001b[0m\u001b[1;33m,\u001b[0m \u001b[0maxis\u001b[0m\u001b[1;33m)\u001b[0m\u001b[1;33m\u001b[0m\u001b[1;33m\u001b[0m\u001b[0m\n\u001b[0m\u001b[0;32m   1315\u001b[0m \u001b[1;33m\u001b[0m\u001b[0m\n\u001b[0;32m   1316\u001b[0m         if needs_i8_conversion(ax.dtype) or isinstance(\n",
      "\u001b[1;32mc:\\Users\\zach_\\anaconda3\\lib\\site-packages\\pandas\\core\\indexing.py\u001b[0m in \u001b[0;36m_validate_read_indexer\u001b[1;34m(self, key, indexer, axis)\u001b[0m\n\u001b[0;32m   1372\u001b[0m                 \u001b[1;32mif\u001b[0m \u001b[0muse_interval_msg\u001b[0m\u001b[1;33m:\u001b[0m\u001b[1;33m\u001b[0m\u001b[1;33m\u001b[0m\u001b[0m\n\u001b[0;32m   1373\u001b[0m                     \u001b[0mkey\u001b[0m \u001b[1;33m=\u001b[0m \u001b[0mlist\u001b[0m\u001b[1;33m(\u001b[0m\u001b[0mkey\u001b[0m\u001b[1;33m)\u001b[0m\u001b[1;33m\u001b[0m\u001b[1;33m\u001b[0m\u001b[0m\n\u001b[1;32m-> 1374\u001b[1;33m                 \u001b[1;32mraise\u001b[0m \u001b[0mKeyError\u001b[0m\u001b[1;33m(\u001b[0m\u001b[1;34mf\"None of [{key}] are in the [{axis_name}]\"\u001b[0m\u001b[1;33m)\u001b[0m\u001b[1;33m\u001b[0m\u001b[1;33m\u001b[0m\u001b[0m\n\u001b[0m\u001b[0;32m   1375\u001b[0m \u001b[1;33m\u001b[0m\u001b[0m\n\u001b[0;32m   1376\u001b[0m             \u001b[0mnot_found\u001b[0m \u001b[1;33m=\u001b[0m \u001b[0mlist\u001b[0m\u001b[1;33m(\u001b[0m\u001b[0mensure_index\u001b[0m\u001b[1;33m(\u001b[0m\u001b[0mkey\u001b[0m\u001b[1;33m)\u001b[0m\u001b[1;33m[\u001b[0m\u001b[0mmissing_mask\u001b[0m\u001b[1;33m.\u001b[0m\u001b[0mnonzero\u001b[0m\u001b[1;33m(\u001b[0m\u001b[1;33m)\u001b[0m\u001b[1;33m[\u001b[0m\u001b[1;36m0\u001b[0m\u001b[1;33m]\u001b[0m\u001b[1;33m]\u001b[0m\u001b[1;33m.\u001b[0m\u001b[0munique\u001b[0m\u001b[1;33m(\u001b[0m\u001b[1;33m)\u001b[0m\u001b[1;33m)\u001b[0m\u001b[1;33m\u001b[0m\u001b[1;33m\u001b[0m\u001b[0m\n",
      "\u001b[1;31mKeyError\u001b[0m: \"None of [Index(['log_entry', 'log_death', 'log_incumbents', 'log_restriction_1_2',\\n       'log_restriction_1_3', 'log_restriction_1_4'],\\n      dtype='object')] are in the [columns]\""
     ]
    }
   ],
   "source": [
    "data = df_age\n",
    "# sample restriction\n",
    "data = data[data.year > 1985]\n",
    "\n",
    "# regression\n",
    "data = data.set_index(['sector', 'year'])\n",
    "data = data.loc[:, ['log_entry', 'log_death', 'log_incumbents', \n",
    "                    'log_restriction_1_2', 'log_restriction_1_3', \n",
    "                    'log_restriction_1_4']].dropna()\n",
    "mod = PanelOLS.from_formula(formula = \n",
    "                            'log_death ~ log_restriction_1_2 + log_restriction_1_3 + log_restriction_1_4  \\\n",
    "                            + log_incumbents + EntityEffects + TimeEffects',\n",
    "                            data = data)\n",
    "res = mod.fit(cov_type = 'heteroskedastic')\n",
    "\n",
    "# results\n",
    "results_as_html = res.summary.tables[1].as_html()\n",
    "results_table = pd.read_html(results_as_html, header=0, index_col=0)[0]\n",
    "\n",
    "print(results_table)"
   ]
  },
  {
   "cell_type": "markdown",
   "id": "d65f9c9e",
   "metadata": {},
   "source": [
    "4. Adding measure of death\n",
    "   1. one level only\n",
    "   $$\\log({\\sf exit}_{naics_4,t}) = \\alpha_s + \\gamma_t + \\beta_1 {\\sf Reg}_{s,t} + \\beta_2 \\log({\\sf entry})  + \\beta_3 \\log({\\sf incumbents}) + \\epsilon_{naics_4,t}$$"
   ]
  },
  {
   "cell_type": "code",
   "execution_count": 18,
   "id": "9d0d62bd",
   "metadata": {},
   "outputs": [
    {
     "name": "stdout",
     "output_type": "stream",
     "text": [
      "                     Parameter  Std. Err.   T-stat  P-value  Lower CI  \\\n",
      "log_entry               0.1830     0.0237   7.7205    0.000    0.1366   \n",
      "log_incumbents          0.8240     0.0440  18.7470    0.000    0.7379   \n",
      "log_restriction_1_2     0.0071     0.0277   0.2572    0.797   -0.0472   \n",
      "\n",
      "                     Upper CI  \n",
      "log_entry              0.2295  \n",
      "log_incumbents         0.9102  \n",
      "log_restriction_1_2    0.0614  \n",
      "                     Parameter  Std. Err.   T-stat  P-value  Lower CI  \\\n",
      "log_entry               0.1658     0.0244   6.8016   0.0000    0.1180   \n",
      "log_incumbents          0.8181     0.0408  20.0320   0.0000    0.7380   \n",
      "log_restriction_1_3     0.0413     0.0117   3.5236   0.0004    0.0183   \n",
      "\n",
      "                     Upper CI  \n",
      "log_entry              0.2136  \n",
      "log_incumbents         0.8981  \n",
      "log_restriction_1_3    0.0642  \n",
      "                     Parameter  Std. Err.   T-stat  P-value  Lower CI  \\\n",
      "log_entry               0.0609     0.0234   2.6022   0.0093    0.0150   \n",
      "log_incumbents          1.0667     0.0359  29.7530   0.0000    0.9964   \n",
      "log_restriction_1_4     0.0517     0.0129   4.0043   0.0001    0.0264   \n",
      "\n",
      "                     Upper CI  \n",
      "log_entry              0.1069  \n",
      "log_incumbents         1.1370  \n",
      "log_restriction_1_4    0.0770  \n"
     ]
    }
   ],
   "source": [
    "results_dict_4 = dict()\n",
    "for naics_curr in range(2, 5):\n",
    "    # load data\n",
    "    data = df_age\n",
    "    # sample restriction\n",
    "    data = data[data.year > 1985]\n",
    "\n",
    "    # regression\n",
    "    data = data.set_index(['sector', 'year'])\n",
    "    data = data.loc[:, ['log_entry', 'log_death', 'log_incumbents', f'log_restriction_1_{naics_curr}']].dropna()\n",
    "    mod = PanelOLS.from_formula(formula = f'log_death ~ log_restriction_1_{naics_curr}  + log_incumbents + log_entry + EntityEffects + TimeEffects',\n",
    "                                data = data)\n",
    "    res = mod.fit(cov_type = 'heteroskedastic')\n",
    "\n",
    "    # results\n",
    "    results_as_html = res.summary.tables[1].as_html()\n",
    "    results_table = pd.read_html(results_as_html, header=0, index_col=0)[0]\n",
    "    file_name_curr = f\"reg_{naics_curr}\"\n",
    "    results_dict_4[file_name_curr] = results_table\n",
    "\n",
    "print(results_dict_4['reg_2'])\n",
    "print(results_dict_4['reg_3'])\n",
    "print(results_dict_4['reg_4'])"
   ]
  },
  {
   "cell_type": "markdown",
   "id": "d65f9c9e",
   "metadata": {},
   "source": [
    "   2. all levels\n",
    "   $$\\log({\\sf exit}_{naics_4,t}) = \\alpha_s + \\gamma_t + \\beta_1 {\\sf Reg}_{naics_2,t} + \\beta_2 {\\sf Reg}_{naics_3,t} + \\beta_3 {\\sf Reg}_{naics_4,t} + \\beta_4 \\log({\\sf entry})  + \\beta_5 \\log({\\sf incumbents}) + \\epsilon_{naics_4,t}$$"
   ]
  },
  {
   "cell_type": "code",
   "execution_count": 34,
   "id": "9d0d62bd",
   "metadata": {},
   "outputs": [
    {
     "ename": "KeyError",
     "evalue": "\"None of [Index(['log_entry', 'log_death', 'log_incumbents', 'log_restriction_1_2',\\n       'log_restriction_1_3', 'log_restriction_1_4'],\\n      dtype='object')] are in the [columns]\"",
     "output_type": "error",
     "traceback": [
      "\u001b[1;31m---------------------------------------------------------------------------\u001b[0m",
      "\u001b[1;31mKeyError\u001b[0m                                  Traceback (most recent call last)",
      "\u001b[1;32m~\\AppData\\Local\\Temp/ipykernel_8264/2171388810.py\u001b[0m in \u001b[0;36m<module>\u001b[1;34m\u001b[0m\n\u001b[0;32m      5\u001b[0m \u001b[1;31m# regression\u001b[0m\u001b[1;33m\u001b[0m\u001b[1;33m\u001b[0m\u001b[0m\n\u001b[0;32m      6\u001b[0m \u001b[0mdata\u001b[0m \u001b[1;33m=\u001b[0m \u001b[0mdata\u001b[0m\u001b[1;33m.\u001b[0m\u001b[0mset_index\u001b[0m\u001b[1;33m(\u001b[0m\u001b[1;33m[\u001b[0m\u001b[1;34m'sector'\u001b[0m\u001b[1;33m,\u001b[0m \u001b[1;34m'year'\u001b[0m\u001b[1;33m]\u001b[0m\u001b[1;33m)\u001b[0m\u001b[1;33m\u001b[0m\u001b[1;33m\u001b[0m\u001b[0m\n\u001b[1;32m----> 7\u001b[1;33m data = data.loc[:, ['log_entry', 'log_death', 'log_incumbents', \n\u001b[0m\u001b[0;32m      8\u001b[0m                     \u001b[1;34m'log_restriction_1_2'\u001b[0m\u001b[1;33m,\u001b[0m \u001b[1;34m'log_restriction_1_3'\u001b[0m\u001b[1;33m,\u001b[0m\u001b[1;33m\u001b[0m\u001b[1;33m\u001b[0m\u001b[0m\n\u001b[0;32m      9\u001b[0m                     'log_restriction_1_4']].dropna()\n",
      "\u001b[1;32m~\\anaconda3\\lib\\site-packages\\pandas\\core\\indexing.py\u001b[0m in \u001b[0;36m__getitem__\u001b[1;34m(self, key)\u001b[0m\n\u001b[0;32m    923\u001b[0m                 \u001b[1;32mwith\u001b[0m \u001b[0msuppress\u001b[0m\u001b[1;33m(\u001b[0m\u001b[0mKeyError\u001b[0m\u001b[1;33m,\u001b[0m \u001b[0mIndexError\u001b[0m\u001b[1;33m)\u001b[0m\u001b[1;33m:\u001b[0m\u001b[1;33m\u001b[0m\u001b[1;33m\u001b[0m\u001b[0m\n\u001b[0;32m    924\u001b[0m                     \u001b[1;32mreturn\u001b[0m \u001b[0mself\u001b[0m\u001b[1;33m.\u001b[0m\u001b[0mobj\u001b[0m\u001b[1;33m.\u001b[0m\u001b[0m_get_value\u001b[0m\u001b[1;33m(\u001b[0m\u001b[1;33m*\u001b[0m\u001b[0mkey\u001b[0m\u001b[1;33m,\u001b[0m \u001b[0mtakeable\u001b[0m\u001b[1;33m=\u001b[0m\u001b[0mself\u001b[0m\u001b[1;33m.\u001b[0m\u001b[0m_takeable\u001b[0m\u001b[1;33m)\u001b[0m\u001b[1;33m\u001b[0m\u001b[1;33m\u001b[0m\u001b[0m\n\u001b[1;32m--> 925\u001b[1;33m             \u001b[1;32mreturn\u001b[0m \u001b[0mself\u001b[0m\u001b[1;33m.\u001b[0m\u001b[0m_getitem_tuple\u001b[0m\u001b[1;33m(\u001b[0m\u001b[0mkey\u001b[0m\u001b[1;33m)\u001b[0m\u001b[1;33m\u001b[0m\u001b[1;33m\u001b[0m\u001b[0m\n\u001b[0m\u001b[0;32m    926\u001b[0m         \u001b[1;32melse\u001b[0m\u001b[1;33m:\u001b[0m\u001b[1;33m\u001b[0m\u001b[1;33m\u001b[0m\u001b[0m\n\u001b[0;32m    927\u001b[0m             \u001b[1;31m# we by definition only have the 0th axis\u001b[0m\u001b[1;33m\u001b[0m\u001b[1;33m\u001b[0m\u001b[0m\n",
      "\u001b[1;32m~\\anaconda3\\lib\\site-packages\\pandas\\core\\indexing.py\u001b[0m in \u001b[0;36m_getitem_tuple\u001b[1;34m(self, tup)\u001b[0m\n\u001b[0;32m   1098\u001b[0m     \u001b[1;32mdef\u001b[0m \u001b[0m_getitem_tuple\u001b[0m\u001b[1;33m(\u001b[0m\u001b[0mself\u001b[0m\u001b[1;33m,\u001b[0m \u001b[0mtup\u001b[0m\u001b[1;33m:\u001b[0m \u001b[0mtuple\u001b[0m\u001b[1;33m)\u001b[0m\u001b[1;33m:\u001b[0m\u001b[1;33m\u001b[0m\u001b[1;33m\u001b[0m\u001b[0m\n\u001b[0;32m   1099\u001b[0m         \u001b[1;32mwith\u001b[0m \u001b[0msuppress\u001b[0m\u001b[1;33m(\u001b[0m\u001b[0mIndexingError\u001b[0m\u001b[1;33m)\u001b[0m\u001b[1;33m:\u001b[0m\u001b[1;33m\u001b[0m\u001b[1;33m\u001b[0m\u001b[0m\n\u001b[1;32m-> 1100\u001b[1;33m             \u001b[1;32mreturn\u001b[0m \u001b[0mself\u001b[0m\u001b[1;33m.\u001b[0m\u001b[0m_getitem_lowerdim\u001b[0m\u001b[1;33m(\u001b[0m\u001b[0mtup\u001b[0m\u001b[1;33m)\u001b[0m\u001b[1;33m\u001b[0m\u001b[1;33m\u001b[0m\u001b[0m\n\u001b[0m\u001b[0;32m   1101\u001b[0m \u001b[1;33m\u001b[0m\u001b[0m\n\u001b[0;32m   1102\u001b[0m         \u001b[1;31m# no multi-index, so validate all of the indexers\u001b[0m\u001b[1;33m\u001b[0m\u001b[1;33m\u001b[0m\u001b[0m\n",
      "\u001b[1;32m~\\anaconda3\\lib\\site-packages\\pandas\\core\\indexing.py\u001b[0m in \u001b[0;36m_getitem_lowerdim\u001b[1;34m(self, tup)\u001b[0m\n\u001b[0;32m    820\u001b[0m         \u001b[1;31m# we may have a nested tuples indexer here\u001b[0m\u001b[1;33m\u001b[0m\u001b[1;33m\u001b[0m\u001b[0m\n\u001b[0;32m    821\u001b[0m         \u001b[1;32mif\u001b[0m \u001b[0mself\u001b[0m\u001b[1;33m.\u001b[0m\u001b[0m_is_nested_tuple_indexer\u001b[0m\u001b[1;33m(\u001b[0m\u001b[0mtup\u001b[0m\u001b[1;33m)\u001b[0m\u001b[1;33m:\u001b[0m\u001b[1;33m\u001b[0m\u001b[1;33m\u001b[0m\u001b[0m\n\u001b[1;32m--> 822\u001b[1;33m             \u001b[1;32mreturn\u001b[0m \u001b[0mself\u001b[0m\u001b[1;33m.\u001b[0m\u001b[0m_getitem_nested_tuple\u001b[0m\u001b[1;33m(\u001b[0m\u001b[0mtup\u001b[0m\u001b[1;33m)\u001b[0m\u001b[1;33m\u001b[0m\u001b[1;33m\u001b[0m\u001b[0m\n\u001b[0m\u001b[0;32m    823\u001b[0m \u001b[1;33m\u001b[0m\u001b[0m\n\u001b[0;32m    824\u001b[0m         \u001b[1;31m# we maybe be using a tuple to represent multiple dimensions here\u001b[0m\u001b[1;33m\u001b[0m\u001b[1;33m\u001b[0m\u001b[0m\n",
      "\u001b[1;32m~\\anaconda3\\lib\\site-packages\\pandas\\core\\indexing.py\u001b[0m in \u001b[0;36m_getitem_nested_tuple\u001b[1;34m(self, tup)\u001b[0m\n\u001b[0;32m    904\u001b[0m                 \u001b[1;32mcontinue\u001b[0m\u001b[1;33m\u001b[0m\u001b[1;33m\u001b[0m\u001b[0m\n\u001b[0;32m    905\u001b[0m \u001b[1;33m\u001b[0m\u001b[0m\n\u001b[1;32m--> 906\u001b[1;33m             \u001b[0mobj\u001b[0m \u001b[1;33m=\u001b[0m \u001b[0mgetattr\u001b[0m\u001b[1;33m(\u001b[0m\u001b[0mobj\u001b[0m\u001b[1;33m,\u001b[0m \u001b[0mself\u001b[0m\u001b[1;33m.\u001b[0m\u001b[0mname\u001b[0m\u001b[1;33m)\u001b[0m\u001b[1;33m.\u001b[0m\u001b[0m_getitem_axis\u001b[0m\u001b[1;33m(\u001b[0m\u001b[0mkey\u001b[0m\u001b[1;33m,\u001b[0m \u001b[0maxis\u001b[0m\u001b[1;33m=\u001b[0m\u001b[0maxis\u001b[0m\u001b[1;33m)\u001b[0m\u001b[1;33m\u001b[0m\u001b[1;33m\u001b[0m\u001b[0m\n\u001b[0m\u001b[0;32m    907\u001b[0m             \u001b[0maxis\u001b[0m \u001b[1;33m-=\u001b[0m \u001b[1;36m1\u001b[0m\u001b[1;33m\u001b[0m\u001b[1;33m\u001b[0m\u001b[0m\n\u001b[0;32m    908\u001b[0m \u001b[1;33m\u001b[0m\u001b[0m\n",
      "\u001b[1;32m~\\anaconda3\\lib\\site-packages\\pandas\\core\\indexing.py\u001b[0m in \u001b[0;36m_getitem_axis\u001b[1;34m(self, key, axis)\u001b[0m\n\u001b[0;32m   1151\u001b[0m                     \u001b[1;32mraise\u001b[0m \u001b[0mValueError\u001b[0m\u001b[1;33m(\u001b[0m\u001b[1;34m\"Cannot index with multidimensional key\"\u001b[0m\u001b[1;33m)\u001b[0m\u001b[1;33m\u001b[0m\u001b[1;33m\u001b[0m\u001b[0m\n\u001b[0;32m   1152\u001b[0m \u001b[1;33m\u001b[0m\u001b[0m\n\u001b[1;32m-> 1153\u001b[1;33m                 \u001b[1;32mreturn\u001b[0m \u001b[0mself\u001b[0m\u001b[1;33m.\u001b[0m\u001b[0m_getitem_iterable\u001b[0m\u001b[1;33m(\u001b[0m\u001b[0mkey\u001b[0m\u001b[1;33m,\u001b[0m \u001b[0maxis\u001b[0m\u001b[1;33m=\u001b[0m\u001b[0maxis\u001b[0m\u001b[1;33m)\u001b[0m\u001b[1;33m\u001b[0m\u001b[1;33m\u001b[0m\u001b[0m\n\u001b[0m\u001b[0;32m   1154\u001b[0m \u001b[1;33m\u001b[0m\u001b[0m\n\u001b[0;32m   1155\u001b[0m             \u001b[1;31m# nested tuple slicing\u001b[0m\u001b[1;33m\u001b[0m\u001b[1;33m\u001b[0m\u001b[0m\n",
      "\u001b[1;32m~\\anaconda3\\lib\\site-packages\\pandas\\core\\indexing.py\u001b[0m in \u001b[0;36m_getitem_iterable\u001b[1;34m(self, key, axis)\u001b[0m\n\u001b[0;32m   1091\u001b[0m \u001b[1;33m\u001b[0m\u001b[0m\n\u001b[0;32m   1092\u001b[0m         \u001b[1;31m# A collection of keys\u001b[0m\u001b[1;33m\u001b[0m\u001b[1;33m\u001b[0m\u001b[0m\n\u001b[1;32m-> 1093\u001b[1;33m         \u001b[0mkeyarr\u001b[0m\u001b[1;33m,\u001b[0m \u001b[0mindexer\u001b[0m \u001b[1;33m=\u001b[0m \u001b[0mself\u001b[0m\u001b[1;33m.\u001b[0m\u001b[0m_get_listlike_indexer\u001b[0m\u001b[1;33m(\u001b[0m\u001b[0mkey\u001b[0m\u001b[1;33m,\u001b[0m \u001b[0maxis\u001b[0m\u001b[1;33m)\u001b[0m\u001b[1;33m\u001b[0m\u001b[1;33m\u001b[0m\u001b[0m\n\u001b[0m\u001b[0;32m   1094\u001b[0m         return self.obj._reindex_with_indexers(\n\u001b[0;32m   1095\u001b[0m             \u001b[1;33m{\u001b[0m\u001b[0maxis\u001b[0m\u001b[1;33m:\u001b[0m \u001b[1;33m[\u001b[0m\u001b[0mkeyarr\u001b[0m\u001b[1;33m,\u001b[0m \u001b[0mindexer\u001b[0m\u001b[1;33m]\u001b[0m\u001b[1;33m}\u001b[0m\u001b[1;33m,\u001b[0m \u001b[0mcopy\u001b[0m\u001b[1;33m=\u001b[0m\u001b[1;32mTrue\u001b[0m\u001b[1;33m,\u001b[0m \u001b[0mallow_dups\u001b[0m\u001b[1;33m=\u001b[0m\u001b[1;32mTrue\u001b[0m\u001b[1;33m\u001b[0m\u001b[1;33m\u001b[0m\u001b[0m\n",
      "\u001b[1;32m~\\anaconda3\\lib\\site-packages\\pandas\\core\\indexing.py\u001b[0m in \u001b[0;36m_get_listlike_indexer\u001b[1;34m(self, key, axis)\u001b[0m\n\u001b[0;32m   1312\u001b[0m             \u001b[0mkeyarr\u001b[0m\u001b[1;33m,\u001b[0m \u001b[0mindexer\u001b[0m\u001b[1;33m,\u001b[0m \u001b[0mnew_indexer\u001b[0m \u001b[1;33m=\u001b[0m \u001b[0max\u001b[0m\u001b[1;33m.\u001b[0m\u001b[0m_reindex_non_unique\u001b[0m\u001b[1;33m(\u001b[0m\u001b[0mkeyarr\u001b[0m\u001b[1;33m)\u001b[0m\u001b[1;33m\u001b[0m\u001b[1;33m\u001b[0m\u001b[0m\n\u001b[0;32m   1313\u001b[0m \u001b[1;33m\u001b[0m\u001b[0m\n\u001b[1;32m-> 1314\u001b[1;33m         \u001b[0mself\u001b[0m\u001b[1;33m.\u001b[0m\u001b[0m_validate_read_indexer\u001b[0m\u001b[1;33m(\u001b[0m\u001b[0mkeyarr\u001b[0m\u001b[1;33m,\u001b[0m \u001b[0mindexer\u001b[0m\u001b[1;33m,\u001b[0m \u001b[0maxis\u001b[0m\u001b[1;33m)\u001b[0m\u001b[1;33m\u001b[0m\u001b[1;33m\u001b[0m\u001b[0m\n\u001b[0m\u001b[0;32m   1315\u001b[0m \u001b[1;33m\u001b[0m\u001b[0m\n\u001b[0;32m   1316\u001b[0m         if needs_i8_conversion(ax.dtype) or isinstance(\n",
      "\u001b[1;32m~\\anaconda3\\lib\\site-packages\\pandas\\core\\indexing.py\u001b[0m in \u001b[0;36m_validate_read_indexer\u001b[1;34m(self, key, indexer, axis)\u001b[0m\n\u001b[0;32m   1372\u001b[0m                 \u001b[1;32mif\u001b[0m \u001b[0muse_interval_msg\u001b[0m\u001b[1;33m:\u001b[0m\u001b[1;33m\u001b[0m\u001b[1;33m\u001b[0m\u001b[0m\n\u001b[0;32m   1373\u001b[0m                     \u001b[0mkey\u001b[0m \u001b[1;33m=\u001b[0m \u001b[0mlist\u001b[0m\u001b[1;33m(\u001b[0m\u001b[0mkey\u001b[0m\u001b[1;33m)\u001b[0m\u001b[1;33m\u001b[0m\u001b[1;33m\u001b[0m\u001b[0m\n\u001b[1;32m-> 1374\u001b[1;33m                 \u001b[1;32mraise\u001b[0m \u001b[0mKeyError\u001b[0m\u001b[1;33m(\u001b[0m\u001b[1;34mf\"None of [{key}] are in the [{axis_name}]\"\u001b[0m\u001b[1;33m)\u001b[0m\u001b[1;33m\u001b[0m\u001b[1;33m\u001b[0m\u001b[0m\n\u001b[0m\u001b[0;32m   1375\u001b[0m \u001b[1;33m\u001b[0m\u001b[0m\n\u001b[0;32m   1376\u001b[0m             \u001b[0mnot_found\u001b[0m \u001b[1;33m=\u001b[0m \u001b[0mlist\u001b[0m\u001b[1;33m(\u001b[0m\u001b[0mensure_index\u001b[0m\u001b[1;33m(\u001b[0m\u001b[0mkey\u001b[0m\u001b[1;33m)\u001b[0m\u001b[1;33m[\u001b[0m\u001b[0mmissing_mask\u001b[0m\u001b[1;33m.\u001b[0m\u001b[0mnonzero\u001b[0m\u001b[1;33m(\u001b[0m\u001b[1;33m)\u001b[0m\u001b[1;33m[\u001b[0m\u001b[1;36m0\u001b[0m\u001b[1;33m]\u001b[0m\u001b[1;33m]\u001b[0m\u001b[1;33m.\u001b[0m\u001b[0munique\u001b[0m\u001b[1;33m(\u001b[0m\u001b[1;33m)\u001b[0m\u001b[1;33m)\u001b[0m\u001b[1;33m\u001b[0m\u001b[1;33m\u001b[0m\u001b[0m\n",
      "\u001b[1;31mKeyError\u001b[0m: \"None of [Index(['log_entry', 'log_death', 'log_incumbents', 'log_restriction_1_2',\\n       'log_restriction_1_3', 'log_restriction_1_4'],\\n      dtype='object')] are in the [columns]\""
     ]
    }
   ],
   "source": [
    "data = df_age\n",
    "# sample restriction\n",
    "data = data[data.year > 1985]\n",
    "\n",
    "# regression\n",
    "data = data.set_index(['sector', 'year'])\n",
    "data = data.loc[:, ['log_entry', 'log_death', 'log_incumbents', \n",
    "                    'log_restriction_1_2', 'log_restriction_1_3', \n",
    "                    'log_restriction_1_4']].dropna()\n",
    "mod = PanelOLS.from_formula(formula = \n",
    "                            'log_death ~ log_restriction_1_2 + log_restriction_1_3 + log_restriction_1_4  \\\n",
    "                            + log_incumbents + log_entry + EntityEffects + TimeEffects',\n",
    "                            data = data)\n",
    "res = mod.fit(cov_type = 'heteroskedastic')\n",
    "\n",
    "# results\n",
    "results_as_html = res.summary.tables[1].as_html()\n",
    "results_table = pd.read_html(results_as_html, header=0, index_col=0)[0]\n",
    "\n",
    "print(results_table)"
   ]
  },
  {
   "cell_type": "code",
   "execution_count": 33,
   "id": "af17685e",
   "metadata": {},
   "outputs": [
    {
     "data": {
      "text/html": [
       "<table class=\"simpletable\">\n",
       "<caption>PanelOLS Estimation Summary</caption>\n",
       "<tr>\n",
       "  <th>Dep. Variable:</th>       <td>death_rate</td>    <th>  R-squared:         </th>    <td>0.0072</td>  \n",
       "</tr>\n",
       "<tr>\n",
       "  <th>Estimator:</th>            <td>PanelOLS</td>     <th>  R-squared (Between):</th>   <td>0.6091</td>  \n",
       "</tr>\n",
       "<tr>\n",
       "  <th>No. Observations:</th>       <td>2176</td>       <th>  R-squared (Within):</th>    <td>-0.0046</td> \n",
       "</tr>\n",
       "<tr>\n",
       "  <th>Date:</th>             <td>Thu, May 05 2022</td> <th>  R-squared (Overall):</th>   <td>0.5579</td>  \n",
       "</tr>\n",
       "<tr>\n",
       "  <th>Time:</th>                 <td>14:02:16</td>     <th>  Log-likelihood     </th>    <td>4950.5</td>  \n",
       "</tr>\n",
       "<tr>\n",
       "  <th>Cov. Estimator:</th>        <td>Robust</td>      <th>                     </th>       <td></td>     \n",
       "</tr>\n",
       "<tr>\n",
       "  <th></th>                          <td></td>         <th>  F-statistic:       </th>    <td>3.7880</td>  \n",
       "</tr>\n",
       "<tr>\n",
       "  <th>Entities:</th>                <td>262</td>       <th>  P-value            </th>    <td>0.0045</td>  \n",
       "</tr>\n",
       "<tr>\n",
       "  <th>Avg Obs:</th>               <td>8.3053</td>      <th>  Distribution:      </th>   <td>F(4,2075)</td>\n",
       "</tr>\n",
       "<tr>\n",
       "  <th>Min Obs:</th>               <td>0.0000</td>      <th>                     </th>       <td></td>     \n",
       "</tr>\n",
       "<tr>\n",
       "  <th>Max Obs:</th>               <td>34.000</td>      <th>  F-statistic (robust):</th>  <td>1.4800</td>  \n",
       "</tr>\n",
       "<tr>\n",
       "  <th></th>                          <td></td>         <th>  P-value            </th>    <td>0.2056</td>  \n",
       "</tr>\n",
       "<tr>\n",
       "  <th>Time periods:</th>            <td>34</td>        <th>  Distribution:      </th>   <td>F(4,2075)</td>\n",
       "</tr>\n",
       "<tr>\n",
       "  <th>Avg Obs:</th>               <td>64.000</td>      <th>                     </th>       <td></td>     \n",
       "</tr>\n",
       "<tr>\n",
       "  <th>Min Obs:</th>               <td>64.000</td>      <th>                     </th>       <td></td>     \n",
       "</tr>\n",
       "<tr>\n",
       "  <th>Max Obs:</th>               <td>64.000</td>      <th>                     </th>       <td></td>     \n",
       "</tr>\n",
       "<tr>\n",
       "  <th></th>                          <td></td>         <th>                     </th>       <td></td>     \n",
       "</tr>\n",
       "</table>"
      ],
      "text/plain": [
       "<class 'statsmodels.iolib.table.SimpleTable'>"
      ]
     },
     "execution_count": 33,
     "metadata": {},
     "output_type": "execute_result"
    }
   ],
   "source": []
  },
  {
   "cell_type": "markdown",
   "id": "6c537427",
   "metadata": {},
   "source": [
    "## 4. Exit Rates and Reg Data conditional on Age"
   ]
  },
  {
   "cell_type": "markdown",
   "id": "8bc73474",
   "metadata": {},
   "source": [
    "This section redoes the previous section analysis but additional conditional on age."
   ]
  },
  {
   "cell_type": "code",
   "execution_count": 60,
   "id": "0515a67e",
   "metadata": {},
   "outputs": [
    {
     "name": "stderr",
     "output_type": "stream",
     "text": [
      "C:\\Users\\zach_\\anaconda3\\lib\\site-packages\\pandas\\core\\arraylike.py:364: RuntimeWarning:\n",
      "\n",
      "divide by zero encountered in log\n",
      "\n"
     ]
    }
   ],
   "source": [
    "# create data at different aggregation\n",
    "data_dic = dict()\n",
    "\n",
    "# reg data\n",
    "regdata = pd.read_csv('C:\\\\Users\\\\zach_\\\\Nobackupfile\\\\Data\\\\BDS\\\\Regdata\\\\regdata_4_0_industries.csv')\n",
    "regdata['sector_reg'] = regdata['NAICS']\n",
    "regdata = regdata.loc[:,[\"year\", \"sector_reg\", \"industry_restrictions_1_0\", \"industry_restrictions_2_0\"]]\n",
    "\n",
    "# load dataset\n",
    "file_name = \"bds2019_naics_4_age\"\n",
    "file_address = f\"C:\\\\Users\\\\zach_\\\\Nobackupfile\\\\Data\\\\BDS\\\\{file_name}.csv\"\n",
    "df = pd.read_csv(file_address)\n",
    "\n",
    "# clean data\n",
    "df['firms'] = pd.to_numeric(df['firms'], errors='coerce', downcast=None)\n",
    "df['death'] = pd.to_numeric(df['firmdeath_firms'], errors='coerce', downcast=None)\n",
    "\n",
    "# creat aggregation for entry and death measure\n",
    "df_age = pd.DataFrame()\n",
    "df_age['entry_whole'] = df.loc[df['fage'] == 'a) 0', :].groupby(['year', 'sector'])['firms'].sum()\n",
    "df_age['incumbents_whole'] = df.loc[df['fage'] != 'a) 0', :].groupby(['year', 'sector'])['firms'].sum()\n",
    "df_age = df_age.reset_index()\n",
    "# df_age['death'] = df.loc[df['fage'] != 'a) 0', :].groupby(['year', 'sector'])['firmdeath_firms'].sum()\n",
    "\n",
    "# merge df and regdata\n",
    "for naics in range(2, 5):\n",
    "    # clean and create variables\n",
    "    sector_name = f\"sector_{naics}\"\n",
    "    df[sector_name] = df['sector'].astype(str).str.slice(0,naics)\n",
    "    df[sector_name] = pd.to_numeric(df[sector_name])\n",
    "\n",
    "    df = df.merge(regdata, how = \"left\", left_on=[\"year\", sector_name], right_on=[\"year\", \"sector_reg\"])\n",
    "    df = df.rename(columns={\"industry_restrictions_1_0\": f\"industry_restrictions_1_0_{naics}\", \"industry_restrictions_2_0\": f\"industry_restrictions_2_0_{naics}\"}, errors=\"raise\")\n",
    "    df = df.drop(columns='sector_reg')\n",
    "    df[f'log_restriction_1_{naics}'] = np.log(df[f'industry_restrictions_1_0_{naics}'])\n",
    "    df[f'log_restriction_2_{naics}'] = np.log(df[f'industry_restrictions_2_0_{naics}'])\n",
    "\n",
    "# merge with df_age\n",
    "df = df.merge(df_age, how = \"left\", left_on=[\"year\", \"sector\"], right_on=[\"year\", \"sector\"])\n",
    "\n",
    "# create some variables\n",
    "df['log_entry_whole'] = np.log(df['entry_whole'])\n",
    "df['log_death'] = np.log(df['death'])\n",
    "df['log_incumbents_whole'] = np.log(df['incumbents_whole'])\n",
    "df['entry_rate_whole'] = df['entry_whole']/df['incumbents_whole'] \n",
    "df['death_rate_age'] = df['death']/df['firms'] \n",
    "\n",
    "# create age dummy\n",
    "# define age groups\n",
    "df = df.sort_values(by=['year', 'sector', 'fage'])\n",
    "i = 0\n",
    "for fage in df.fage.unique():\n",
    "    df.loc[df.fage == fage, 'age_grp_dummy'] = i\n",
    "    i = i + 1\n",
    "\n",
    "df.loc[df.age_grp_dummy >= 7, 'age_grp_dummy'] = 7"
   ]
  },
  {
   "cell_type": "markdown",
   "id": "41772572",
   "metadata": {},
   "source": [
    "1. Check the impacts of the level of aggregation\n",
    "   1. one level reg only\n",
    "   $${\\sf Exit\\_rate}_{naics_4, t} = \\alpha_{naics_4} + \\gamma_t + \\kappa_{{\\sf age}} + \\beta_1 {\\sf Reg}_{s,t}  + \\epsilon_{naics_4, t}$$"
   ]
  },
  {
   "cell_type": "code",
   "execution_count": 61,
   "id": "dcd83046",
   "metadata": {},
   "outputs": [
    {
     "name": "stdout",
     "output_type": "stream",
     "text": [
      "                         Parameter  Std. Err.  T-stat  P-value  Lower CI  \\\n",
      "C(age_grp_dummy)[T.1.0]     0.1109     0.0251  4.4183   0.0000    0.0617   \n",
      "C(age_grp_dummy)[T.2.0]     0.0279     0.0252  1.1100   0.2670   -0.0214   \n",
      "C(age_grp_dummy)[T.3.0]    -0.0021     0.0251 -0.0821   0.9345   -0.0513   \n",
      "C(age_grp_dummy)[T.4.0]    -0.0204     0.0252 -0.8087   0.4187   -0.0697   \n",
      "C(age_grp_dummy)[T.5.0]    -0.0331     0.0252 -1.3145   0.1887   -0.0824   \n",
      "C(age_grp_dummy)[T.6.0]    -0.0571     0.0252 -2.2683   0.0233   -0.1064   \n",
      "C(age_grp_dummy)[T.7.0]    -0.0886     0.0251 -3.5265   0.0004   -0.1379   \n",
      "log_restriction_1_2         0.0138     0.0024  5.7980   0.0000    0.0092   \n",
      "\n",
      "                         Upper CI  \n",
      "C(age_grp_dummy)[T.1.0]    0.1601  \n",
      "C(age_grp_dummy)[T.2.0]    0.0773  \n",
      "C(age_grp_dummy)[T.3.0]    0.0472  \n",
      "C(age_grp_dummy)[T.4.0]    0.0290  \n",
      "C(age_grp_dummy)[T.5.0]    0.0162  \n",
      "C(age_grp_dummy)[T.6.0]   -0.0078  \n",
      "C(age_grp_dummy)[T.7.0]   -0.0394  \n",
      "log_restriction_1_2        0.0185  \n",
      "                         Parameter  Std. Err.   T-stat  P-value  Lower CI  \\\n",
      "C(age_grp_dummy)[T.1.0]     0.1876     0.0096  19.4800   0.0000    0.1688   \n",
      "C(age_grp_dummy)[T.2.0]     0.1130     0.0096  11.7610   0.0000    0.0941   \n",
      "C(age_grp_dummy)[T.3.0]     0.0856     0.0096   8.9397   0.0000    0.0668   \n",
      "C(age_grp_dummy)[T.4.0]     0.0670     0.0095   7.0345   0.0000    0.0483   \n",
      "C(age_grp_dummy)[T.5.0]     0.0555     0.0096   5.7883   0.0000    0.0367   \n",
      "C(age_grp_dummy)[T.6.0]     0.0297     0.0096   3.1106   0.0019    0.0110   \n",
      "C(age_grp_dummy)[T.7.0]    -0.0012     0.0095  -0.1304   0.8963   -0.0199   \n",
      "log_restriction_1_3         0.0060     0.0011   5.5683   0.0000    0.0039   \n",
      "\n",
      "                         Upper CI  \n",
      "C(age_grp_dummy)[T.1.0]    0.2065  \n",
      "C(age_grp_dummy)[T.2.0]    0.1318  \n",
      "C(age_grp_dummy)[T.3.0]    0.1043  \n",
      "C(age_grp_dummy)[T.4.0]    0.0856  \n",
      "C(age_grp_dummy)[T.5.0]    0.0743  \n",
      "C(age_grp_dummy)[T.6.0]    0.0485  \n",
      "C(age_grp_dummy)[T.7.0]    0.0175  \n",
      "log_restriction_1_3        0.0081  \n",
      "                         Parameter  Std. Err.   T-stat  P-value  Lower CI  \\\n",
      "C(age_grp_dummy)[T.1.0]     0.1928     0.0103  18.7620   0.0000    0.1727   \n",
      "C(age_grp_dummy)[T.2.0]     0.1225     0.0103  11.8670   0.0000    0.1023   \n",
      "C(age_grp_dummy)[T.3.0]     0.0963     0.0102   9.4841   0.0000    0.0764   \n",
      "C(age_grp_dummy)[T.4.0]     0.0776     0.0102   7.6157   0.0000    0.0576   \n",
      "C(age_grp_dummy)[T.5.0]     0.0649     0.0102   6.3777   0.0000    0.0449   \n",
      "C(age_grp_dummy)[T.6.0]     0.0398     0.0101   3.9210   0.0001    0.0199   \n",
      "C(age_grp_dummy)[T.7.0]     0.0081     0.0101   0.8019   0.4226   -0.0117   \n",
      "log_restriction_1_4         0.0052     0.0012   4.2052   0.0000    0.0028   \n",
      "\n",
      "                         Upper CI  \n",
      "C(age_grp_dummy)[T.1.0]    0.2130  \n",
      "C(age_grp_dummy)[T.2.0]    0.1428  \n",
      "C(age_grp_dummy)[T.3.0]    0.1162  \n",
      "C(age_grp_dummy)[T.4.0]    0.0976  \n",
      "C(age_grp_dummy)[T.5.0]    0.0848  \n",
      "C(age_grp_dummy)[T.6.0]    0.0597  \n",
      "C(age_grp_dummy)[T.7.0]    0.0280  \n",
      "log_restriction_1_4        0.0077  \n"
     ]
    }
   ],
   "source": [
    "results_dict_1 = dict()\n",
    "for naics_curr in range(2, 5):\n",
    "    # load data\n",
    "    data = df\n",
    "    # sample restriction\n",
    "    data = data[data.year > 1985]\n",
    "\n",
    "    # regression\n",
    "    data = data.set_index(['sector', 'year'])\n",
    "    data = data.loc[:, ['entry_rate_whole', 'death_rate_age', 'age_grp_dummy', 'log_incumbents_whole', f'log_restriction_1_{naics_curr}']].dropna()\n",
    "    mod = PanelOLS.from_formula(formula = f'death_rate_age ~ log_restriction_1_{naics_curr} + C(age_grp_dummy) + EntityEffects + TimeEffects', data = data)\n",
    "    res = mod.fit(cov_type = 'heteroskedastic')\n",
    "\n",
    "    # results\n",
    "    results_as_html = res.summary.tables[1].as_html()\n",
    "    results_table = pd.read_html(results_as_html, header=0, index_col=0)[0]\n",
    "    file_name_curr = f\"reg_{naics_curr}\"\n",
    "    results_dict_1[file_name_curr] = results_table\n",
    "\n",
    "print(results_dict_1['reg_2'])\n",
    "print(results_dict_1['reg_3'])\n",
    "print(results_dict_1['reg_4'])\n"
   ]
  },
  {
   "cell_type": "markdown",
   "id": "41772572",
   "metadata": {},
   "source": [
    "   2. all levels\n",
    "   $${\\sf Exit\\_rate}_{naics_4, t} = \\alpha_{naics_4} + \\gamma_t + + \\kappa_{{\\sf age}} \\beta_1 {\\sf Reg}_{naics_2,t} + \\beta_2 {\\sf Reg}_{naics_3,t} + \\beta_3 {\\sf Reg}_{naics_4,t} + \\epsilon_{naics_4, t}$$"
   ]
  },
  {
   "cell_type": "code",
   "execution_count": 63,
   "id": "dcd83046",
   "metadata": {},
   "outputs": [
    {
     "name": "stdout",
     "output_type": "stream",
     "text": [
      "                         Parameter  Std. Err.  T-stat  P-value  Lower CI  \\\n",
      "C(age_grp_dummy)[T.1.0]     0.1951     0.0415  4.7011   0.0000    0.1137   \n",
      "C(age_grp_dummy)[T.2.0]     0.1202     0.0417  2.8837   0.0039    0.0385   \n",
      "C(age_grp_dummy)[T.3.0]     0.0942     0.0416  2.2646   0.0236    0.0127   \n",
      "C(age_grp_dummy)[T.4.0]     0.0780     0.0416  1.8733   0.0610   -0.0036   \n",
      "C(age_grp_dummy)[T.5.0]     0.0641     0.0416  1.5394   0.1237   -0.0175   \n",
      "C(age_grp_dummy)[T.6.0]     0.0378     0.0416  0.9075   0.3642   -0.0438   \n",
      "C(age_grp_dummy)[T.7.0]     0.0064     0.0415  0.1543   0.8774   -0.0750   \n",
      "log_restriction_1_2        -0.0008     0.0033 -0.2516   0.8013   -0.0074   \n",
      "log_restriction_1_3         0.0015     0.0031  0.4700   0.6384   -0.0047   \n",
      "log_restriction_1_4         0.0052     0.0027  1.9089   0.0563   -0.0001   \n",
      "\n",
      "                         Upper CI  \n",
      "C(age_grp_dummy)[T.1.0]    0.2764  \n",
      "C(age_grp_dummy)[T.2.0]    0.2020  \n",
      "C(age_grp_dummy)[T.3.0]    0.1758  \n",
      "C(age_grp_dummy)[T.4.0]    0.1595  \n",
      "C(age_grp_dummy)[T.5.0]    0.1456  \n",
      "C(age_grp_dummy)[T.6.0]    0.1194  \n",
      "C(age_grp_dummy)[T.7.0]    0.0878  \n",
      "log_restriction_1_2        0.0057  \n",
      "log_restriction_1_3        0.0076  \n",
      "log_restriction_1_4        0.0105  \n"
     ]
    }
   ],
   "source": [
    "data = df\n",
    "# sample restriction\n",
    "data = data[data.year > 1985]\n",
    "\n",
    "# regression\n",
    "data = data.set_index(['sector', 'year'])\n",
    "data = data.loc[:, ['entry_rate_whole', 'death_rate_age', 'age_grp_dummy', 'log_incumbents_whole', \n",
    "                    'log_restriction_1_2', 'log_restriction_1_3', \n",
    "                    'log_restriction_1_4']].dropna()\n",
    "mod = PanelOLS.from_formula(formula = \n",
    "                            'death_rate_age ~ log_restriction_1_2 + log_restriction_1_3 + log_restriction_1_4 + C(age_grp_dummy) \\\n",
    "                            + EntityEffects + TimeEffects',\n",
    "                            data = data)\n",
    "res = mod.fit(cov_type = 'heteroskedastic')\n",
    "\n",
    "# results\n",
    "results_as_html = res.summary.tables[1].as_html()\n",
    "results_table = pd.read_html(results_as_html, header=0, index_col=0)[0]\n",
    "\n",
    "print(results_table)\n"
   ]
  },
  {
   "cell_type": "markdown",
   "id": "0010f3da",
   "metadata": {},
   "source": [
    "2. Impacts of Entry Rates\n",
    "   1. one level of regulation\n",
    "   $${\\sf Exit\\_rate} _{naics_4,t} = \\alpha_s + \\gamma_t + \\kappa_{{\\sf age}} + \\beta_1 {\\sf Reg}_{s,t} + \\beta_2 {\\sf entry\\_rates} + \\epsilon_{naics_4,t}$$"
   ]
  },
  {
   "cell_type": "code",
   "execution_count": 67,
   "id": "39a1e1b9",
   "metadata": {},
   "outputs": [],
   "source": [
    "results_dict_2 = dict()\n",
    "for naics_curr in range(2, 5):\n",
    "    # load data\n",
    "    data = df\n",
    "    # sample restriction\n",
    "    data = data[data.year > 1985]\n",
    "\n",
    "    # regression\n",
    "    data = data.set_index(['sector', 'year'])\n",
    "    data = data.loc[:, ['entry_rate_whole', 'death_rate_age', 'age_grp_dummy', 'log_incumbents_whole', f'log_restriction_1_{naics_curr}']].dropna()\n",
    "    mod = PanelOLS.from_formula(formula = f'death_rate_age ~ log_restriction_1_{naics_curr}  + entry_rate_whole + C(age_grp_dummy) + EntityEffects + TimeEffects',\n",
    "                                data = data)\n",
    "    res = mod.fit(cov_type = 'heteroskedastic')\n",
    "\n",
    "    # results\n",
    "    results_as_html = res.summary.tables[1].as_html()\n",
    "    results_table = pd.read_html(results_as_html, header=0, index_col=0)[0]\n",
    "    file_name_curr = f\"reg_{naics_curr}\"\n",
    "    results_dict_2[file_name_curr] = results_table\n",
    "    "
   ]
  },
  {
   "cell_type": "code",
   "execution_count": 68,
   "id": "5fe6e1fa",
   "metadata": {},
   "outputs": [
    {
     "name": "stdout",
     "output_type": "stream",
     "text": [
      "                         Parameter  Std. Err.  T-stat  P-value  Lower CI  \\\n",
      "C(age_grp_dummy)[T.1.0]     0.1200     0.0254  4.7326   0.0000    0.0703   \n",
      "C(age_grp_dummy)[T.2.0]     0.0371     0.0253  1.4624   0.1436   -0.0126   \n",
      "C(age_grp_dummy)[T.3.0]     0.0071     0.0253  0.2798   0.7796   -0.0425   \n",
      "C(age_grp_dummy)[T.4.0]    -0.0112     0.0253 -0.4425   0.6581   -0.0609   \n",
      "C(age_grp_dummy)[T.5.0]    -0.0239     0.0253 -0.9452   0.3445   -0.0736   \n",
      "C(age_grp_dummy)[T.6.0]    -0.0479     0.0253 -1.8919   0.0585   -0.0976   \n",
      "C(age_grp_dummy)[T.7.0]    -0.0795     0.0253 -3.1408   0.0017   -0.1291   \n",
      "entry_rate_whole            0.0775     0.0259  2.9902   0.0028    0.0267   \n",
      "log_restriction_1_2         0.0122     0.0024  4.9790   0.0000    0.0074   \n",
      "\n",
      "                         Upper CI  \n",
      "C(age_grp_dummy)[T.1.0]    0.1697  \n",
      "C(age_grp_dummy)[T.2.0]    0.0867  \n",
      "C(age_grp_dummy)[T.3.0]    0.0567  \n",
      "C(age_grp_dummy)[T.4.0]    0.0385  \n",
      "C(age_grp_dummy)[T.5.0]    0.0257  \n",
      "C(age_grp_dummy)[T.6.0]    0.0017  \n",
      "C(age_grp_dummy)[T.7.0]   -0.0299  \n",
      "entry_rate_whole           0.1283  \n",
      "log_restriction_1_2        0.0170  \n"
     ]
    }
   ],
   "source": [
    "print(results_dict_2['reg_2'])"
   ]
  },
  {
   "cell_type": "code",
   "execution_count": 69,
   "id": "9a28b7ed",
   "metadata": {},
   "outputs": [
    {
     "name": "stdout",
     "output_type": "stream",
     "text": [
      "                         Parameter  Std. Err.   T-stat  P-value  Lower CI  \\\n",
      "C(age_grp_dummy)[T.1.0]     0.1783     0.0100  17.8090   0.0000    0.1587   \n",
      "C(age_grp_dummy)[T.2.0]     0.1036     0.0102  10.1390   0.0000    0.0836   \n",
      "C(age_grp_dummy)[T.3.0]     0.0763     0.0102   7.4812   0.0000    0.0563   \n",
      "C(age_grp_dummy)[T.4.0]     0.0576     0.0101   5.6822   0.0000    0.0378   \n",
      "C(age_grp_dummy)[T.5.0]     0.0462     0.0102   4.5239   0.0000    0.0262   \n",
      "C(age_grp_dummy)[T.6.0]     0.0204     0.0102   2.0060   0.0449    0.0005   \n",
      "C(age_grp_dummy)[T.7.0]    -0.0105     0.0102  -1.0358   0.3003   -0.0305   \n",
      "entry_rate_whole            0.0929     0.0295   3.1526   0.0016    0.0351   \n",
      "log_restriction_1_3         0.0061     0.0011   5.6375   0.0000    0.0040   \n",
      "\n",
      "                         Upper CI  \n",
      "C(age_grp_dummy)[T.1.0]    0.1979  \n",
      "C(age_grp_dummy)[T.2.0]    0.1237  \n",
      "C(age_grp_dummy)[T.3.0]    0.0962  \n",
      "C(age_grp_dummy)[T.4.0]    0.0775  \n",
      "C(age_grp_dummy)[T.5.0]    0.0662  \n",
      "C(age_grp_dummy)[T.6.0]    0.0404  \n",
      "C(age_grp_dummy)[T.7.0]    0.0094  \n",
      "entry_rate_whole           0.1506  \n",
      "log_restriction_1_3        0.0082  \n"
     ]
    }
   ],
   "source": [
    "print(results_dict_2['reg_3'])"
   ]
  },
  {
   "cell_type": "code",
   "execution_count": 70,
   "id": "67dfc506",
   "metadata": {},
   "outputs": [
    {
     "name": "stdout",
     "output_type": "stream",
     "text": [
      "                         Parameter  Std. Err.   T-stat  P-value  Lower CI  \\\n",
      "C(age_grp_dummy)[T.1.0]     0.1969     0.0104  18.9850   0.0000    0.1766   \n",
      "C(age_grp_dummy)[T.2.0]     0.1266     0.0104  12.1720   0.0000    0.1062   \n",
      "C(age_grp_dummy)[T.3.0]     0.1004     0.0102   9.8082   0.0000    0.0803   \n",
      "C(age_grp_dummy)[T.4.0]     0.0817     0.0103   7.9584   0.0000    0.0616   \n",
      "C(age_grp_dummy)[T.5.0]     0.0690     0.0102   6.7323   0.0000    0.0489   \n",
      "C(age_grp_dummy)[T.6.0]     0.0438     0.0102   4.2905   0.0000    0.0238   \n",
      "C(age_grp_dummy)[T.7.0]     0.0122     0.0102   1.1966   0.2315   -0.0078   \n",
      "entry_rate_whole           -0.0995     0.0201  -4.9576   0.0000   -0.1389   \n",
      "log_restriction_1_4         0.0057     0.0012   4.6220   0.0000    0.0033   \n",
      "\n",
      "                         Upper CI  \n",
      "C(age_grp_dummy)[T.1.0]    0.2173  \n",
      "C(age_grp_dummy)[T.2.0]    0.1470  \n",
      "C(age_grp_dummy)[T.3.0]    0.1204  \n",
      "C(age_grp_dummy)[T.4.0]    0.1019  \n",
      "C(age_grp_dummy)[T.5.0]    0.0890  \n",
      "C(age_grp_dummy)[T.6.0]    0.0639  \n",
      "C(age_grp_dummy)[T.7.0]    0.0322  \n",
      "entry_rate_whole          -0.0602  \n",
      "log_restriction_1_4        0.0082  \n"
     ]
    }
   ],
   "source": [
    "print(results_dict_2['reg_4'])"
   ]
  },
  {
   "cell_type": "markdown",
   "id": "0010f3da",
   "metadata": {},
   "source": [
    "   2. all levels\n",
    "   $${\\sf exit\\_rate} _{naics_4,t} = \\alpha_s + \\gamma_t + \\kappa_{{\\sf age}} + \\beta_1 {\\sf Reg}_{naics_2,t} + \\beta_2 {\\sf Reg}_{naics_3,t} + \\beta_3 {\\sf Reg}_{naics_4,t} + \\beta_4 {\\sf entry\\_rates} + \\epsilon_{naics_4,t}$$"
   ]
  },
  {
   "cell_type": "code",
   "execution_count": 72,
   "id": "39a1e1b9",
   "metadata": {},
   "outputs": [
    {
     "name": "stdout",
     "output_type": "stream",
     "text": [
      "                         Parameter  Std. Err.  T-stat  P-value  Lower CI  \\\n",
      "C(age_grp_dummy)[T.1.0]     0.2049     0.0415  4.9339   0.0000    0.1235   \n",
      "C(age_grp_dummy)[T.2.0]     0.1300     0.0417  3.1178   0.0018    0.0483   \n",
      "C(age_grp_dummy)[T.3.0]     0.1040     0.0416  2.4984   0.0125    0.0224   \n",
      "C(age_grp_dummy)[T.4.0]     0.0878     0.0416  2.1082   0.0350    0.0062   \n",
      "C(age_grp_dummy)[T.5.0]     0.0739     0.0416  1.7744   0.0760   -0.0077   \n",
      "C(age_grp_dummy)[T.6.0]     0.0475     0.0416  1.1413   0.2538   -0.0341   \n",
      "C(age_grp_dummy)[T.7.0]     0.0162     0.0416  0.3897   0.6967   -0.0653   \n",
      "entry_rate_whole           -0.0990     0.0204 -4.8501   0.0000   -0.1390   \n",
      "log_restriction_1_2         0.0004     0.0034  0.1318   0.8951   -0.0061   \n",
      "log_restriction_1_3        -0.0008     0.0031 -0.2711   0.7863   -0.0070   \n",
      "log_restriction_1_4         0.0060     0.0027  2.2285   0.0259    0.0007   \n",
      "\n",
      "                         Upper CI  \n",
      "C(age_grp_dummy)[T.1.0]    0.2862  \n",
      "C(age_grp_dummy)[T.2.0]    0.2118  \n",
      "C(age_grp_dummy)[T.3.0]    0.1856  \n",
      "C(age_grp_dummy)[T.4.0]    0.1693  \n",
      "C(age_grp_dummy)[T.5.0]    0.1554  \n",
      "C(age_grp_dummy)[T.6.0]    0.1291  \n",
      "C(age_grp_dummy)[T.7.0]    0.0977  \n",
      "entry_rate_whole          -0.0590  \n",
      "log_restriction_1_2        0.0070  \n",
      "log_restriction_1_3        0.0053  \n",
      "log_restriction_1_4        0.0113  \n"
     ]
    }
   ],
   "source": [
    "data = df\n",
    "# sample restriction\n",
    "data = data[data.year > 1985]\n",
    "\n",
    "# regression\n",
    "data = data.set_index(['sector', 'year'])\n",
    "data = data.loc[:, ['entry_rate_whole', 'death_rate_age',  'age_grp_dummy', 'log_incumbents_whole',\n",
    "                    'log_restriction_1_2', 'log_restriction_1_3', \n",
    "                    'log_restriction_1_4']].dropna()\n",
    "mod = PanelOLS.from_formula(formula = \n",
    "                            'death_rate_age ~ log_restriction_1_2 + log_restriction_1_3 + log_restriction_1_4  \\\n",
    "                            + entry_rate_whole + C(age_grp_dummy) + EntityEffects + TimeEffects',\n",
    "                            data = data)\n",
    "res = mod.fit(cov_type = 'heteroskedastic')\n",
    "\n",
    "# results\n",
    "results_as_html = res.summary.tables[1].as_html()\n",
    "results_table = pd.read_html(results_as_html, header=0, index_col=0)[0]\n",
    "\n",
    "print(results_table)"
   ]
  },
  {
   "cell_type": "markdown",
   "id": "d8c89af4-772b-41b2-aa7a-2ffab2cc5be8",
   "metadata": {},
   "source": [
    "## 5. Generate Cohort Level Data"
   ]
  },
  {
   "cell_type": "code",
   "execution_count": 3,
   "metadata": {},
   "outputs": [
    {
     "name": "stderr",
     "output_type": "stream",
     "text": [
      "c:\\Users\\zach_\\.virtualenvs\\RFE_project-5yjSZlxr\\lib\\site-packages\\pandas\\core\\arraylike.py:397: RuntimeWarning:\n",
      "\n",
      "divide by zero encountered in log\n",
      "\n",
      "c:\\Users\\zach_\\.virtualenvs\\RFE_project-5yjSZlxr\\lib\\site-packages\\pandas\\core\\arraylike.py:397: RuntimeWarning:\n",
      "\n",
      "divide by zero encountered in log\n",
      "\n",
      "c:\\Users\\zach_\\.virtualenvs\\RFE_project-5yjSZlxr\\lib\\site-packages\\pandas\\core\\arraylike.py:397: RuntimeWarning:\n",
      "\n",
      "divide by zero encountered in log\n",
      "\n"
     ]
    }
   ],
   "source": [
    "# create data at different aggregation\n",
    "data_dic = dict()\n",
    "\n",
    "# reg data\n",
    "regdata = pd.read_csv('C:\\\\Users\\\\zach_\\\\Nobackupfile\\\\Data\\\\BDS\\\\Regdata\\\\regdata_4_0_industries.csv')\n",
    "regdata['sector_reg'] = regdata['NAICS']\n",
    "regdata = regdata.loc[:,[\"year\", \"sector_reg\", \"industry_restrictions_1_0\", \"industry_restrictions_2_0\"]]\n",
    "\n",
    "# load dataset\n",
    "file_name = \"bds2019_naics_4_age\"\n",
    "file_address = f\"C:\\\\Users\\\\zach_\\\\Nobackupfile\\\\Data\\\\BDS\\\\{file_name}.csv\"\n",
    "df = pd.read_csv(file_address)\n",
    "\n",
    "# clean data\n",
    "df['firms'] = pd.to_numeric(df['firms'], errors='coerce', downcast=None)\n",
    "df['death'] = pd.to_numeric(df['firmdeath_firms'], errors='coerce', downcast=None)\n",
    "\n",
    "# creat aggregation for entry and death measure\n",
    "df_age = pd.DataFrame()\n",
    "df_age['entry_whole'] = df.loc[df['fage'] == 'a) 0', :].groupby(['year', 'sector'])['firms'].sum()\n",
    "df_age['incumbents_whole'] = df.loc[df['fage'] != 'a) 0', :].groupby(['year', 'sector'])['firms'].sum()\n",
    "df_age = df_age.reset_index()\n",
    "# df_age['death'] = df.loc[df['fage'] != 'a) 0', :].groupby(['year', 'sector'])['firmdeath_firms'].sum()\n",
    "\n",
    "# merge df and regdata\n",
    "for naics in range(2, 5):\n",
    "    # clean and create variables\n",
    "    sector_name = f\"sector_{naics}\"\n",
    "    df[sector_name] = df['sector'].astype(str).str.slice(0,naics)\n",
    "    df[sector_name] = pd.to_numeric(df[sector_name])\n",
    "\n",
    "    df = df.merge(regdata, how = \"left\", left_on=[\"year\", sector_name], right_on=[\"year\", \"sector_reg\"])\n",
    "    df = df.rename(columns={\"industry_restrictions_1_0\": f\"industry_restrictions_1_0_{naics}\", \"industry_restrictions_2_0\": f\"industry_restrictions_2_0_{naics}\"}, errors=\"raise\")\n",
    "    df = df.drop(columns='sector_reg')\n",
    "    df[f'log_restriction_1_{naics}'] = np.log(df[f'industry_restrictions_1_0_{naics}'])\n",
    "    df[f'log_restriction_2_{naics}'] = np.log(df[f'industry_restrictions_2_0_{naics}'])\n",
    "\n",
    "# merge with df_age\n",
    "df = df.merge(df_age, how = \"left\", left_on=[\"year\", \"sector\"], right_on=[\"year\", \"sector\"])\n",
    "\n",
    "# merge with sector gdp\n",
    "gdp = pd.read_csv('C:\\\\Users\\\\zach_\\\\Nobackupfile\\\\Data\\\\BDS\\\\BEA\\\\gdp.csv')\n",
    "gdp = pd.melt(gdp, id_vars='sector_2', var_name='year', value_name='gdp')\n",
    "gdp['year'] = pd.to_numeric(gdp['year']).astype(np.int64)\n",
    "df = df.merge(gdp, how = \"left\", left_on=[\"year\", \"sector_2\"], right_on=[\"year\", \"sector_2\"])\n",
    "\n",
    "# create some variables\n",
    "df['log_entry_whole'] = np.log(df['entry_whole'])\n",
    "df['log_death'] = np.log(df['death'])\n",
    "df['log_incumbents_whole'] = np.log(df['incumbents_whole'])\n",
    "df['entry_rate_whole'] = df['entry_whole']/df['incumbents_whole'] \n",
    "df['death_rate_age'] = df['death']/df['firms'] \n",
    "df['log_gdp'] = np.log(df['gdp'])\n",
    "# create age dummy\n",
    "# define age groups\n",
    "df = df.sort_values(by=['year', 'sector', 'fage'])\n",
    "i = 0\n",
    "for fage in df.fage.unique():\n",
    "    df.loc[df.fage == fage, 'age_grp_dummy'] = i\n",
    "    i = i + 1\n",
    "\n",
    "df.loc[df.age_grp_dummy >= 7, 'age_grp_dummy'] = 7"
   ]
  },
  {
   "cell_type": "code",
   "execution_count": 4,
   "id": "b77a4b1e",
   "metadata": {},
   "outputs": [],
   "source": [
    "# create cohort level data\n",
    "df.loc[df.age_grp_dummy <= 5, 'cohort'] = \\\n",
    "    df.loc[df.age_grp_dummy <= 5, 'year'] - df.loc[df.age_grp_dummy <= 5, 'age_grp_dummy']\n",
    "\n",
    "# merge reg data at entry year\n",
    "regdata = regdata.rename(columns={\"year\": \"cohort\"})\n",
    "\n",
    "for naics in range(2, 5):\n",
    "    # clean and create variables\n",
    "    sector_name = f\"sector_{naics}\"\n",
    "\n",
    "    df = df.merge(regdata, how = \"left\", left_on=[\"cohort\", sector_name], right_on=[\"cohort\", \"sector_reg\"])\n",
    "    df = df.rename(columns={\"industry_restrictions_1_0\": f\"industry_restrictions_1_0_{naics}_cohort\", \n",
    "                            \"industry_restrictions_2_0\": f\"industry_restrictions_2_0_{naics}_cohort\"}, \n",
    "                            errors=\"raise\")\n",
    "                            \n",
    "    df = df.drop(columns='sector_reg')\n",
    "    df[f'log_restriction_1_{naics}_cohort'] = np.log(df[f'industry_restrictions_1_0_{naics}_cohort'])\n",
    "    df[f'log_restriction_2_{naics}_cohort'] = np.log(df[f'industry_restrictions_2_0_{naics}_cohort'])\n",
    "\n",
    "# merge with sector gdp\n",
    "gdp = pd.read_csv('C:\\\\Users\\\\zach_\\\\Nobackupfile\\\\Data\\\\BDS\\\\BEA\\\\gdp.csv')\n",
    "gdp = pd.melt(gdp, id_vars='sector_2', var_name='cohort', value_name='gdp_cohort')\n",
    "gdp['cohort'] = pd.to_numeric(gdp['cohort']).astype(np.int64)\n",
    "df = df.merge(gdp, how = \"left\", left_on=[\"cohort\", \"sector_2\"], right_on=[\"cohort\", \"sector_2\"])\n",
    "\n",
    "\n",
    "# merge the entry rate at the cohort level\n",
    "df_age_new = df_age.rename(columns={\"year\": \"cohort\", \n",
    "                                    \"entry_whole\": \"entry_whole_cohort\",\n",
    "                                    \"incumbents_whole\": \"incumbents_whole_cohort\"})\n",
    "df_age_new = df_age_new[[\"cohort\", \"sector\", \"entry_whole_cohort\", \"incumbents_whole_cohort\"]]\n",
    "df = df.merge(df_age_new, \n",
    "    how = \"left\", left_on=[\"cohort\", 'sector'], right_on=[\"cohort\", \"sector\"])\n",
    "df[\"entry_rate_whole_cohort\"] = df[\"entry_whole_cohort\"]/df[\"incumbents_whole_cohort\"]\n",
    "df[\"log_gdp_cohort\"] = np.log(df[\"gdp_cohort\"])"
   ]
  },
  {
   "cell_type": "code",
   "execution_count": 5,
   "id": "25b84c12",
   "metadata": {},
   "outputs": [
    {
     "data": {
      "text/plain": [
       "array(['a) 0', 'b) 1', 'c) 2', 'd) 3', 'e) 4', 'f) 5', 'g) 6 to 10',\n",
       "       'h) 11 to 15', 'i) 16 to 20', 'j) 21 to 25', 'k) 26+',\n",
       "       'l) Left Censored'], dtype=object)"
      ]
     },
     "execution_count": 5,
     "metadata": {},
     "output_type": "execute_result"
    }
   ],
   "source": [
    "df.fage.unique()"
   ]
  },
  {
   "cell_type": "markdown",
   "id": "cc805af6",
   "metadata": {},
   "source": [
    "1. Check the impacts of the level of aggregation\n",
    "   1. one level reg only\n",
    "   $${\\sf Exit\\_rate}_{naics_4, cohort, age} = \\alpha_{naics_4} + \\gamma_{cohort} + \\kappa_{{age}} + \\beta_1 {\\sf Reg}_{s,cohort} +\\beta_2 {\\sf Reg}_{s,cohort + age} + \\epsilon_{naics_4, cohort, age}$$"
   ]
  },
  {
   "cell_type": "code",
   "execution_count": 25,
   "id": "cc1d4be5",
   "metadata": {},
   "outputs": [
    {
     "data": {
      "text/plain": [
       "'\\n    results_as_html = res.summary.tables[1].as_html()\\n    results_table = pd.read_html(results_as_html, header=0, index_col=0)[0]\\n    file_name_curr = f\"reg_{naics_curr}\"\\n'"
      ]
     },
     "execution_count": 25,
     "metadata": {},
     "output_type": "execute_result"
    }
   ],
   "source": [
    "results_dict_1 = dict()\n",
    "for naics_curr in range(2, 5):\n",
    "    # load data\n",
    "    data = df\n",
    "    # sample restriction\n",
    "    data = data[data.year > 1985]\n",
    "    data = data[data.age_grp_dummy <= 5]\n",
    "    \n",
    "    # regression\n",
    "    data = data.set_index(['sector', 'cohort'])\n",
    "    data = data.loc[:, ['entry_rate_whole', 'death_rate_age', 'age_grp_dummy', 'year', 'log_incumbents_whole', 'log_gdp', 'log_gdp_cohort',\n",
    "                        f'log_restriction_2_{naics_curr}', f'log_restriction_2_{naics_curr}_cohort']].dropna()\n",
    "    mod = PanelOLS.from_formula(formula = f'death_rate_age ~ log_restriction_2_{naics_curr} + log_restriction_2_{naics_curr}_cohort \\\n",
    "                                            + C(age_grp_dummy) + EntityEffects + TimeEffects', data = data, drop_absorbed=True)\n",
    "    res = mod.fit(cov_type = 'heteroskedastic')\n",
    "\n",
    "    # results\n",
    "    file_name_curr = f\"reg_{naics_curr}\"\n",
    "    results_dict_1[file_name_curr] =  res.summary\n",
    "\n",
    "\"\"\"\n",
    "    results_as_html = res.summary.tables[1].as_html()\n",
    "    results_table = pd.read_html(results_as_html, header=0, index_col=0)[0]\n",
    "    file_name_curr = f\"reg_{naics_curr}\"\n",
    "\"\"\""
   ]
  },
  {
   "cell_type": "code",
   "execution_count": 36,
   "id": "3d94ff3c",
   "metadata": {},
   "outputs": [
    {
     "data": {
      "text/plain": [
       "'                     PanelOLS Estimation Summary                     \\nDep. Variable:   ,death_rate_age  ,  R-squared:           ,0.2595    \\nEstimator:       ,PanelOLS        ,  R-squared (Between): ,0.0405    \\nNo. Observations:,27205           ,  R-squared (Within):  ,0.2597    \\nDate:            ,Wed, May 25 2022,  R-squared (Overall): ,0.2325    \\nTime:            ,17:04:07        ,  Log-likelihood       ,2.848e+04 \\nCov. Estimator:  ,Robust          ,                       ,          \\n                 ,                ,  F-statistic:         ,1576.8    \\nEntities:        ,262             ,  P-value              ,0.0000    \\nAvg Obs:         ,103.84          ,  Distribution:        ,F(6,26997)\\nMin Obs:         ,0.0000          ,                       ,          \\nMax Obs:         ,180.00          ,  F-statistic (robust):,1185.8    \\n                 ,                ,  P-value              ,0.0000    \\nTime periods:    ,38              ,  Distribution:        ,F(6,26997)\\nAvg Obs:         ,715.92          ,                       ,          \\nMin Obs:         ,148.00          ,                       ,          \\nMax Obs:         ,1526.0          ,                       ,          \\n                 ,                ,                       ,          \\n                              Parameter Estimates                               \\n                          ,Parameter,Std. Err., T-stat,P-value,Lower CI,Upper CI\\nC(age_grp_dummy)[T.1.0]   ,0.2039   ,0.0484   ,4.2171 ,0.0000 ,0.1091  ,0.2987  \\nC(age_grp_dummy)[T.2.0]   ,0.1213   ,0.0484   ,2.5044 ,0.0123 ,0.0264  ,0.2163  \\nC(age_grp_dummy)[T.3.0]   ,0.0894   ,0.0484   ,1.8469 ,0.0648 ,-0.0055 ,0.1843  \\nC(age_grp_dummy)[T.4.0]   ,0.0699   ,0.0485   ,1.4412 ,0.1495 ,-0.0252 ,0.1649  \\nC(age_grp_dummy)[T.5.0]   ,0.0564   ,0.0485   ,1.1617 ,0.2454 ,-0.0387 ,0.1515  \\nlog_restriction_2_2       ,0.0289   ,0.0055   ,5.2323 ,0.0000 ,0.0181  ,0.0398  \\nlog_restriction_2_2_cohort,-0.0239  ,0.0062   ,-3.8599,0.0001 ,-0.0360 ,-0.0117 \\n\\nF-test for Poolability: 33.415\\nP-value: 0.0000\\nDistribution: F(201,26997)\\n\\nIncluded effects: Entity, Time'"
      ]
     },
     "execution_count": 36,
     "metadata": {},
     "output_type": "execute_result"
    }
   ],
   "source": [
    "results_dict_1['reg_2'].as_csv()"
   ]
  },
  {
   "cell_type": "code",
   "execution_count": 38,
   "id": "67bfbeb6",
   "metadata": {},
   "outputs": [],
   "source": [
    "\n",
    "\n",
    "\n"
   ]
  },
  {
   "cell_type": "code",
   "execution_count": 19,
   "id": "49123a5b",
   "metadata": {},
   "outputs": [],
   "source": [
    "results_table = pd.read_html(results_dict_1['reg_2'], header=0, index_col=0)"
   ]
  },
  {
   "cell_type": "code",
   "execution_count": 24,
   "id": "6a81721d",
   "metadata": {},
   "outputs": [],
   "source": [
    "results_table[0].to_markdown(buf=\"C:/Users/zach_/Nobackupfile/Data/BDS/test.md\")"
   ]
  },
  {
   "cell_type": "markdown",
   "id": "1f3affd7",
   "metadata": {},
   "source": []
  },
  {
   "cell_type": "code",
   "execution_count": 127,
   "id": "13f612b9",
   "metadata": {},
   "outputs": [
    {
     "name": "stdout",
     "output_type": "stream",
     "text": [
      "                            Parameter  Std. Err.  T-stat  P-value  Lower CI  \\\n",
      "C(age_grp_dummy)[T.1.0]        0.1622     0.0383  4.2325   0.0000  0.087100   \n",
      "C(age_grp_dummy)[T.2.0]        0.0783     0.0387  2.0210   0.0433  0.002400   \n",
      "C(age_grp_dummy)[T.3.0]        0.0495     0.0387  1.2802   0.2005 -0.026300   \n",
      "C(age_grp_dummy)[T.4.0]        0.0319     0.0387  0.8258   0.4089 -0.043900   \n",
      "C(age_grp_dummy)[T.5.0]        0.0196     0.0388  0.5048   0.6137 -0.056400   \n",
      "log_restriction_2_3            0.0094     0.0048  1.9427   0.0521 -0.000084   \n",
      "log_restriction_2_3_cohort     0.0007     0.0051  0.1299   0.8966 -0.009300   \n",
      "\n",
      "                            Upper CI  \n",
      "C(age_grp_dummy)[T.1.0]       0.2373  \n",
      "C(age_grp_dummy)[T.2.0]       0.1542  \n",
      "C(age_grp_dummy)[T.3.0]       0.1253  \n",
      "C(age_grp_dummy)[T.4.0]       0.1077  \n",
      "C(age_grp_dummy)[T.5.0]       0.0955  \n",
      "log_restriction_2_3           0.0189  \n",
      "log_restriction_2_3_cohort    0.0106  \n"
     ]
    }
   ],
   "source": [
    "print(results_dict_1['reg_3'])"
   ]
  },
  {
   "cell_type": "markdown",
   "id": "ee6a8474",
   "metadata": {},
   "source": []
  },
  {
   "cell_type": "code",
   "execution_count": 128,
   "id": "581f85d4",
   "metadata": {},
   "outputs": [
    {
     "name": "stdout",
     "output_type": "stream",
     "text": [
      "                            Parameter  Std. Err.  T-stat  P-value  Lower CI  \\\n",
      "C(age_grp_dummy)[T.1.0]        0.1798     0.0332  5.4220   0.0000    0.1148   \n",
      "C(age_grp_dummy)[T.2.0]        0.1046     0.0333  3.1409   0.0017    0.0393   \n",
      "C(age_grp_dummy)[T.3.0]        0.0775     0.0333  2.3299   0.0198    0.0123   \n",
      "C(age_grp_dummy)[T.4.0]        0.0616     0.0333  1.8480   0.0646   -0.0037   \n",
      "C(age_grp_dummy)[T.5.0]        0.0481     0.0334  1.4410   0.1496   -0.0173   \n",
      "log_restriction_2_4            0.0024     0.0049  0.4889   0.6249   -0.0072   \n",
      "log_restriction_2_4_cohort     0.0051     0.0051  1.0042   0.3153   -0.0048   \n",
      "\n",
      "                            Upper CI  \n",
      "C(age_grp_dummy)[T.1.0]       0.2448  \n",
      "C(age_grp_dummy)[T.2.0]       0.1699  \n",
      "C(age_grp_dummy)[T.3.0]       0.1427  \n",
      "C(age_grp_dummy)[T.4.0]       0.1270  \n",
      "C(age_grp_dummy)[T.5.0]       0.1134  \n",
      "log_restriction_2_4           0.0119  \n",
      "log_restriction_2_4_cohort    0.0150  \n"
     ]
    }
   ],
   "source": [
    "print(results_dict_1['reg_4'])"
   ]
  },
  {
   "cell_type": "markdown",
   "id": "cc805af6",
   "metadata": {},
   "source": [
    "2. Check the impacts of entry rates\n",
    "   $${\\sf Exit\\_rate}_{naics_4, cohort, age} = \\alpha_{naics_4} + \\gamma_{cohort} + \\kappa_{{age}} + \\beta_1 {\\sf Reg}_{s,cohort} +\\beta_2 {\\sf Reg}_{s,cohort + age} + \\beta_3 {\\sf Entry\\_rate}_{s,cohort} + \\beta_4 {\\sf Entry\\_rate}_{s,cohort + age} + \\epsilon_{naics_4, cohort, age}$$"
   ]
  },
  {
   "cell_type": "code",
   "execution_count": 182,
   "id": "cc1d4be5",
   "metadata": {},
   "outputs": [],
   "source": [
    "results_dict_1 = dict()\n",
    "for naics_curr in range(2, 5):\n",
    "    # load data\n",
    "    data = df\n",
    "    # sample restriction\n",
    "    data = data[data.year > 1985]\n",
    "    data = data[data.age_grp_dummy <= 5]\n",
    "    \n",
    "    # regression\n",
    "    data = data.set_index(['sector', 'cohort'])\n",
    "    data = data.loc[:, ['entry_rate_whole', 'death_rate_age', 'age_grp_dummy', 'year', 'log_incumbents_whole', 'entry_rate_whole_cohort', 'log_gdp', 'log_gdp_cohort',\n",
    "                        f'log_restriction_2_{naics_curr}', f'log_restriction_2_{naics_curr}_cohort']].dropna()\n",
    "    mod = PanelOLS.from_formula(formula = f'death_rate_age ~ log_restriction_2_{naics_curr} + log_restriction_2_{naics_curr}_cohort  \\\n",
    "                                            + C(age_grp_dummy)   + EntityEffects + TimeEffects', data = data, drop_absorbed=True)\n",
    "    res = mod.fit(cov_type = 'heteroskedastic')\n",
    "\n",
    "    # results\n",
    "    results_as_html = res.summary.tables[0].as_html()\n",
    "    results_table = pd.read_html(results_as_html, header=0, index_col=0)[0]\n",
    "    file_name_curr = f\"reg_{naics_curr}\"\n",
    "    results_dict_1[file_name_curr] = results_table\n"
   ]
  },
  {
   "cell_type": "code",
   "execution_count": 183,
   "id": "d0e6b2f1",
   "metadata": {},
   "outputs": [
    {
     "data": {
      "text/plain": [
       "1.1105038859330154"
      ]
     },
     "execution_count": 183,
     "metadata": {},
     "output_type": "execute_result"
    }
   ],
   "source": [
    "np.std(df['log_restriction_2_2'])"
   ]
  },
  {
   "cell_type": "code",
   "execution_count": 184,
   "id": "214dc899",
   "metadata": {},
   "outputs": [
    {
     "name": "stdout",
     "output_type": "stream",
     "text": [
      "                     death_rate_age             R-squared:      0.2595\n",
      "Dep. Variable:                                                        \n",
      "Estimator:                 PanelOLS   R-squared (Between):      0.0409\n",
      "No. Observations:             27204    R-squared (Within):      0.2597\n",
      "Date:              Mon, May 16 2022   R-squared (Overall):      0.2324\n",
      "Time:                      15:48:33         Log-likelihood   2.848e+04\n",
      "Cov. Estimator:              Robust                    NaN         NaN\n",
      "NaN                             NaN           F-statistic:      1576.8\n",
      "Entities:                       262                P-value      0.0000\n",
      "Avg Obs:                     103.83          Distribution:  F(6,26996)\n",
      "Min Obs:                     0.0000                    NaN         NaN\n",
      "Max Obs:                     180.00  F-statistic (robust):      1185.5\n",
      "NaN                             NaN                P-value      0.0000\n",
      "Time periods:                    38          Distribution:  F(6,26996)\n",
      "Avg Obs:                     715.89                    NaN         NaN\n",
      "Min Obs:                     148.00                    NaN         NaN\n",
      "Max Obs:                     1526.0                    NaN         NaN\n",
      "NaN                             NaN                    NaN         NaN\n"
     ]
    }
   ],
   "source": [
    "print(results_dict_1['reg_2'])"
   ]
  },
  {
   "cell_type": "code",
   "execution_count": 175,
   "id": "2e94a93b",
   "metadata": {},
   "outputs": [
    {
     "name": "stdout",
     "output_type": "stream",
     "text": [
      "                     death_rate_age             R-squared:      0.2551\n",
      "Dep. Variable:                                                        \n",
      "Estimator:                 PanelOLS   R-squared (Between):      0.2009\n",
      "No. Observations:             16780    R-squared (Within):      0.2621\n",
      "Date:              Mon, May 16 2022   R-squared (Overall):      0.2549\n",
      "Time:                      15:45:34         Log-likelihood   1.709e+04\n",
      "Cov. Estimator:              Robust                    NaN         NaN\n",
      "NaN                             NaN           F-statistic:      813.76\n",
      "Entities:                       262                P-value      0.0000\n",
      "Avg Obs:                     64.046          Distribution:  F(7,16634)\n",
      "Min Obs:                     0.0000                    NaN         NaN\n",
      "Max Obs:                     180.00  F-statistic (robust):      688.53\n",
      "NaN                             NaN                P-value      0.0000\n",
      "Time periods:                    38          Distribution:  F(7,16634)\n",
      "Avg Obs:                     441.58                    NaN         NaN\n",
      "Min Obs:                     90.000                    NaN         NaN\n",
      "Max Obs:                     942.00                    NaN         NaN\n",
      "NaN                             NaN                    NaN         NaN\n"
     ]
    }
   ],
   "source": [
    "print(results_dict_1['reg_3'])"
   ]
  },
  {
   "cell_type": "code",
   "execution_count": 36,
   "id": "ad3decb5",
   "metadata": {},
   "outputs": [
    {
     "name": "stdout",
     "output_type": "stream",
     "text": [
      "                            Parameter  Std. Err.  T-stat  P-value  Lower CI  \\\n",
      "C(age_grp_dummy)[T.1.0]        0.1971     0.0466  4.2265   0.0000    0.1057   \n",
      "C(age_grp_dummy)[T.2.0]        0.1207     0.0468  2.5772   0.0100    0.0289   \n",
      "C(age_grp_dummy)[T.3.0]        0.0935     0.0470  1.9887   0.0468    0.0013   \n",
      "C(age_grp_dummy)[T.4.0]        0.0768     0.0472  1.6271   0.1037   -0.0157   \n",
      "C(age_grp_dummy)[T.5.0]        0.0626     0.0474  1.3223   0.1861   -0.0302   \n",
      "entry_rate_whole              -0.3136     0.0433 -7.2490   0.0000   -0.3984   \n",
      "entry_rate_whole_cohort        0.2402     0.0461  5.2110   0.0000    0.1499   \n",
      "log_gdp                       -0.0031     0.0053 -0.5808   0.5614   -0.0134   \n",
      "log_restriction_2_4            0.0038     0.0049  0.7658   0.4438   -0.0059   \n",
      "log_restriction_2_4_cohort     0.0048     0.0051  0.9312   0.3518   -0.0053   \n",
      "\n",
      "                            Upper CI  \n",
      "C(age_grp_dummy)[T.1.0]       0.2885  \n",
      "C(age_grp_dummy)[T.2.0]       0.2125  \n",
      "C(age_grp_dummy)[T.3.0]       0.1856  \n",
      "C(age_grp_dummy)[T.4.0]       0.1693  \n",
      "C(age_grp_dummy)[T.5.0]       0.1555  \n",
      "entry_rate_whole             -0.2288  \n",
      "entry_rate_whole_cohort       0.3306  \n",
      "log_gdp                       0.0073  \n",
      "log_restriction_2_4           0.0135  \n",
      "log_restriction_2_4_cohort    0.0148  \n"
     ]
    }
   ],
   "source": [
    "print(results_dict_1['reg_4'])"
   ]
  },
  {
   "cell_type": "markdown",
   "id": "13273a8d",
   "metadata": {},
   "source": [
    "3. all levels"
   ]
  },
  {
   "cell_type": "code",
   "execution_count": 137,
   "id": "0a30dcc7",
   "metadata": {},
   "outputs": [
    {
     "name": "stdout",
     "output_type": "stream",
     "text": [
      "                            Parameter  Std. Err.  T-stat  P-value  Lower CI  \\\n",
      "C(age_grp_dummy)[T.1.0]        0.3560     0.0981  3.6288   0.0003    0.1637   \n",
      "C(age_grp_dummy)[T.2.0]        0.2840     0.0984  2.8850   0.0039    0.0910   \n",
      "C(age_grp_dummy)[T.3.0]        0.2591     0.0986  2.6284   0.0086    0.0659   \n",
      "C(age_grp_dummy)[T.4.0]        0.2454     0.0990  2.4801   0.0132    0.0514   \n",
      "C(age_grp_dummy)[T.5.0]        0.2338     0.0992  2.3576   0.0184    0.0394   \n",
      "entry_rate_whole              -0.3002     0.0438 -6.8547   0.0000   -0.3860   \n",
      "entry_rate_whole_cohort        0.2399     0.0468  5.1262   0.0000    0.1482   \n",
      "log_gdp                       -0.0706     0.0119 -5.9151   0.0000   -0.0940   \n",
      "log_gdp_cohort                 0.0623     0.0103  6.0428   0.0000    0.0421   \n",
      "log_restriction_2_2            0.0198     0.0084  2.3696   0.0178    0.0034   \n",
      "log_restriction_2_2_cohort    -0.0358     0.0095 -3.7605   0.0002   -0.0545   \n",
      "log_restriction_2_3           -0.0057     0.0061 -0.9337   0.3505   -0.0175   \n",
      "log_restriction_2_3_cohort     0.0106     0.0068  1.5642   0.1178   -0.0027   \n",
      "log_restriction_2_4            0.0012     0.0064  0.1891   0.8500   -0.0114   \n",
      "log_restriction_2_4_cohort     0.0066     0.0069  0.9654   0.3344   -0.0068   \n",
      "\n",
      "                            Upper CI  \n",
      "C(age_grp_dummy)[T.1.0]       0.5483  \n",
      "C(age_grp_dummy)[T.2.0]       0.4769  \n",
      "C(age_grp_dummy)[T.3.0]       0.4523  \n",
      "C(age_grp_dummy)[T.4.0]       0.4394  \n",
      "C(age_grp_dummy)[T.5.0]       0.4281  \n",
      "entry_rate_whole             -0.2144  \n",
      "entry_rate_whole_cohort       0.3316  \n",
      "log_gdp                      -0.0472  \n",
      "log_gdp_cohort                0.0826  \n",
      "log_restriction_2_2           0.0363  \n",
      "log_restriction_2_2_cohort   -0.0171  \n",
      "log_restriction_2_3           0.0062  \n",
      "log_restriction_2_3_cohort    0.0239  \n",
      "log_restriction_2_4           0.0138  \n",
      "log_restriction_2_4_cohort    0.0201  \n"
     ]
    }
   ],
   "source": [
    "data = df\n",
    "# sample restriction\n",
    "data = data[data.year > 1985]\n",
    "\n",
    "# regression\n",
    "data = data.set_index(['sector', 'cohort'])\n",
    "data = data.loc[:, ['entry_rate_whole', 'death_rate_age', 'age_grp_dummy', 'year', 'log_incumbents_whole', 'entry_rate_whole_cohort', 'log_gdp', 'log_gdp_cohort',\n",
    "                    'log_restriction_2_2', 'log_restriction_2_3', 'log_restriction_2_4',\n",
    "                    'log_restriction_2_2_cohort', 'log_restriction_2_3_cohort', 'log_restriction_2_4_cohort']].dropna()\n",
    "mod = PanelOLS.from_formula(formula = f'death_rate_age ~ log_restriction_2_2_cohort + log_restriction_2_3_cohort + log_restriction_2_4_cohort \\\n",
    "                                        + log_restriction_2_2 + log_restriction_2_3 + log_restriction_2_4 + log_gdp + log_gdp_cohort\\\n",
    "                                        + C(age_grp_dummy) + entry_rate_whole_cohort + entry_rate_whole + EntityEffects + TimeEffects', data = data, drop_absorbed=True)\n",
    "res = mod.fit(cov_type = 'heteroskedastic')\n",
    "\n",
    "# results\n",
    "results_as_html = res.summary.tables[1].as_html()\n",
    "results_table = pd.read_html(results_as_html, header=0, index_col=0)[0]\n",
    "\n",
    "print(results_table)"
   ]
  },
  {
   "cell_type": "markdown",
   "id": "7a6934b2",
   "metadata": {},
   "source": []
  },
  {
   "cell_type": "markdown",
   "id": "d0cb87d6",
   "metadata": {},
   "source": [
    "## 6. Decomposition"
   ]
  },
  {
   "cell_type": "markdown",
   "id": "0f7faf3b",
   "metadata": {},
   "source": [
    "This section compute the decomposition of changes in firm death rates\n",
    "$$\\delta_t - \\delta_0 =  \\sum_i s_{t, 0} (\\delta_{i, t} - \\delta_{i, 0})  + \\sum_i \\delta_{i,0} (s_{i, t} - s_{i,0}) + \\sum_i (s_{i, t} - s_{i,0}) (\\delta_{i, t} - \\delta_{i, 0})$$"
   ]
  },
  {
   "cell_type": "code",
   "execution_count": 77,
   "id": "194c9668",
   "metadata": {},
   "outputs": [],
   "source": [
    "# define decomposition function\n",
    "def de_com(data, group):\n",
    "    # clean and construct variables\n",
    "    data['firms'] = pd.to_numeric(data['firms'], errors='coerce', downcast=None)\n",
    "    data['firmdeath_firms'] = pd.to_numeric(data['firmdeath_firms'], errors='coerce', downcast=None)\n",
    "    data['firm_death_rate'] = data['firmdeath_firms']/ data['firms']\n",
    "    data['year'] = pd.to_numeric(data['year'], errors='coerce', downcast=None)\n",
    "\n",
    "    # age group measure\n",
    "    data['entry'] = (data['fage'] == 'b) 1')\n",
    "    data['new'] = (data['fage'] == 'c) 2')|(data['fage'] == 'd) 3')|(data['fage'] == 'e) 4')|(data['fage'] == 'f) 5') \n",
    "    data['young'] = (data['fage'] == 'g) 6 to 10')\n",
    "    data['old']  = (data['fage'] == 'h) 11 to 15')|(data['fage'] == 'i) 16 to 20')|(data['fage'] == 'j) 21 to 25')|(data['fage'] == 'k) 26+')|(data['fage'] == 'l) Left Censored') \n",
    "    data['age_gp'] = data['entry']* 1 + data['new']*2 + data['young'] *3 + data['old'] *4\n",
    "\n",
    "    # sample restriction\n",
    "    data = data[data['age_gp'] != 0]\n",
    "\n",
    "    # decomposition\n",
    "    death_0 = data[(data['year']>1985)&(data['year']<1991) ].groupby(group)['firmdeath_firms'].sum() / \\\n",
    "                                data[(data['year']>1985)&(data['year']<1991) ].groupby(group)['firms'].sum()\n",
    "    death_1 = data[(data['year']>2014)&(data['year']<2020) ].groupby(group)['firmdeath_firms'].sum() / \\\n",
    "                                data[(data['year']>2014)&(data['year']<2020) ].groupby(group)['firms'].sum()\n",
    "    share_0 = data[(data['year']>1985)&(data['year']<1991) ].groupby(group)['firms'].sum() / \\\n",
    "                                data.loc[(data['year']>1985)&(data['year']<1991), 'firms'].sum() \n",
    "    share_1 = data[(data['year']>2014)&(data['year']<2020) ].groupby(group)['firms'].sum() / \\\n",
    "                                data.loc[(data['year']>2014)&(data['year']<2020), 'firms'].sum() \n",
    "    death_total_0 = data.loc[(data['year']>1985)&(data['year']<1991), 'firmdeath_firms'].sum() / \\\n",
    "                                data.loc[(data['year']>1985)&(data['year']<1991), 'firms'].sum()\n",
    "    death_total_1 = data.loc[(data['year']>2014)&(data['year']<2020), 'firmdeath_firms'].sum() / \\\n",
    "                                data.loc[(data['year']>2014)&(data['year']<2020), 'firms'].sum()    \n",
    "\n",
    "    within_effects = (death_1 - death_0) @ share_0\n",
    "    bwtween_effects = (share_1 - share_0) @ death_0\n",
    "    cov_component = (death_1 - death_0) @ (share_1 - share_0)     \n",
    "    total_effects = death_total_1 - death_total_0\n",
    "    \n",
    "    output = f\"{total_effects:.5f}(Total) = {within_effects:.5f}(Within) + {bwtween_effects:.5f}(Between) + {cov_component:.5f}(Cov)\"\n",
    "    print(output)"
   ]
  },
  {
   "cell_type": "code",
   "execution_count": 78,
   "id": "d746aba8",
   "metadata": {},
   "outputs": [
    {
     "name": "stdout",
     "output_type": "stream",
     "text": [
      "-0.02765(Total) = -0.01674(Within) + -0.01373(Between) + 0.00282(Cov)\n"
     ]
    }
   ],
   "source": [
    "# read bds data\n",
    "data = pd.read_csv('C:\\\\Users\\\\zach_\\\\Nobackupfile\\\\Data\\\\BDS\\\\bds2019_firm_age.csv')\n",
    "group = ['age_gp']\n",
    "de_com(data, group)"
   ]
  },
  {
   "cell_type": "code",
   "execution_count": 79,
   "id": "089decf0",
   "metadata": {},
   "outputs": [
    {
     "name": "stdout",
     "output_type": "stream",
     "text": [
      "-0.02685(Total) = -0.01653(Within) + -0.01298(Between) + 0.00266(Cov)\n"
     ]
    }
   ],
   "source": [
    "data = pd.read_csv('C:\\\\Users\\\\zach_\\\\Nobackupfile\\\\Data\\\\BDS\\\\bds2019_naics_2_age.csv')\n",
    "group =  ['age_gp','sector']\n",
    "de_com(data, group)"
   ]
  },
  {
   "cell_type": "code",
   "execution_count": 66,
   "id": "039ffb54",
   "metadata": {},
   "outputs": [],
   "source": [
    "data = pd.read_csv('C:\\\\Users\\\\zach_\\\\Nobackupfile\\\\Data\\\\BDS\\\\bds2019_firm_age.csv')\n"
   ]
  },
  {
   "cell_type": "code",
   "execution_count": 67,
   "id": "f9351aa4",
   "metadata": {},
   "outputs": [
    {
     "data": {
      "text/html": [
       "<div>\n",
       "<style scoped>\n",
       "    .dataframe tbody tr th:only-of-type {\n",
       "        vertical-align: middle;\n",
       "    }\n",
       "\n",
       "    .dataframe tbody tr th {\n",
       "        vertical-align: top;\n",
       "    }\n",
       "\n",
       "    .dataframe thead th {\n",
       "        text-align: right;\n",
       "    }\n",
       "</style>\n",
       "<table border=\"1\" class=\"dataframe\">\n",
       "  <thead>\n",
       "    <tr style=\"text-align: right;\">\n",
       "      <th></th>\n",
       "      <th>year</th>\n",
       "      <th>fage</th>\n",
       "      <th>firms</th>\n",
       "      <th>estabs</th>\n",
       "      <th>emp</th>\n",
       "      <th>denom</th>\n",
       "      <th>estabs_entry</th>\n",
       "      <th>estabs_entry_rate</th>\n",
       "      <th>estabs_exit</th>\n",
       "      <th>estabs_exit_rate</th>\n",
       "      <th>job_creation</th>\n",
       "      <th>job_creation_births</th>\n",
       "      <th>job_creation_continuers</th>\n",
       "      <th>job_creation_rate_births</th>\n",
       "      <th>job_creation_rate</th>\n",
       "      <th>job_destruction</th>\n",
       "      <th>job_destruction_deaths</th>\n",
       "      <th>job_destruction_continuers</th>\n",
       "      <th>job_destruction_rate_deaths</th>\n",
       "      <th>job_destruction_rate</th>\n",
       "      <th>net_job_creation</th>\n",
       "      <th>net_job_creation_rate</th>\n",
       "      <th>reallocation_rate</th>\n",
       "      <th>firmdeath_firms</th>\n",
       "      <th>firmdeath_estabs</th>\n",
       "      <th>firmdeath_emp</th>\n",
       "    </tr>\n",
       "  </thead>\n",
       "  <tbody>\n",
       "    <tr>\n",
       "      <th>0</th>\n",
       "      <td>1978</td>\n",
       "      <td>a) 0</td>\n",
       "      <td>485415</td>\n",
       "      <td>493592</td>\n",
       "      <td>2578695</td>\n",
       "      <td>1289365</td>\n",
       "      <td>493592</td>\n",
       "      <td>199.998</td>\n",
       "      <td>(X)</td>\n",
       "      <td>(X)</td>\n",
       "      <td>2578697</td>\n",
       "      <td>2578695</td>\n",
       "      <td>(X)</td>\n",
       "      <td>199.997</td>\n",
       "      <td>199.998</td>\n",
       "      <td>(X)</td>\n",
       "      <td>(X)</td>\n",
       "      <td>(X)</td>\n",
       "      <td>(X)</td>\n",
       "      <td>(X)</td>\n",
       "      <td>2578664</td>\n",
       "      <td>199.995</td>\n",
       "      <td>(X)</td>\n",
       "      <td>(X)</td>\n",
       "      <td>(X)</td>\n",
       "      <td>(X)</td>\n",
       "    </tr>\n",
       "    <tr>\n",
       "      <th>1</th>\n",
       "      <td>1978</td>\n",
       "      <td>b) 1</td>\n",
       "      <td>355497</td>\n",
       "      <td>367372</td>\n",
       "      <td>2401016</td>\n",
       "      <td>2385945</td>\n",
       "      <td>4831</td>\n",
       "      <td>1.131</td>\n",
       "      <td>124648</td>\n",
       "      <td>29.172</td>\n",
       "      <td>824119</td>\n",
       "      <td>57161</td>\n",
       "      <td>766958</td>\n",
       "      <td>2.396</td>\n",
       "      <td>34.541</td>\n",
       "      <td>782252</td>\n",
       "      <td>526589</td>\n",
       "      <td>255663</td>\n",
       "      <td>22.07</td>\n",
       "      <td>32.786</td>\n",
       "      <td>41867</td>\n",
       "      <td>1.755</td>\n",
       "      <td>65.572</td>\n",
       "      <td>98669</td>\n",
       "      <td>99466</td>\n",
       "      <td>422139</td>\n",
       "    </tr>\n",
       "    <tr>\n",
       "      <th>2</th>\n",
       "      <td>1978</td>\n",
       "      <td>c) 2</td>\n",
       "      <td>(X)</td>\n",
       "      <td>(X)</td>\n",
       "      <td>(X)</td>\n",
       "      <td>(X)</td>\n",
       "      <td>(X)</td>\n",
       "      <td>(X)</td>\n",
       "      <td>(X)</td>\n",
       "      <td>(X)</td>\n",
       "      <td>(X)</td>\n",
       "      <td>(X)</td>\n",
       "      <td>(X)</td>\n",
       "      <td>(X)</td>\n",
       "      <td>(X)</td>\n",
       "      <td>(X)</td>\n",
       "      <td>(X)</td>\n",
       "      <td>(X)</td>\n",
       "      <td>(X)</td>\n",
       "      <td>(X)</td>\n",
       "      <td>(X)</td>\n",
       "      <td>(X)</td>\n",
       "      <td>(X)</td>\n",
       "      <td>(X)</td>\n",
       "      <td>(X)</td>\n",
       "      <td>(X)</td>\n",
       "    </tr>\n",
       "    <tr>\n",
       "      <th>3</th>\n",
       "      <td>1978</td>\n",
       "      <td>d) 3</td>\n",
       "      <td>(X)</td>\n",
       "      <td>(X)</td>\n",
       "      <td>(X)</td>\n",
       "      <td>(X)</td>\n",
       "      <td>(X)</td>\n",
       "      <td>(X)</td>\n",
       "      <td>(X)</td>\n",
       "      <td>(X)</td>\n",
       "      <td>(X)</td>\n",
       "      <td>(X)</td>\n",
       "      <td>(X)</td>\n",
       "      <td>(X)</td>\n",
       "      <td>(X)</td>\n",
       "      <td>(X)</td>\n",
       "      <td>(X)</td>\n",
       "      <td>(X)</td>\n",
       "      <td>(X)</td>\n",
       "      <td>(X)</td>\n",
       "      <td>(X)</td>\n",
       "      <td>(X)</td>\n",
       "      <td>(X)</td>\n",
       "      <td>(X)</td>\n",
       "      <td>(X)</td>\n",
       "      <td>(X)</td>\n",
       "    </tr>\n",
       "    <tr>\n",
       "      <th>4</th>\n",
       "      <td>1978</td>\n",
       "      <td>e) 4</td>\n",
       "      <td>(X)</td>\n",
       "      <td>(X)</td>\n",
       "      <td>(X)</td>\n",
       "      <td>(X)</td>\n",
       "      <td>(X)</td>\n",
       "      <td>(X)</td>\n",
       "      <td>(X)</td>\n",
       "      <td>(X)</td>\n",
       "      <td>(X)</td>\n",
       "      <td>(X)</td>\n",
       "      <td>(X)</td>\n",
       "      <td>(X)</td>\n",
       "      <td>(X)</td>\n",
       "      <td>(X)</td>\n",
       "      <td>(X)</td>\n",
       "      <td>(X)</td>\n",
       "      <td>(X)</td>\n",
       "      <td>(X)</td>\n",
       "      <td>(X)</td>\n",
       "      <td>(X)</td>\n",
       "      <td>(X)</td>\n",
       "      <td>(X)</td>\n",
       "      <td>(X)</td>\n",
       "      <td>(X)</td>\n",
       "    </tr>\n",
       "    <tr>\n",
       "      <th>...</th>\n",
       "      <td>...</td>\n",
       "      <td>...</td>\n",
       "      <td>...</td>\n",
       "      <td>...</td>\n",
       "      <td>...</td>\n",
       "      <td>...</td>\n",
       "      <td>...</td>\n",
       "      <td>...</td>\n",
       "      <td>...</td>\n",
       "      <td>...</td>\n",
       "      <td>...</td>\n",
       "      <td>...</td>\n",
       "      <td>...</td>\n",
       "      <td>...</td>\n",
       "      <td>...</td>\n",
       "      <td>...</td>\n",
       "      <td>...</td>\n",
       "      <td>...</td>\n",
       "      <td>...</td>\n",
       "      <td>...</td>\n",
       "      <td>...</td>\n",
       "      <td>...</td>\n",
       "      <td>...</td>\n",
       "      <td>...</td>\n",
       "      <td>...</td>\n",
       "      <td>...</td>\n",
       "    </tr>\n",
       "    <tr>\n",
       "      <th>499</th>\n",
       "      <td>2019</td>\n",
       "      <td>h) 11 to 15</td>\n",
       "      <td>691935</td>\n",
       "      <td>759764</td>\n",
       "      <td>9301145</td>\n",
       "      <td>9361423</td>\n",
       "      <td>24276</td>\n",
       "      <td>3.116</td>\n",
       "      <td>63095</td>\n",
       "      <td>8.098</td>\n",
       "      <td>1081116</td>\n",
       "      <td>190669</td>\n",
       "      <td>890447</td>\n",
       "      <td>2.037</td>\n",
       "      <td>11.549</td>\n",
       "      <td>1203106</td>\n",
       "      <td>381950</td>\n",
       "      <td>821156</td>\n",
       "      <td>4.08</td>\n",
       "      <td>12.852</td>\n",
       "      <td>-121990</td>\n",
       "      <td>-1.303</td>\n",
       "      <td>23.097</td>\n",
       "      <td>51605</td>\n",
       "      <td>52872</td>\n",
       "      <td>313640</td>\n",
       "    </tr>\n",
       "    <tr>\n",
       "      <th>500</th>\n",
       "      <td>2019</td>\n",
       "      <td>i) 16 to 20</td>\n",
       "      <td>488746</td>\n",
       "      <td>583630</td>\n",
       "      <td>9113140</td>\n",
       "      <td>9138328</td>\n",
       "      <td>17120</td>\n",
       "      <td>2.873</td>\n",
       "      <td>41483</td>\n",
       "      <td>6.962</td>\n",
       "      <td>943417</td>\n",
       "      <td>175537</td>\n",
       "      <td>767880</td>\n",
       "      <td>1.921</td>\n",
       "      <td>10.324</td>\n",
       "      <td>996772</td>\n",
       "      <td>295671</td>\n",
       "      <td>701101</td>\n",
       "      <td>3.236</td>\n",
       "      <td>10.908</td>\n",
       "      <td>-53355</td>\n",
       "      <td>-0.584</td>\n",
       "      <td>20.647</td>\n",
       "      <td>32472</td>\n",
       "      <td>33745</td>\n",
       "      <td>221819</td>\n",
       "    </tr>\n",
       "    <tr>\n",
       "      <th>501</th>\n",
       "      <td>2019</td>\n",
       "      <td>j) 21 to 25</td>\n",
       "      <td>401165</td>\n",
       "      <td>522686</td>\n",
       "      <td>9810797</td>\n",
       "      <td>9859779</td>\n",
       "      <td>13877</td>\n",
       "      <td>2.602</td>\n",
       "      <td>35225</td>\n",
       "      <td>6.604</td>\n",
       "      <td>884950</td>\n",
       "      <td>147254</td>\n",
       "      <td>737696</td>\n",
       "      <td>1.493</td>\n",
       "      <td>8.975</td>\n",
       "      <td>984760</td>\n",
       "      <td>261469</td>\n",
       "      <td>723291</td>\n",
       "      <td>2.652</td>\n",
       "      <td>9.988</td>\n",
       "      <td>-99810</td>\n",
       "      <td>-1.012</td>\n",
       "      <td>17.951</td>\n",
       "      <td>25258</td>\n",
       "      <td>26550</td>\n",
       "      <td>166257</td>\n",
       "    </tr>\n",
       "    <tr>\n",
       "      <th>502</th>\n",
       "      <td>2019</td>\n",
       "      <td>k) 26+</td>\n",
       "      <td>782174</td>\n",
       "      <td>1241854</td>\n",
       "      <td>28803062</td>\n",
       "      <td>28732919</td>\n",
       "      <td>39322</td>\n",
       "      <td>3.126</td>\n",
       "      <td>71263</td>\n",
       "      <td>5.666</td>\n",
       "      <td>2665371</td>\n",
       "      <td>553477</td>\n",
       "      <td>2111894</td>\n",
       "      <td>1.926</td>\n",
       "      <td>9.276</td>\n",
       "      <td>2541990</td>\n",
       "      <td>661479</td>\n",
       "      <td>1880511</td>\n",
       "      <td>2.302</td>\n",
       "      <td>8.847</td>\n",
       "      <td>123381</td>\n",
       "      <td>0.429</td>\n",
       "      <td>17.694</td>\n",
       "      <td>46543</td>\n",
       "      <td>49639</td>\n",
       "      <td>313472</td>\n",
       "    </tr>\n",
       "    <tr>\n",
       "      <th>503</th>\n",
       "      <td>2019</td>\n",
       "      <td>l) Left Censored</td>\n",
       "      <td>359119</td>\n",
       "      <td>1352988</td>\n",
       "      <td>50997067</td>\n",
       "      <td>50930506</td>\n",
       "      <td>46217</td>\n",
       "      <td>3.396</td>\n",
       "      <td>61901</td>\n",
       "      <td>4.549</td>\n",
       "      <td>4068121</td>\n",
       "      <td>910972</td>\n",
       "      <td>3157149</td>\n",
       "      <td>1.789</td>\n",
       "      <td>7.988</td>\n",
       "      <td>3952603</td>\n",
       "      <td>1066810</td>\n",
       "      <td>2885793</td>\n",
       "      <td>2.095</td>\n",
       "      <td>7.761</td>\n",
       "      <td>115518</td>\n",
       "      <td>0.227</td>\n",
       "      <td>15.522</td>\n",
       "      <td>15299</td>\n",
       "      <td>17971</td>\n",
       "      <td>212920</td>\n",
       "    </tr>\n",
       "  </tbody>\n",
       "</table>\n",
       "<p>504 rows × 26 columns</p>\n",
       "</div>"
      ],
      "text/plain": [
       "     year              fage   firms   estabs       emp     denom estabs_entry  \\\n",
       "0    1978              a) 0  485415   493592   2578695   1289365       493592   \n",
       "1    1978              b) 1  355497   367372   2401016   2385945         4831   \n",
       "2    1978              c) 2     (X)      (X)       (X)       (X)          (X)   \n",
       "3    1978              d) 3     (X)      (X)       (X)       (X)          (X)   \n",
       "4    1978              e) 4     (X)      (X)       (X)       (X)          (X)   \n",
       "..    ...               ...     ...      ...       ...       ...          ...   \n",
       "499  2019       h) 11 to 15  691935   759764   9301145   9361423        24276   \n",
       "500  2019       i) 16 to 20  488746   583630   9113140   9138328        17120   \n",
       "501  2019       j) 21 to 25  401165   522686   9810797   9859779        13877   \n",
       "502  2019            k) 26+  782174  1241854  28803062  28732919        39322   \n",
       "503  2019  l) Left Censored  359119  1352988  50997067  50930506        46217   \n",
       "\n",
       "    estabs_entry_rate estabs_exit estabs_exit_rate job_creation  \\\n",
       "0             199.998         (X)              (X)      2578697   \n",
       "1               1.131      124648           29.172       824119   \n",
       "2                 (X)         (X)              (X)          (X)   \n",
       "3                 (X)         (X)              (X)          (X)   \n",
       "4                 (X)         (X)              (X)          (X)   \n",
       "..                ...         ...              ...          ...   \n",
       "499             3.116       63095            8.098      1081116   \n",
       "500             2.873       41483            6.962       943417   \n",
       "501             2.602       35225            6.604       884950   \n",
       "502             3.126       71263            5.666      2665371   \n",
       "503             3.396       61901            4.549      4068121   \n",
       "\n",
       "    job_creation_births job_creation_continuers job_creation_rate_births  \\\n",
       "0               2578695                     (X)                  199.997   \n",
       "1                 57161                  766958                    2.396   \n",
       "2                   (X)                     (X)                      (X)   \n",
       "3                   (X)                     (X)                      (X)   \n",
       "4                   (X)                     (X)                      (X)   \n",
       "..                  ...                     ...                      ...   \n",
       "499              190669                  890447                    2.037   \n",
       "500              175537                  767880                    1.921   \n",
       "501              147254                  737696                    1.493   \n",
       "502              553477                 2111894                    1.926   \n",
       "503              910972                 3157149                    1.789   \n",
       "\n",
       "    job_creation_rate job_destruction job_destruction_deaths  \\\n",
       "0             199.998             (X)                    (X)   \n",
       "1              34.541          782252                 526589   \n",
       "2                 (X)             (X)                    (X)   \n",
       "3                 (X)             (X)                    (X)   \n",
       "4                 (X)             (X)                    (X)   \n",
       "..                ...             ...                    ...   \n",
       "499            11.549         1203106                 381950   \n",
       "500            10.324          996772                 295671   \n",
       "501             8.975          984760                 261469   \n",
       "502             9.276         2541990                 661479   \n",
       "503             7.988         3952603                1066810   \n",
       "\n",
       "    job_destruction_continuers job_destruction_rate_deaths  \\\n",
       "0                          (X)                         (X)   \n",
       "1                       255663                       22.07   \n",
       "2                          (X)                         (X)   \n",
       "3                          (X)                         (X)   \n",
       "4                          (X)                         (X)   \n",
       "..                         ...                         ...   \n",
       "499                     821156                        4.08   \n",
       "500                     701101                       3.236   \n",
       "501                     723291                       2.652   \n",
       "502                    1880511                       2.302   \n",
       "503                    2885793                       2.095   \n",
       "\n",
       "    job_destruction_rate net_job_creation net_job_creation_rate  \\\n",
       "0                    (X)          2578664               199.995   \n",
       "1                 32.786            41867                 1.755   \n",
       "2                    (X)              (X)                   (X)   \n",
       "3                    (X)              (X)                   (X)   \n",
       "4                    (X)              (X)                   (X)   \n",
       "..                   ...              ...                   ...   \n",
       "499               12.852          -121990                -1.303   \n",
       "500               10.908           -53355                -0.584   \n",
       "501                9.988           -99810                -1.012   \n",
       "502                8.847           123381                 0.429   \n",
       "503                7.761           115518                 0.227   \n",
       "\n",
       "    reallocation_rate firmdeath_firms firmdeath_estabs firmdeath_emp  \n",
       "0                 (X)             (X)              (X)           (X)  \n",
       "1              65.572           98669            99466        422139  \n",
       "2                 (X)             (X)              (X)           (X)  \n",
       "3                 (X)             (X)              (X)           (X)  \n",
       "4                 (X)             (X)              (X)           (X)  \n",
       "..                ...             ...              ...           ...  \n",
       "499            23.097           51605            52872        313640  \n",
       "500            20.647           32472            33745        221819  \n",
       "501            17.951           25258            26550        166257  \n",
       "502            17.694           46543            49639        313472  \n",
       "503            15.522           15299            17971        212920  \n",
       "\n",
       "[504 rows x 26 columns]"
      ]
     },
     "execution_count": 67,
     "metadata": {},
     "output_type": "execute_result"
    }
   ],
   "source": [
    "data"
   ]
  },
  {
   "cell_type": "code",
   "execution_count": 2,
   "id": "4e1d3ace",
   "metadata": {},
   "outputs": [
    {
     "name": "stdout",
     "output_type": "stream",
     "text": [
      "Requirement already satisfied: cookiecutter in c:\\users\\zach_\\anaconda3\\lib\\site-packages (1.7.2)\n",
      "Requirement already satisfied: binaryornot>=0.4.4 in c:\\users\\zach_\\anaconda3\\lib\\site-packages (from cookiecutter) (0.4.4)\n",
      "Requirement already satisfied: MarkupSafe<2.0.0 in c:\\users\\zach_\\anaconda3\\lib\\site-packages (from cookiecutter) (1.1.1)\n",
      "Requirement already satisfied: six>=1.10 in c:\\users\\zach_\\anaconda3\\lib\\site-packages (from cookiecutter) (1.16.0)\n",
      "Requirement already satisfied: jinja2-time>=0.2.0 in c:\\users\\zach_\\anaconda3\\lib\\site-packages (from cookiecutter) (0.2.0)\n",
      "Requirement already satisfied: python-slugify>=4.0.0 in c:\\users\\zach_\\anaconda3\\lib\\site-packages (from cookiecutter) (5.0.2)\n",
      "Requirement already satisfied: poyo>=0.5.0 in c:\\users\\zach_\\anaconda3\\lib\\site-packages (from cookiecutter) (0.5.0)\n",
      "Requirement already satisfied: requests>=2.23.0 in c:\\users\\zach_\\anaconda3\\lib\\site-packages (from cookiecutter) (2.26.0)\n",
      "Requirement already satisfied: Jinja2<3.0.0 in c:\\users\\zach_\\anaconda3\\lib\\site-packages (from cookiecutter) (2.11.3)\n",
      "Requirement already satisfied: click>=7.0 in c:\\users\\zach_\\anaconda3\\lib\\site-packages (from cookiecutter) (8.0.3)\n",
      "Requirement already satisfied: chardet>=3.0.2 in c:\\users\\zach_\\anaconda3\\lib\\site-packages (from binaryornot>=0.4.4->cookiecutter) (4.0.0)\n",
      "Requirement already satisfied: colorama in c:\\users\\zach_\\anaconda3\\lib\\site-packages (from click>=7.0->cookiecutter) (0.4.4)\n",
      "Requirement already satisfied: arrow in c:\\users\\zach_\\anaconda3\\lib\\site-packages (from jinja2-time>=0.2.0->cookiecutter) (0.13.1)\n",
      "Requirement already satisfied: text-unidecode>=1.3 in c:\\users\\zach_\\anaconda3\\lib\\site-packages (from python-slugify>=4.0.0->cookiecutter) (1.3)\n",
      "Requirement already satisfied: idna<4,>=2.5 in c:\\users\\zach_\\anaconda3\\lib\\site-packages (from requests>=2.23.0->cookiecutter) (3.2)\n",
      "Requirement already satisfied: certifi>=2017.4.17 in c:\\users\\zach_\\anaconda3\\lib\\site-packages (from requests>=2.23.0->cookiecutter) (2021.10.8)\n",
      "Requirement already satisfied: charset-normalizer~=2.0.0 in c:\\users\\zach_\\anaconda3\\lib\\site-packages (from requests>=2.23.0->cookiecutter) (2.0.4)\n",
      "Requirement already satisfied: urllib3<1.27,>=1.21.1 in c:\\users\\zach_\\anaconda3\\lib\\site-packages (from requests>=2.23.0->cookiecutter) (1.26.7)\n",
      "Requirement already satisfied: python-dateutil in c:\\users\\zach_\\anaconda3\\lib\\site-packages (from arrow->jinja2-time>=0.2.0->cookiecutter) (2.8.2)\n",
      "Note: you may need to restart the kernel to use updated packages.\n"
     ]
    },
    {
     "name": "stderr",
     "output_type": "stream",
     "text": [
      "WARNING: You are using pip version 22.0.4; however, version 22.1 is available.\n",
      "You should consider upgrading via the 'c:\\Users\\zach_\\anaconda3\\python.exe -m pip install --upgrade pip' command.\n"
     ]
    }
   ],
   "source": []
  },
  {
   "cell_type": "code",
   "execution_count": null,
   "id": "5ff681b8",
   "metadata": {},
   "outputs": [],
   "source": []
  }
 ],
 "metadata": {
  "interpreter": {
   "hash": "44599b0862bddee82dc23b9f63c3260e42dbe4d929625556e76cc4b2957ef2fe"
  },
  "kernelspec": {
   "display_name": "Python 3.10.4 ('RFE_project-5yjSZlxr')",
   "language": "python",
   "name": "python3"
  },
  "language_info": {
   "codemirror_mode": {
    "name": "ipython",
    "version": 3
   },
   "file_extension": ".py",
   "mimetype": "text/x-python",
   "name": "python",
   "nbconvert_exporter": "python",
   "pygments_lexer": "ipython3",
   "version": "3.10.4"
  }
 },
 "nbformat": 4,
 "nbformat_minor": 5
}
