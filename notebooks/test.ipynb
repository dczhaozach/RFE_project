{
 "cells": [
  {
   "cell_type": "code",
   "execution_count": 4,
   "metadata": {},
   "outputs": [],
   "source": [
    "import os\n",
    "import sys\n",
    "\n",
    "import logging\n",
    "from pathlib import Path\n",
    "\n",
    "import click\n",
    "import pandas as pd\n",
    "import numpy as np\n",
    "\n",
    "sys.path.append(r\"c:\\Users\\zach_\\Desktop\\Research\\Github\\RFE_project\\src\")\n",
    "from utility import parse_config, set_logger"
   ]
  },
  {
   "cell_type": "code",
   "execution_count": 5,
   "metadata": {},
   "outputs": [],
   "source": [
    "config = parse_config(r\"c:\\Users\\zach_\\Desktop\\Research\\Github\\RFE_project\\src\\config.yaml\")"
   ]
  },
  {
   "cell_type": "code",
   "execution_count": 6,
   "metadata": {},
   "outputs": [
    {
     "ename": "KeyError",
     "evalue": "'data'",
     "output_type": "error",
     "traceback": [
      "\u001b[1;31m---------------------------------------------------------------------------\u001b[0m",
      "\u001b[1;31mKeyError\u001b[0m                                  Traceback (most recent call last)",
      "\u001b[1;32mc:\\Users\\zach_\\Desktop\\Research\\Github\\RFE_project\\notebooks\\test.ipynb Cell 3'\u001b[0m in \u001b[0;36m<cell line: 1>\u001b[1;34m()\u001b[0m\n\u001b[1;32m----> <a href='vscode-notebook-cell:/c%3A/Users/zach_/Desktop/Research/Github/RFE_project/notebooks/test.ipynb#ch0000002?line=0'>1</a>\u001b[0m data_file_path \u001b[39m=\u001b[39m Path(config[\u001b[39m\"\u001b[39;49m\u001b[39mdata\u001b[39;49m\u001b[39m\"\u001b[39;49m][\u001b[39m\"\u001b[39m\u001b[39mdata_file_path\u001b[39m\u001b[39m\"\u001b[39m])\n\u001b[0;32m      <a href='vscode-notebook-cell:/c%3A/Users/zach_/Desktop/Research/Github/RFE_project/notebooks/test.ipynb#ch0000002?line=1'>2</a>\u001b[0m regdata_path \u001b[39m=\u001b[39m Path(config[\u001b[39m\"\u001b[39m\u001b[39mdata\u001b[39m\u001b[39m\"\u001b[39m][\u001b[39m\"\u001b[39m\u001b[39mregdata_path\u001b[39m\u001b[39m\"\u001b[39m])\n\u001b[0;32m      <a href='vscode-notebook-cell:/c%3A/Users/zach_/Desktop/Research/Github/RFE_project/notebooks/test.ipynb#ch0000002?line=2'>3</a>\u001b[0m data_file_path\n",
      "\u001b[1;31mKeyError\u001b[0m: 'data'"
     ]
    }
   ],
   "source": [
    "data_file_path = Path(config[\"data\"][\"data_file_path\"])\n",
    "regdata_path = Path(config[\"data\"][\"regdata_path\"])\n",
    "data_file_path"
   ]
  },
  {
   "cell_type": "code",
   "execution_count": 8,
   "metadata": {},
   "outputs": [
    {
     "data": {
      "text/plain": [
       "'C:/Users/zach_/Nobackupfile/Data/BDS'"
      ]
     },
     "execution_count": 8,
     "metadata": {},
     "output_type": "execute_result"
    }
   ],
   "source": [
    "config[\"make_data\"][\"data_file_path\"]"
   ]
  },
  {
   "cell_type": "code",
   "execution_count": 10,
   "metadata": {},
   "outputs": [
    {
     "ename": "NameError",
     "evalue": "name 'data_file_path' is not defined",
     "output_type": "error",
     "traceback": [
      "\u001b[1;31m---------------------------------------------------------------------------\u001b[0m",
      "\u001b[1;31mNameError\u001b[0m                                 Traceback (most recent call last)",
      "\u001b[1;32mc:\\Users\\zach_\\Desktop\\Research\\Github\\RFE_project\\notebooks\\test.ipynb Cell 5'\u001b[0m in \u001b[0;36m<cell line: 1>\u001b[1;34m()\u001b[0m\n\u001b[1;32m----> <a href='vscode-notebook-cell:/c%3A/Users/zach_/Desktop/Research/Github/RFE_project/notebooks/test.ipynb#ch0000004?line=0'>1</a>\u001b[0m df \u001b[39m=\u001b[39m pd\u001b[39m.\u001b[39mread_csv(data_file_path\u001b[39m/\u001b[39mregdata_path)\n",
      "\u001b[1;31mNameError\u001b[0m: name 'data_file_path' is not defined"
     ]
    }
   ],
   "source": [
    "df = pd.read_csv(data_file_path/regdata_path)"
   ]
  },
  {
   "cell_type": "code",
   "execution_count": 11,
   "metadata": {},
   "outputs": [
    {
     "ename": "NameError",
     "evalue": "name 'df' is not defined",
     "output_type": "error",
     "traceback": [
      "\u001b[1;31m---------------------------------------------------------------------------\u001b[0m",
      "\u001b[1;31mNameError\u001b[0m                                 Traceback (most recent call last)",
      "\u001b[1;32mc:\\Users\\zach_\\Desktop\\Research\\Github\\RFE_project\\notebooks\\test.ipynb Cell 6'\u001b[0m in \u001b[0;36m<cell line: 1>\u001b[1;34m()\u001b[0m\n\u001b[1;32m----> <a href='vscode-notebook-cell:/c%3A/Users/zach_/Desktop/Research/Github/RFE_project/notebooks/test.ipynb#ch0000014?line=0'>1</a>\u001b[0m df\u001b[39m.\u001b[39mhead()\n",
      "\u001b[1;31mNameError\u001b[0m: name 'df' is not defined"
     ]
    }
   ],
   "source": [
    "df.head()"
   ]
  },
  {
   "cell_type": "code",
   "execution_count": 60,
   "metadata": {},
   "outputs": [
    {
     "ename": "KeyError",
     "evalue": "'sector_2'",
     "output_type": "error",
     "traceback": [
      "\u001b[1;31m---------------------------------------------------------------------------\u001b[0m",
      "\u001b[1;31mKeyError\u001b[0m                                  Traceback (most recent call last)",
      "File \u001b[1;32mc:\\Users\\zach_\\.virtualenvs\\RFE_project-5yjSZlxr\\lib\\site-packages\\pandas\\core\\indexes\\base.py:3621\u001b[0m, in \u001b[0;36mIndex.get_loc\u001b[1;34m(self, key, method, tolerance)\u001b[0m\n\u001b[0;32m   <a href='file:///c%3A/Users/zach_/.virtualenvs/RFE_project-5yjSZlxr/lib/site-packages/pandas/core/indexes/base.py?line=3619'>3620</a>\u001b[0m \u001b[39mtry\u001b[39;00m:\n\u001b[1;32m-> <a href='file:///c%3A/Users/zach_/.virtualenvs/RFE_project-5yjSZlxr/lib/site-packages/pandas/core/indexes/base.py?line=3620'>3621</a>\u001b[0m     \u001b[39mreturn\u001b[39;00m \u001b[39mself\u001b[39;49m\u001b[39m.\u001b[39;49m_engine\u001b[39m.\u001b[39;49mget_loc(casted_key)\n\u001b[0;32m   <a href='file:///c%3A/Users/zach_/.virtualenvs/RFE_project-5yjSZlxr/lib/site-packages/pandas/core/indexes/base.py?line=3621'>3622</a>\u001b[0m \u001b[39mexcept\u001b[39;00m \u001b[39mKeyError\u001b[39;00m \u001b[39mas\u001b[39;00m err:\n",
      "File \u001b[1;32mc:\\Users\\zach_\\.virtualenvs\\RFE_project-5yjSZlxr\\lib\\site-packages\\pandas\\_libs\\index.pyx:136\u001b[0m, in \u001b[0;36mpandas._libs.index.IndexEngine.get_loc\u001b[1;34m()\u001b[0m\n",
      "File \u001b[1;32mc:\\Users\\zach_\\.virtualenvs\\RFE_project-5yjSZlxr\\lib\\site-packages\\pandas\\_libs\\index.pyx:163\u001b[0m, in \u001b[0;36mpandas._libs.index.IndexEngine.get_loc\u001b[1;34m()\u001b[0m\n",
      "File \u001b[1;32mpandas\\_libs\\hashtable_class_helper.pxi:5198\u001b[0m, in \u001b[0;36mpandas._libs.hashtable.PyObjectHashTable.get_item\u001b[1;34m()\u001b[0m\n",
      "File \u001b[1;32mpandas\\_libs\\hashtable_class_helper.pxi:5206\u001b[0m, in \u001b[0;36mpandas._libs.hashtable.PyObjectHashTable.get_item\u001b[1;34m()\u001b[0m\n",
      "\u001b[1;31mKeyError\u001b[0m: 'sector_2'",
      "\nThe above exception was the direct cause of the following exception:\n",
      "\u001b[1;31mKeyError\u001b[0m                                  Traceback (most recent call last)",
      "\u001b[1;32mc:\\Users\\zach_\\Desktop\\Research\\Github\\RFE_project\\notebooks\\test.ipynb Cell 6'\u001b[0m in \u001b[0;36m<cell line: 14>\u001b[1;34m()\u001b[0m\n\u001b[0;32m     <a href='vscode-notebook-cell:/c%3A/Users/zach_/Desktop/Research/Github/RFE_project/notebooks/test.ipynb#ch0000010?line=11'>12</a>\u001b[0m \u001b[39m# sector gdp data\u001b[39;00m\n\u001b[0;32m     <a href='vscode-notebook-cell:/c%3A/Users/zach_/Desktop/Research/Github/RFE_project/notebooks/test.ipynb#ch0000010?line=12'>13</a>\u001b[0m gdp \u001b[39m=\u001b[39m pd\u001b[39m.\u001b[39mread_csv(data_file_path\u001b[39m/\u001b[39mgdp_path)\n\u001b[1;32m---> <a href='vscode-notebook-cell:/c%3A/Users/zach_/Desktop/Research/Github/RFE_project/notebooks/test.ipynb#ch0000010?line=13'>14</a>\u001b[0m gdp \u001b[39m=\u001b[39m pd\u001b[39m.\u001b[39;49mmelt(gdp, id_vars\u001b[39m=\u001b[39;49m\u001b[39m'\u001b[39;49m\u001b[39msector_2\u001b[39;49m\u001b[39m'\u001b[39;49m, var_name\u001b[39m=\u001b[39;49m\u001b[39m'\u001b[39;49m\u001b[39myear\u001b[39;49m\u001b[39m'\u001b[39;49m, value_name\u001b[39m=\u001b[39;49m\u001b[39m'\u001b[39;49m\u001b[39mgdp\u001b[39;49m\u001b[39m'\u001b[39;49m)\n\u001b[0;32m     <a href='vscode-notebook-cell:/c%3A/Users/zach_/Desktop/Research/Github/RFE_project/notebooks/test.ipynb#ch0000010?line=14'>15</a>\u001b[0m gdp[\u001b[39m'\u001b[39m\u001b[39myear\u001b[39m\u001b[39m'\u001b[39m] \u001b[39m=\u001b[39m pd\u001b[39m.\u001b[39mto_numeric(gdp[\u001b[39m'\u001b[39m\u001b[39myear\u001b[39m\u001b[39m'\u001b[39m])\u001b[39m.\u001b[39mastype(np\u001b[39m.\u001b[39mint64)\n\u001b[0;32m     <a href='vscode-notebook-cell:/c%3A/Users/zach_/Desktop/Research/Github/RFE_project/notebooks/test.ipynb#ch0000010?line=16'>17</a>\u001b[0m \u001b[39m# load BDS dataset by age sector\u001b[39;00m\n",
      "File \u001b[1;32mc:\\Users\\zach_\\.virtualenvs\\RFE_project-5yjSZlxr\\lib\\site-packages\\pandas\\core\\reshape\\melt.py:132\u001b[0m, in \u001b[0;36mmelt\u001b[1;34m(frame, id_vars, value_vars, var_name, value_name, col_level, ignore_index)\u001b[0m\n\u001b[0;32m    <a href='file:///c%3A/Users/zach_/.virtualenvs/RFE_project-5yjSZlxr/lib/site-packages/pandas/core/reshape/melt.py?line=129'>130</a>\u001b[0m mdata \u001b[39m=\u001b[39m {}\n\u001b[0;32m    <a href='file:///c%3A/Users/zach_/.virtualenvs/RFE_project-5yjSZlxr/lib/site-packages/pandas/core/reshape/melt.py?line=130'>131</a>\u001b[0m \u001b[39mfor\u001b[39;00m col \u001b[39min\u001b[39;00m id_vars:\n\u001b[1;32m--> <a href='file:///c%3A/Users/zach_/.virtualenvs/RFE_project-5yjSZlxr/lib/site-packages/pandas/core/reshape/melt.py?line=131'>132</a>\u001b[0m     id_data \u001b[39m=\u001b[39m frame\u001b[39m.\u001b[39;49mpop(col)\n\u001b[0;32m    <a href='file:///c%3A/Users/zach_/.virtualenvs/RFE_project-5yjSZlxr/lib/site-packages/pandas/core/reshape/melt.py?line=132'>133</a>\u001b[0m     \u001b[39mif\u001b[39;00m is_extension_array_dtype(id_data):\n\u001b[0;32m    <a href='file:///c%3A/Users/zach_/.virtualenvs/RFE_project-5yjSZlxr/lib/site-packages/pandas/core/reshape/melt.py?line=133'>134</a>\u001b[0m         id_data \u001b[39m=\u001b[39m concat([id_data] \u001b[39m*\u001b[39m K, ignore_index\u001b[39m=\u001b[39m\u001b[39mTrue\u001b[39;00m)\n",
      "File \u001b[1;32mc:\\Users\\zach_\\.virtualenvs\\RFE_project-5yjSZlxr\\lib\\site-packages\\pandas\\core\\frame.py:5270\u001b[0m, in \u001b[0;36mDataFrame.pop\u001b[1;34m(self, item)\u001b[0m\n\u001b[0;32m   <a href='file:///c%3A/Users/zach_/.virtualenvs/RFE_project-5yjSZlxr/lib/site-packages/pandas/core/frame.py?line=5228'>5229</a>\u001b[0m \u001b[39mdef\u001b[39;00m \u001b[39mpop\u001b[39m(\u001b[39mself\u001b[39m, item: Hashable) \u001b[39m-\u001b[39m\u001b[39m>\u001b[39m Series:\n\u001b[0;32m   <a href='file:///c%3A/Users/zach_/.virtualenvs/RFE_project-5yjSZlxr/lib/site-packages/pandas/core/frame.py?line=5229'>5230</a>\u001b[0m     \u001b[39m\"\"\"\u001b[39;00m\n\u001b[0;32m   <a href='file:///c%3A/Users/zach_/.virtualenvs/RFE_project-5yjSZlxr/lib/site-packages/pandas/core/frame.py?line=5230'>5231</a>\u001b[0m \u001b[39m    Return item and drop from frame. Raise KeyError if not found.\u001b[39;00m\n\u001b[0;32m   <a href='file:///c%3A/Users/zach_/.virtualenvs/RFE_project-5yjSZlxr/lib/site-packages/pandas/core/frame.py?line=5231'>5232</a>\u001b[0m \n\u001b[1;32m   (...)\u001b[0m\n\u001b[0;32m   <a href='file:///c%3A/Users/zach_/.virtualenvs/RFE_project-5yjSZlxr/lib/site-packages/pandas/core/frame.py?line=5267'>5268</a>\u001b[0m \u001b[39m    3  monkey        NaN\u001b[39;00m\n\u001b[0;32m   <a href='file:///c%3A/Users/zach_/.virtualenvs/RFE_project-5yjSZlxr/lib/site-packages/pandas/core/frame.py?line=5268'>5269</a>\u001b[0m \u001b[39m    \"\"\"\u001b[39;00m\n\u001b[1;32m-> <a href='file:///c%3A/Users/zach_/.virtualenvs/RFE_project-5yjSZlxr/lib/site-packages/pandas/core/frame.py?line=5269'>5270</a>\u001b[0m     \u001b[39mreturn\u001b[39;00m \u001b[39msuper\u001b[39;49m()\u001b[39m.\u001b[39;49mpop(item\u001b[39m=\u001b[39;49mitem)\n",
      "File \u001b[1;32mc:\\Users\\zach_\\.virtualenvs\\RFE_project-5yjSZlxr\\lib\\site-packages\\pandas\\core\\generic.py:865\u001b[0m, in \u001b[0;36mNDFrame.pop\u001b[1;34m(self, item)\u001b[0m\n\u001b[0;32m    <a href='file:///c%3A/Users/zach_/.virtualenvs/RFE_project-5yjSZlxr/lib/site-packages/pandas/core/generic.py?line=863'>864</a>\u001b[0m \u001b[39mdef\u001b[39;00m \u001b[39mpop\u001b[39m(\u001b[39mself\u001b[39m, item: Hashable) \u001b[39m-\u001b[39m\u001b[39m>\u001b[39m Series \u001b[39m|\u001b[39m Any:\n\u001b[1;32m--> <a href='file:///c%3A/Users/zach_/.virtualenvs/RFE_project-5yjSZlxr/lib/site-packages/pandas/core/generic.py?line=864'>865</a>\u001b[0m     result \u001b[39m=\u001b[39m \u001b[39mself\u001b[39;49m[item]\n\u001b[0;32m    <a href='file:///c%3A/Users/zach_/.virtualenvs/RFE_project-5yjSZlxr/lib/site-packages/pandas/core/generic.py?line=865'>866</a>\u001b[0m     \u001b[39mdel\u001b[39;00m \u001b[39mself\u001b[39m[item]\n\u001b[0;32m    <a href='file:///c%3A/Users/zach_/.virtualenvs/RFE_project-5yjSZlxr/lib/site-packages/pandas/core/generic.py?line=867'>868</a>\u001b[0m     \u001b[39mreturn\u001b[39;00m result\n",
      "File \u001b[1;32mc:\\Users\\zach_\\.virtualenvs\\RFE_project-5yjSZlxr\\lib\\site-packages\\pandas\\core\\frame.py:3505\u001b[0m, in \u001b[0;36mDataFrame.__getitem__\u001b[1;34m(self, key)\u001b[0m\n\u001b[0;32m   <a href='file:///c%3A/Users/zach_/.virtualenvs/RFE_project-5yjSZlxr/lib/site-packages/pandas/core/frame.py?line=3502'>3503</a>\u001b[0m \u001b[39mif\u001b[39;00m \u001b[39mself\u001b[39m\u001b[39m.\u001b[39mcolumns\u001b[39m.\u001b[39mnlevels \u001b[39m>\u001b[39m \u001b[39m1\u001b[39m:\n\u001b[0;32m   <a href='file:///c%3A/Users/zach_/.virtualenvs/RFE_project-5yjSZlxr/lib/site-packages/pandas/core/frame.py?line=3503'>3504</a>\u001b[0m     \u001b[39mreturn\u001b[39;00m \u001b[39mself\u001b[39m\u001b[39m.\u001b[39m_getitem_multilevel(key)\n\u001b[1;32m-> <a href='file:///c%3A/Users/zach_/.virtualenvs/RFE_project-5yjSZlxr/lib/site-packages/pandas/core/frame.py?line=3504'>3505</a>\u001b[0m indexer \u001b[39m=\u001b[39m \u001b[39mself\u001b[39;49m\u001b[39m.\u001b[39;49mcolumns\u001b[39m.\u001b[39;49mget_loc(key)\n\u001b[0;32m   <a href='file:///c%3A/Users/zach_/.virtualenvs/RFE_project-5yjSZlxr/lib/site-packages/pandas/core/frame.py?line=3505'>3506</a>\u001b[0m \u001b[39mif\u001b[39;00m is_integer(indexer):\n\u001b[0;32m   <a href='file:///c%3A/Users/zach_/.virtualenvs/RFE_project-5yjSZlxr/lib/site-packages/pandas/core/frame.py?line=3506'>3507</a>\u001b[0m     indexer \u001b[39m=\u001b[39m [indexer]\n",
      "File \u001b[1;32mc:\\Users\\zach_\\.virtualenvs\\RFE_project-5yjSZlxr\\lib\\site-packages\\pandas\\core\\indexes\\base.py:3623\u001b[0m, in \u001b[0;36mIndex.get_loc\u001b[1;34m(self, key, method, tolerance)\u001b[0m\n\u001b[0;32m   <a href='file:///c%3A/Users/zach_/.virtualenvs/RFE_project-5yjSZlxr/lib/site-packages/pandas/core/indexes/base.py?line=3620'>3621</a>\u001b[0m     \u001b[39mreturn\u001b[39;00m \u001b[39mself\u001b[39m\u001b[39m.\u001b[39m_engine\u001b[39m.\u001b[39mget_loc(casted_key)\n\u001b[0;32m   <a href='file:///c%3A/Users/zach_/.virtualenvs/RFE_project-5yjSZlxr/lib/site-packages/pandas/core/indexes/base.py?line=3621'>3622</a>\u001b[0m \u001b[39mexcept\u001b[39;00m \u001b[39mKeyError\u001b[39;00m \u001b[39mas\u001b[39;00m err:\n\u001b[1;32m-> <a href='file:///c%3A/Users/zach_/.virtualenvs/RFE_project-5yjSZlxr/lib/site-packages/pandas/core/indexes/base.py?line=3622'>3623</a>\u001b[0m     \u001b[39mraise\u001b[39;00m \u001b[39mKeyError\u001b[39;00m(key) \u001b[39mfrom\u001b[39;00m \u001b[39merr\u001b[39;00m\n\u001b[0;32m   <a href='file:///c%3A/Users/zach_/.virtualenvs/RFE_project-5yjSZlxr/lib/site-packages/pandas/core/indexes/base.py?line=3623'>3624</a>\u001b[0m \u001b[39mexcept\u001b[39;00m \u001b[39mTypeError\u001b[39;00m:\n\u001b[0;32m   <a href='file:///c%3A/Users/zach_/.virtualenvs/RFE_project-5yjSZlxr/lib/site-packages/pandas/core/indexes/base.py?line=3624'>3625</a>\u001b[0m     \u001b[39m# If we have a listlike key, _check_indexing_error will raise\u001b[39;00m\n\u001b[0;32m   <a href='file:///c%3A/Users/zach_/.virtualenvs/RFE_project-5yjSZlxr/lib/site-packages/pandas/core/indexes/base.py?line=3625'>3626</a>\u001b[0m     \u001b[39m#  InvalidIndexError. Otherwise we fall through and re-raise\u001b[39;00m\n\u001b[0;32m   <a href='file:///c%3A/Users/zach_/.virtualenvs/RFE_project-5yjSZlxr/lib/site-packages/pandas/core/indexes/base.py?line=3626'>3627</a>\u001b[0m     \u001b[39m#  the TypeError.\u001b[39;00m\n\u001b[0;32m   <a href='file:///c%3A/Users/zach_/.virtualenvs/RFE_project-5yjSZlxr/lib/site-packages/pandas/core/indexes/base.py?line=3627'>3628</a>\u001b[0m     \u001b[39mself\u001b[39m\u001b[39m.\u001b[39m_check_indexing_error(key)\n",
      "\u001b[1;31mKeyError\u001b[0m: 'sector_2'"
     ]
    }
   ],
   "source": [
    "# load data paths\n",
    "data_file_path = Path(config[\"data\"][\"data_file_path\"])\n",
    "regdata_path = Path(config[\"data\"][\"regdata_path\"])\n",
    "bds_naics_4_path = Path(config[\"data\"][\"bds_naics_4_path\"])\n",
    "gdp_path = Path(config[\"data\"][\"bds_naics_4_path\"])\n",
    "\n",
    "# reg data\n",
    "regdata = pd.read_csv(data_file_path/regdata_path)\n",
    "regdata['sector_reg'] = regdata['NAICS']\n",
    "regdata = regdata.loc[:,[\"year\", \"sector_reg\", \"industry_restrictions_1_0\", \"industry_restrictions_2_0\"]]\n",
    "\n",
    "# sector gdp data\n",
    "gdp = pd.read_csv(data_file_path/gdp_path)\n",
    "gdp = pd.melt(gdp, id_vars='sector_2', var_name='year', value_name='gdp')\n",
    "gdp['year'] = pd.to_numeric(gdp['year']).astype(np.int64)\n",
    "\n",
    "# load BDS dataset by age sector\n",
    "df = pd.read_csv(data_file_path/bds_naics_4_path)"
   ]
  },
  {
   "cell_type": "code",
   "execution_count": 61,
   "metadata": {},
   "outputs": [
    {
     "data": {
      "text/html": [
       "<div>\n",
       "<style scoped>\n",
       "    .dataframe tbody tr th:only-of-type {\n",
       "        vertical-align: middle;\n",
       "    }\n",
       "\n",
       "    .dataframe tbody tr th {\n",
       "        vertical-align: top;\n",
       "    }\n",
       "\n",
       "    .dataframe thead th {\n",
       "        text-align: right;\n",
       "    }\n",
       "</style>\n",
       "<table border=\"1\" class=\"dataframe\">\n",
       "  <thead>\n",
       "    <tr style=\"text-align: right;\">\n",
       "      <th></th>\n",
       "      <th>year</th>\n",
       "      <th>sector</th>\n",
       "      <th>fage</th>\n",
       "      <th>firms</th>\n",
       "      <th>estabs</th>\n",
       "      <th>emp</th>\n",
       "      <th>denom</th>\n",
       "      <th>estabs_entry</th>\n",
       "      <th>estabs_entry_rate</th>\n",
       "      <th>estabs_exit</th>\n",
       "      <th>...</th>\n",
       "      <th>job_destruction_deaths</th>\n",
       "      <th>job_destruction_continuers</th>\n",
       "      <th>job_destruction_rate_deaths</th>\n",
       "      <th>job_destruction_rate</th>\n",
       "      <th>net_job_creation</th>\n",
       "      <th>net_job_creation_rate</th>\n",
       "      <th>reallocation_rate</th>\n",
       "      <th>firmdeath_firms</th>\n",
       "      <th>firmdeath_estabs</th>\n",
       "      <th>firmdeath_emp</th>\n",
       "    </tr>\n",
       "  </thead>\n",
       "  <tbody>\n",
       "    <tr>\n",
       "      <th>0</th>\n",
       "      <td>1978</td>\n",
       "      <td>1100</td>\n",
       "      <td>a) 0</td>\n",
       "      <td>3911</td>\n",
       "      <td>3919</td>\n",
       "      <td>16879</td>\n",
       "      <td>8440</td>\n",
       "      <td>3919</td>\n",
       "      <td>200</td>\n",
       "      <td>(X)</td>\n",
       "      <td>...</td>\n",
       "      <td>(X)</td>\n",
       "      <td>(X)</td>\n",
       "      <td>(X)</td>\n",
       "      <td>(X)</td>\n",
       "      <td>16879</td>\n",
       "      <td>200</td>\n",
       "      <td>(X)</td>\n",
       "      <td>(X)</td>\n",
       "      <td>(X)</td>\n",
       "      <td>(X)</td>\n",
       "    </tr>\n",
       "    <tr>\n",
       "      <th>1</th>\n",
       "      <td>1978</td>\n",
       "      <td>1100</td>\n",
       "      <td>b) 1</td>\n",
       "      <td>3043</td>\n",
       "      <td>3075</td>\n",
       "      <td>16199</td>\n",
       "      <td>17413</td>\n",
       "      <td>15</td>\n",
       "      <td>0.402</td>\n",
       "      <td>1334</td>\n",
       "      <td>...</td>\n",
       "      <td>5709</td>\n",
       "      <td>2637</td>\n",
       "      <td>32.787</td>\n",
       "      <td>47.931</td>\n",
       "      <td>-2342</td>\n",
       "      <td>-13.45</td>\n",
       "      <td>68.962</td>\n",
       "      <td>1019</td>\n",
       "      <td>1030</td>\n",
       "      <td>4821</td>\n",
       "    </tr>\n",
       "    <tr>\n",
       "      <th>2</th>\n",
       "      <td>1978</td>\n",
       "      <td>1100</td>\n",
       "      <td>c) 2</td>\n",
       "      <td>(X)</td>\n",
       "      <td>(X)</td>\n",
       "      <td>(X)</td>\n",
       "      <td>(X)</td>\n",
       "      <td>(X)</td>\n",
       "      <td>(X)</td>\n",
       "      <td>(X)</td>\n",
       "      <td>...</td>\n",
       "      <td>(X)</td>\n",
       "      <td>(X)</td>\n",
       "      <td>(X)</td>\n",
       "      <td>(X)</td>\n",
       "      <td>(X)</td>\n",
       "      <td>(X)</td>\n",
       "      <td>(X)</td>\n",
       "      <td>(X)</td>\n",
       "      <td>(X)</td>\n",
       "      <td>(X)</td>\n",
       "    </tr>\n",
       "    <tr>\n",
       "      <th>3</th>\n",
       "      <td>1978</td>\n",
       "      <td>1100</td>\n",
       "      <td>d) 3</td>\n",
       "      <td>(X)</td>\n",
       "      <td>(X)</td>\n",
       "      <td>(X)</td>\n",
       "      <td>(X)</td>\n",
       "      <td>(X)</td>\n",
       "      <td>(X)</td>\n",
       "      <td>(X)</td>\n",
       "      <td>...</td>\n",
       "      <td>(X)</td>\n",
       "      <td>(X)</td>\n",
       "      <td>(X)</td>\n",
       "      <td>(X)</td>\n",
       "      <td>(X)</td>\n",
       "      <td>(X)</td>\n",
       "      <td>(X)</td>\n",
       "      <td>(X)</td>\n",
       "      <td>(X)</td>\n",
       "      <td>(X)</td>\n",
       "    </tr>\n",
       "    <tr>\n",
       "      <th>4</th>\n",
       "      <td>1978</td>\n",
       "      <td>1100</td>\n",
       "      <td>e) 4</td>\n",
       "      <td>(X)</td>\n",
       "      <td>(X)</td>\n",
       "      <td>(X)</td>\n",
       "      <td>(X)</td>\n",
       "      <td>(X)</td>\n",
       "      <td>(X)</td>\n",
       "      <td>(X)</td>\n",
       "      <td>...</td>\n",
       "      <td>(X)</td>\n",
       "      <td>(X)</td>\n",
       "      <td>(X)</td>\n",
       "      <td>(X)</td>\n",
       "      <td>(X)</td>\n",
       "      <td>(X)</td>\n",
       "      <td>(X)</td>\n",
       "      <td>(X)</td>\n",
       "      <td>(X)</td>\n",
       "      <td>(X)</td>\n",
       "    </tr>\n",
       "  </tbody>\n",
       "</table>\n",
       "<p>5 rows × 27 columns</p>\n",
       "</div>"
      ],
      "text/plain": [
       "   year  sector  fage firms estabs    emp  denom estabs_entry  \\\n",
       "0  1978    1100  a) 0  3911   3919  16879   8440         3919   \n",
       "1  1978    1100  b) 1  3043   3075  16199  17413           15   \n",
       "2  1978    1100  c) 2   (X)    (X)    (X)    (X)          (X)   \n",
       "3  1978    1100  d) 3   (X)    (X)    (X)    (X)          (X)   \n",
       "4  1978    1100  e) 4   (X)    (X)    (X)    (X)          (X)   \n",
       "\n",
       "  estabs_entry_rate estabs_exit  ... job_destruction_deaths  \\\n",
       "0               200         (X)  ...                    (X)   \n",
       "1             0.402        1334  ...                   5709   \n",
       "2               (X)         (X)  ...                    (X)   \n",
       "3               (X)         (X)  ...                    (X)   \n",
       "4               (X)         (X)  ...                    (X)   \n",
       "\n",
       "  job_destruction_continuers job_destruction_rate_deaths job_destruction_rate  \\\n",
       "0                        (X)                         (X)                  (X)   \n",
       "1                       2637                      32.787               47.931   \n",
       "2                        (X)                         (X)                  (X)   \n",
       "3                        (X)                         (X)                  (X)   \n",
       "4                        (X)                         (X)                  (X)   \n",
       "\n",
       "  net_job_creation net_job_creation_rate reallocation_rate firmdeath_firms  \\\n",
       "0            16879                   200               (X)             (X)   \n",
       "1            -2342                -13.45            68.962            1019   \n",
       "2              (X)                   (X)               (X)             (X)   \n",
       "3              (X)                   (X)               (X)             (X)   \n",
       "4              (X)                   (X)               (X)             (X)   \n",
       "\n",
       "  firmdeath_estabs firmdeath_emp  \n",
       "0              (X)           (X)  \n",
       "1             1030          4821  \n",
       "2              (X)           (X)  \n",
       "3              (X)           (X)  \n",
       "4              (X)           (X)  \n",
       "\n",
       "[5 rows x 27 columns]"
      ]
     },
     "execution_count": 61,
     "metadata": {},
     "output_type": "execute_result"
    }
   ],
   "source": [
    "gdp.head()"
   ]
  },
  {
   "cell_type": "code",
   "execution_count": 1,
   "metadata": {},
   "outputs": [],
   "source": [
    "list = [\"a\", \"b\"]\n",
    "list.append(\"c\")"
   ]
  },
  {
   "cell_type": "code",
   "execution_count": 2,
   "metadata": {},
   "outputs": [
    {
     "data": {
      "text/plain": [
       "['a', 'b', 'c']"
      ]
     },
     "execution_count": 2,
     "metadata": {},
     "output_type": "execute_result"
    }
   ],
   "source": [
    "list"
   ]
  },
  {
   "cell_type": "code",
   "execution_count": 3,
   "metadata": {},
   "outputs": [],
   "source": [
    "list1 = [\"c\"]"
   ]
  },
  {
   "cell_type": "code",
   "execution_count": 4,
   "metadata": {},
   "outputs": [
    {
     "data": {
      "text/plain": [
       "['c', 'a', 'b', 'c']"
      ]
     },
     "execution_count": 4,
     "metadata": {},
     "output_type": "execute_result"
    }
   ],
   "source": [
    "list1 + list"
   ]
  },
  {
   "cell_type": "code",
   "execution_count": 5,
   "metadata": {},
   "outputs": [
    {
     "data": {
      "text/plain": [
       "[['c'], ['a', 'b', 'c']]"
      ]
     },
     "execution_count": 5,
     "metadata": {},
     "output_type": "execute_result"
    }
   ],
   "source": [
    "[list1,list]"
   ]
  },
  {
   "cell_type": "code",
   "execution_count": 6,
   "metadata": {},
   "outputs": [
    {
     "data": {
      "text/plain": [
       "['f', 'a', 'b', 'c']"
      ]
     },
     "execution_count": 6,
     "metadata": {},
     "output_type": "execute_result"
    }
   ],
   "source": [
    "['f'] + list"
   ]
  },
  {
   "cell_type": "code",
   "execution_count": null,
   "metadata": {},
   "outputs": [],
   "source": []
  }
 ],
 "metadata": {
  "interpreter": {
   "hash": "44599b0862bddee82dc23b9f63c3260e42dbe4d929625556e76cc4b2957ef2fe"
  },
  "kernelspec": {
   "display_name": "Python 3.10.4 ('RFE_project-5yjSZlxr')",
   "language": "python",
   "name": "python3"
  },
  "language_info": {
   "codemirror_mode": {
    "name": "ipython",
    "version": 3
   },
   "file_extension": ".py",
   "mimetype": "text/x-python",
   "name": "python",
   "nbconvert_exporter": "python",
   "pygments_lexer": "ipython3",
   "version": "3.10.4"
  },
  "orig_nbformat": 4
 },
 "nbformat": 4,
 "nbformat_minor": 2
}
